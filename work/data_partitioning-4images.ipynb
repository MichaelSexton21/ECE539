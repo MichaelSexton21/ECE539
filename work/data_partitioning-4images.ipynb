{
 "cells": [
  {
   "cell_type": "code",
   "execution_count": 1,
   "id": "iJ8-lTOCv7jE",
   "metadata": {
    "colab": {
     "base_uri": "https://localhost:8080/"
    },
    "executionInfo": {
     "elapsed": 5689,
     "status": "ok",
     "timestamp": 1651368443629,
     "user": {
      "displayName": "Michael Sexton",
      "userId": "09137214739961364308"
     },
     "user_tz": 300
    },
    "id": "iJ8-lTOCv7jE",
    "outputId": "fca9686f-ffe9-4cfa-d28d-48f61ab4b63f"
   },
   "outputs": [],
   "source": [
    "# !pip install reverse_geocoder"
   ]
  },
  {
   "cell_type": "markdown",
   "id": "Yk5Qd8ur2xHE",
   "metadata": {
    "id": "Yk5Qd8ur2xHE"
   },
   "source": [
    "### Imports and paths"
   ]
  },
  {
   "cell_type": "code",
   "execution_count": 2,
   "id": "ioU7MlpO2twa",
   "metadata": {
    "colab": {
     "base_uri": "https://localhost:8080/"
    },
    "executionInfo": {
     "elapsed": 817,
     "status": "ok",
     "timestamp": 1651368444441,
     "user": {
      "displayName": "Michael Sexton",
      "userId": "09137214739961364308"
     },
     "user_tz": 300
    },
    "id": "ioU7MlpO2twa",
    "outputId": "4472e123-806c-4627-9db4-a53ea3d4c8f0"
   },
   "outputs": [],
   "source": [
    "# img_dir = \"drive/MyDrive/Colab Notebooks/project/data/images/\"\n",
    "# data_dir = \"drive/MyDrive/Colab Notebooks/project/data/\"\n",
    "img_dir = \"../data/images/\"\n",
    "data_dir = \"../data/\"\n",
    "from scipy.io import loadmat\n",
    "# from google.colab import drive \n",
    "# drive.mount('/content/drive')"
   ]
  },
  {
   "cell_type": "markdown",
   "id": "D3x0ldyH224e",
   "metadata": {
    "id": "D3x0ldyH224e"
   },
   "source": [
    "### Load Coordinates\n",
    "Each index corresponds to the name of the img files"
   ]
  },
  {
   "cell_type": "code",
   "execution_count": 3,
   "id": "1b104684-0c98-41f9-b79c-a3dc885385fd",
   "metadata": {
    "executionInfo": {
     "elapsed": 8,
     "status": "ok",
     "timestamp": 1651368444441,
     "user": {
      "displayName": "Michael Sexton",
      "userId": "09137214739961364308"
     },
     "user_tz": 300
    },
    "id": "1b104684-0c98-41f9-b79c-a3dc885385fd"
   },
   "outputs": [],
   "source": [
    "coordinates = loadmat(data_dir + \"GPS_Long_Lat_Compass.mat\")[\"GPS_Compass\"] # Coordinates. Each coordinate corresponds to 6 pictures\n"
   ]
  },
  {
   "cell_type": "code",
   "execution_count": 4,
   "id": "03a7c139-976a-4421-a645-0d378ae46e05",
   "metadata": {
    "colab": {
     "base_uri": "https://localhost:8080/"
    },
    "executionInfo": {
     "elapsed": 7,
     "status": "ok",
     "timestamp": 1651368444441,
     "user": {
      "displayName": "Michael Sexton",
      "userId": "09137214739961364308"
     },
     "user_tz": 300
    },
    "id": "03a7c139-976a-4421-a645-0d378ae46e05",
    "outputId": "f1252230-e66a-43ea-f57c-6cd337786ac6"
   },
   "outputs": [
    {
     "data": {
      "text/plain": [
       "array([[ 40.440309, -80.      , 115.74    ],\n",
       "       [ 40.440271, -80.0068  , 119.24    ],\n",
       "       [ 40.440229, -80.0067  , 118.96    ],\n",
       "       ...,\n",
       "       [ 40.730845, -74.001541,   2.49    ],\n",
       "       [ 40.730932, -74.00149 ,   2.35    ],\n",
       "       [ 40.731051, -74.00142 ,   2.21    ]])"
      ]
     },
     "execution_count": 4,
     "metadata": {},
     "output_type": "execute_result"
    }
   ],
   "source": [
    "coordinates"
   ]
  },
  {
   "cell_type": "markdown",
   "id": "UOCey-6_3DoV",
   "metadata": {
    "id": "UOCey-6_3DoV"
   },
   "source": [
    "### Read the file structure and load all the paths of the image files into an array and save to .pkl file"
   ]
  },
  {
   "cell_type": "code",
   "execution_count": 5,
   "id": "LY9RDYE3ZeYI",
   "metadata": {
    "executionInfo": {
     "elapsed": 2403,
     "status": "ok",
     "timestamp": 1651368446839,
     "user": {
      "displayName": "Michael Sexton",
      "userId": "09137214739961364308"
     },
     "user_tz": 300
    },
    "id": "LY9RDYE3ZeYI"
   },
   "outputs": [],
   "source": [
    "## Only needs to be run once. Output saved in pkl file\n",
    "# from os import listdir\n",
    "# from os.path import isfile, join\n",
    "# img_files = [f for f in listdir(img_dir) if isfile(join(img_dir, f))] # Names of all images in the folder\n",
    "# import pickle\n",
    "# with open(data_dir + 'img_paths.pkl', 'wb') as f:\n",
    "#   pickle.dump(sorted(img_files), f)"
   ]
  },
  {
   "cell_type": "markdown",
   "id": "NO6hkhgk3Nxp",
   "metadata": {
    "id": "NO6hkhgk3Nxp"
   },
   "source": [
    "### Load img path "
   ]
  },
  {
   "cell_type": "code",
   "execution_count": 6,
   "id": "3vrmfzLOaIDo",
   "metadata": {
    "colab": {
     "base_uri": "https://localhost:8080/"
    },
    "executionInfo": {
     "elapsed": 6,
     "status": "ok",
     "timestamp": 1651368446840,
     "user": {
      "displayName": "Michael Sexton",
      "userId": "09137214739961364308"
     },
     "user_tz": 300
    },
    "id": "3vrmfzLOaIDo",
    "outputId": "2378872a-dd48-4f4b-a509-6778a516ddf6"
   },
   "outputs": [
    {
     "data": {
      "text/plain": [
       "['000001_0.jpg',\n",
       " '000001_1.jpg',\n",
       " '000001_2.jpg',\n",
       " '000001_3.jpg',\n",
       " '000001_4.jpg']"
      ]
     },
     "execution_count": 6,
     "metadata": {},
     "output_type": "execute_result"
    }
   ],
   "source": [
    "import pickle\n",
    "with open(data_dir + 'img_paths.pkl', 'rb') as f:\n",
    "  img_files = pickle.load(f)\n",
    "\n",
    "img_files[:5]"
   ]
  },
  {
   "cell_type": "markdown",
   "id": "QB58aWycgYa8",
   "metadata": {
    "id": "QB58aWycgYa8"
   },
   "source": [
    "### Return an array containing only the coordinates in NY and their img paths\n"
   ]
  },
  {
   "cell_type": "code",
   "execution_count": 7,
   "id": "3ccbe298-6e50-40ce-bf42-8ae9fafe3bf2",
   "metadata": {
    "executionInfo": {
     "elapsed": 172,
     "status": "ok",
     "timestamp": 1651368447008,
     "user": {
      "displayName": "Michael Sexton",
      "userId": "09137214739961364308"
     },
     "user_tz": 300
    },
    "id": "3ccbe298-6e50-40ce-bf42-8ae9fafe3bf2"
   },
   "outputs": [],
   "source": [
    "### Returns an array of True/False if the coordinate is in a given state\n",
    "### coordinates: An array of coordinates\n",
    "### state: Full name of the state. ex= \"New York\"\n",
    "import reverse_geocoder\n",
    "def get_coordinates_in_state(coordinates, state):\n",
    "    coords = [(lat,long) for lat,long,ele in coordinates]\n",
    "    results = reverse_geocoder.search(coords, mode=2)\n",
    "    state = [x['admin1']==state for x in results]\n",
    "    return state"
   ]
  },
  {
   "cell_type": "code",
   "execution_count": 8,
   "id": "deeafb07-bd0b-4fbe-879c-e6eeb3ea6558",
   "metadata": {
    "colab": {
     "base_uri": "https://localhost:8080/"
    },
    "executionInfo": {
     "elapsed": 3272,
     "status": "ok",
     "timestamp": 1651368450280,
     "user": {
      "displayName": "Michael Sexton",
      "userId": "09137214739961364308"
     },
     "user_tz": 300
    },
    "id": "deeafb07-bd0b-4fbe-879c-e6eeb3ea6558",
    "outputId": "e12d7e4b-8c1a-4e5a-fc9f-f9e110e039be"
   },
   "outputs": [
    {
     "name": "stdout",
     "output_type": "stream",
     "text": [
      "Loading formatted geocoded file...\n"
     ]
    },
    {
     "data": {
      "text/plain": [
       "[False, False, False, False, False]"
      ]
     },
     "execution_count": 8,
     "metadata": {},
     "output_type": "execute_result"
    }
   ],
   "source": [
    "in_ny = get_coordinates_in_state(coordinates=coordinates, state=\"New York\") # All coordinates in NY\n",
    "in_ny[:5]"
   ]
  },
  {
   "cell_type": "markdown",
   "id": "IamqFnyk3aTa",
   "metadata": {
    "id": "IamqFnyk3aTa"
   },
   "source": [
    "### Join Image names with coordinates\n"
   ]
  },
  {
   "cell_type": "code",
   "execution_count": 9,
   "id": "X0MiDmtO3ey4",
   "metadata": {
    "colab": {
     "base_uri": "https://localhost:8080/",
     "height": 239
    },
    "executionInfo": {
     "elapsed": 552,
     "status": "error",
     "timestamp": 1651368450829,
     "user": {
      "displayName": "Michael Sexton",
      "userId": "09137214739961364308"
     },
     "user_tz": 300
    },
    "id": "X0MiDmtO3ey4",
    "outputId": "fa49105d-4a6c-46e5-9790-96578b298fe3"
   },
   "outputs": [
    {
     "data": {
      "text/plain": [
       "[['004403_1.jpg', [array([ 40.74847 , -73.971083, 300.12    ])]],\n",
       " ['004403_2.jpg', [array([ 40.74847 , -73.971083, 300.12    ])]],\n",
       " ['004403_3.jpg', [array([ 40.74847 , -73.971083, 300.12    ])]],\n",
       " ['004403_4.jpg', [array([ 40.74847 , -73.971083, 300.12    ])]],\n",
       " ['004404_1.jpg', [array([ 40.748518, -73.971197, 300.12    ])]],\n",
       " ['004404_2.jpg', [array([ 40.748518, -73.971197, 300.12    ])]],\n",
       " ['004404_3.jpg', [array([ 40.748518, -73.971197, 300.12    ])]],\n",
       " ['004404_4.jpg', [array([ 40.748518, -73.971197, 300.12    ])]],\n",
       " ['004405_1.jpg', [array([ 40.748566, -73.971308, 300.12    ])]],\n",
       " ['004405_2.jpg', [array([ 40.748566, -73.971308, 300.12    ])]]]"
      ]
     },
     "execution_count": 9,
     "metadata": {},
     "output_type": "execute_result"
    }
   ],
   "source": [
    "### Orders data as [img_name, [lattitude, longitude, direction]]\n",
    "data = []\n",
    "img_idx = 0;\n",
    "ny_idx = 0;\n",
    "for i in range(len(coordinates)):\n",
    "    if in_ny[ny_idx]:\n",
    "        # data.append([img_files[img_idx],[coordinates[i]]])\n",
    "        data.append([img_files[img_idx+1],[coordinates[i]]])\n",
    "        data.append([img_files[img_idx+2],[coordinates[i]]])\n",
    "        data.append([img_files[img_idx+3],[coordinates[i]]])\n",
    "        data.append([img_files[img_idx+4],[coordinates[i]]])\n",
    "        #data.append([img_files[img_idx+5],[coordinates[i]]])\n",
    "    ny_idx+=1\n",
    "    img_idx+=6\n",
    "    \n",
    "data[:10]"
   ]
  },
  {
   "cell_type": "code",
   "execution_count": 10,
   "id": "fW3XrcnJC2rJ",
   "metadata": {
    "executionInfo": {
     "elapsed": 190,
     "status": "aborted",
     "timestamp": 1651368450658,
     "user": {
      "displayName": "Michael Sexton",
      "userId": "09137214739961364308"
     },
     "user_tz": 300
    },
    "id": "fW3XrcnJC2rJ"
   },
   "outputs": [
    {
     "data": {
      "text/plain": [
       "[['004403_1.jpg', 0],\n",
       " ['004403_2.jpg', 0],\n",
       " ['004403_3.jpg', 0],\n",
       " ['004403_4.jpg', 0],\n",
       " ['004404_1.jpg', 0],\n",
       " ['004404_2.jpg', 0],\n",
       " ['004404_3.jpg', 0],\n",
       " ['004404_4.jpg', 0],\n",
       " ['004405_1.jpg', 0],\n",
       " ['004405_2.jpg', 0]]"
      ]
     },
     "execution_count": 10,
     "metadata": {},
     "output_type": "execute_result"
    }
   ],
   "source": [
    "ny_img = [x[0] for x in data]\n",
    "data = [[ny_img[i],0] for i in range(len(ny_img))]\n",
    "data[:10]"
   ]
  },
  {
   "cell_type": "markdown",
   "id": "nWLtjPDM9EPL",
   "metadata": {
    "id": "nWLtjPDM9EPL"
   },
   "source": [
    "### Save NY Data"
   ]
  },
  {
   "cell_type": "code",
   "execution_count": 11,
   "id": "685f4567-0136-4248-82bc-f7b25d38d709",
   "metadata": {
    "executionInfo": {
     "elapsed": 191,
     "status": "aborted",
     "timestamp": 1651368450659,
     "user": {
      "displayName": "Michael Sexton",
      "userId": "09137214739961364308"
     },
     "user_tz": 300
    },
    "id": "685f4567-0136-4248-82bc-f7b25d38d709"
   },
   "outputs": [],
   "source": [
    "import pickle\n",
    "with open(data_dir + 'ny_img_paths-4images.pkl', 'wb') as f:\n",
    "  pickle.dump(data, f)"
   ]
  },
  {
   "cell_type": "markdown",
   "id": "R-2XQFcY9SBp",
   "metadata": {
    "id": "R-2XQFcY9SBp"
   },
   "source": [
    "### Get and Save Florida Data"
   ]
  },
  {
   "cell_type": "code",
   "execution_count": 12,
   "id": "o8Sp2mDP9SR8",
   "metadata": {
    "executionInfo": {
     "elapsed": 192,
     "status": "aborted",
     "timestamp": 1651368450660,
     "user": {
      "displayName": "Michael Sexton",
      "userId": "09137214739961364308"
     },
     "user_tz": 300
    },
    "id": "o8Sp2mDP9SR8"
   },
   "outputs": [
    {
     "data": {
      "text/plain": [
       "[False, False, False, False, False]"
      ]
     },
     "execution_count": 12,
     "metadata": {},
     "output_type": "execute_result"
    }
   ],
   "source": [
    "in_fl = get_coordinates_in_state(coordinates=coordinates, state=\"Florida\") # All coordinates in Florida\n",
    "in_fl[:5]"
   ]
  },
  {
   "cell_type": "code",
   "execution_count": 13,
   "id": "jAv6LqFM9QK3",
   "metadata": {
    "executionInfo": {
     "elapsed": 191,
     "status": "aborted",
     "timestamp": 1651368450660,
     "user": {
      "displayName": "Michael Sexton",
      "userId": "09137214739961364308"
     },
     "user_tz": 300
    },
    "id": "jAv6LqFM9QK3"
   },
   "outputs": [
    {
     "data": {
      "text/plain": [
       "[['003079_1.jpg', [array([ 28.543893, -81.381796, 359.27    ])]],\n",
       " ['003079_2.jpg', [array([ 28.543893, -81.381796, 359.27    ])]],\n",
       " ['003079_3.jpg', [array([ 28.543893, -81.381796, 359.27    ])]],\n",
       " ['003079_4.jpg', [array([ 28.543893, -81.381796, 359.27    ])]],\n",
       " ['003080_1.jpg', [array([ 28.544009, -81.381796,   2.77    ])]],\n",
       " ['003080_2.jpg', [array([ 28.544009, -81.381796,   2.77    ])]],\n",
       " ['003080_3.jpg', [array([ 28.544009, -81.381796,   2.77    ])]],\n",
       " ['003080_4.jpg', [array([ 28.544009, -81.381796,   2.77    ])]],\n",
       " ['003081_1.jpg', [array([ 28.544141, -81.381795,   2.49    ])]],\n",
       " ['003081_2.jpg', [array([ 28.544141, -81.381795,   2.49    ])]]]"
      ]
     },
     "execution_count": 13,
     "metadata": {},
     "output_type": "execute_result"
    }
   ],
   "source": [
    "### Orders data as [img_name, [lattitude, longitude, direction]]\n",
    "data = []\n",
    "img_idx = 0;\n",
    "fl_idx = 0;\n",
    "for i in range(len(coordinates)):\n",
    "    if in_fl[fl_idx]:\n",
    "        # data.append([img_files[img_idx],[coordinates[i]]])\n",
    "        data.append([img_files[img_idx+1],[coordinates[i]]])\n",
    "        data.append([img_files[img_idx+2],[coordinates[i]]])\n",
    "        data.append([img_files[img_idx+3],[coordinates[i]]])\n",
    "        data.append([img_files[img_idx+4],[coordinates[i]]])\n",
    "        #data.append([img_files[img_idx+5],[coordinates[i]]])\n",
    "    fl_idx+=1\n",
    "    img_idx+=6\n",
    "    \n",
    "data[:10]"
   ]
  },
  {
   "cell_type": "code",
   "execution_count": 14,
   "id": "0ijEargjEMMz",
   "metadata": {
    "executionInfo": {
     "elapsed": 192,
     "status": "aborted",
     "timestamp": 1651368450661,
     "user": {
      "displayName": "Michael Sexton",
      "userId": "09137214739961364308"
     },
     "user_tz": 300
    },
    "id": "0ijEargjEMMz"
   },
   "outputs": [
    {
     "data": {
      "text/plain": [
       "[['003079_1.jpg', 1],\n",
       " ['003079_2.jpg', 1],\n",
       " ['003079_3.jpg', 1],\n",
       " ['003079_4.jpg', 1],\n",
       " ['003080_1.jpg', 1],\n",
       " ['003080_2.jpg', 1],\n",
       " ['003080_3.jpg', 1],\n",
       " ['003080_4.jpg', 1],\n",
       " ['003081_1.jpg', 1],\n",
       " ['003081_2.jpg', 1]]"
      ]
     },
     "execution_count": 14,
     "metadata": {},
     "output_type": "execute_result"
    }
   ],
   "source": [
    "fl_img = [x[0] for x in data]\n",
    "data = [[fl_img[i],1] for i in range(len(fl_img))]\n",
    "data[:10]"
   ]
  },
  {
   "cell_type": "code",
   "execution_count": 15,
   "id": "Re2WGyUD9mbm",
   "metadata": {
    "executionInfo": {
     "elapsed": 193,
     "status": "aborted",
     "timestamp": 1651368450662,
     "user": {
      "displayName": "Michael Sexton",
      "userId": "09137214739961364308"
     },
     "user_tz": 300
    },
    "id": "Re2WGyUD9mbm"
   },
   "outputs": [],
   "source": [
    "import pickle\n",
    "with open(data_dir + 'fl_img_paths-4images.pkl', 'wb') as f:\n",
    "  pickle.dump(data, f)"
   ]
  },
  {
   "cell_type": "markdown",
   "id": "QPOYlxC39o22",
   "metadata": {
    "id": "QPOYlxC39o22"
   },
   "source": [
    "### Get and Save Pennsylvania Data"
   ]
  },
  {
   "cell_type": "code",
   "execution_count": 16,
   "id": "YJ7EWwm29nlN",
   "metadata": {
    "executionInfo": {
     "elapsed": 12,
     "status": "aborted",
     "timestamp": 1651368450663,
     "user": {
      "displayName": "Michael Sexton",
      "userId": "09137214739961364308"
     },
     "user_tz": 300
    },
    "id": "YJ7EWwm29nlN"
   },
   "outputs": [
    {
     "data": {
      "text/plain": [
       "[True, True, True, True, True]"
      ]
     },
     "execution_count": 16,
     "metadata": {},
     "output_type": "execute_result"
    }
   ],
   "source": [
    "in_penn = get_coordinates_in_state(coordinates=coordinates, state=\"Pennsylvania\") # All coordinates in Pennsylvania\n",
    "in_penn[:5]"
   ]
  },
  {
   "cell_type": "code",
   "execution_count": 17,
   "id": "6O2UTDhP9zgP",
   "metadata": {
    "executionInfo": {
     "elapsed": 11,
     "status": "aborted",
     "timestamp": 1651368450663,
     "user": {
      "displayName": "Michael Sexton",
      "userId": "09137214739961364308"
     },
     "user_tz": 300
    },
    "id": "6O2UTDhP9zgP"
   },
   "outputs": [
    {
     "data": {
      "text/plain": [
       "[['000001_1.jpg', [array([ 40.440309, -80.      , 115.74    ])]],\n",
       " ['000001_2.jpg', [array([ 40.440309, -80.      , 115.74    ])]],\n",
       " ['000001_3.jpg', [array([ 40.440309, -80.      , 115.74    ])]],\n",
       " ['000001_4.jpg', [array([ 40.440309, -80.      , 115.74    ])]],\n",
       " ['000002_1.jpg', [array([ 40.440271, -80.0068  , 119.24    ])]],\n",
       " ['000002_2.jpg', [array([ 40.440271, -80.0068  , 119.24    ])]],\n",
       " ['000002_3.jpg', [array([ 40.440271, -80.0068  , 119.24    ])]],\n",
       " ['000002_4.jpg', [array([ 40.440271, -80.0068  , 119.24    ])]],\n",
       " ['000003_1.jpg', [array([ 40.440229, -80.0067  , 118.96    ])]],\n",
       " ['000003_2.jpg', [array([ 40.440229, -80.0067  , 118.96    ])]]]"
      ]
     },
     "execution_count": 17,
     "metadata": {},
     "output_type": "execute_result"
    }
   ],
   "source": [
    "### Orders data as [img_name, [lattitude, longitude, direction]]\n",
    "data = []\n",
    "img_idx = 0;\n",
    "penn_idx = 0;\n",
    "for i in range(len(coordinates)):\n",
    "    if in_penn[penn_idx]:\n",
    "        # data.append([img_files[img_idx],[coordinates[i]]])\n",
    "        data.append([img_files[img_idx+1],[coordinates[i]]])\n",
    "        data.append([img_files[img_idx+2],[coordinates[i]]])\n",
    "        data.append([img_files[img_idx+3],[coordinates[i]]])\n",
    "        data.append([img_files[img_idx+4],[coordinates[i]]])\n",
    "        #data.append([img_files[img_idx+5],[coordinates[i]]])\n",
    "    penn_idx+=1\n",
    "    img_idx+=6\n",
    "    \n",
    "data[:10]"
   ]
  },
  {
   "cell_type": "code",
   "execution_count": 18,
   "id": "CJMjcN4qEVE_",
   "metadata": {
    "executionInfo": {
     "elapsed": 12,
     "status": "aborted",
     "timestamp": 1651368450664,
     "user": {
      "displayName": "Michael Sexton",
      "userId": "09137214739961364308"
     },
     "user_tz": 300
    },
    "id": "CJMjcN4qEVE_"
   },
   "outputs": [
    {
     "data": {
      "text/plain": [
       "[['000001_1.jpg', 2],\n",
       " ['000001_2.jpg', 2],\n",
       " ['000001_3.jpg', 2],\n",
       " ['000001_4.jpg', 2],\n",
       " ['000002_1.jpg', 2],\n",
       " ['000002_2.jpg', 2],\n",
       " ['000002_3.jpg', 2],\n",
       " ['000002_4.jpg', 2],\n",
       " ['000003_1.jpg', 2],\n",
       " ['000003_2.jpg', 2]]"
      ]
     },
     "execution_count": 18,
     "metadata": {},
     "output_type": "execute_result"
    }
   ],
   "source": [
    "penn_img = [x[0] for x in data]\n",
    "data = [[penn_img[i],2] for i in range(len(penn_img))]\n",
    "data[:10]"
   ]
  },
  {
   "cell_type": "code",
   "execution_count": 19,
   "id": "4q4hLVrt94g0",
   "metadata": {
    "executionInfo": {
     "elapsed": 12,
     "status": "aborted",
     "timestamp": 1651368450665,
     "user": {
      "displayName": "Michael Sexton",
      "userId": "09137214739961364308"
     },
     "user_tz": 300
    },
    "id": "4q4hLVrt94g0"
   },
   "outputs": [],
   "source": [
    "import pickle\n",
    "with open(data_dir + 'penn_img_paths-4images.pkl', 'wb') as f:\n",
    "  pickle.dump(data, f)"
   ]
  },
  {
   "cell_type": "code",
   "execution_count": 20,
   "id": "OhCFWscV99x6",
   "metadata": {
    "executionInfo": {
     "elapsed": 172,
     "status": "aborted",
     "timestamp": 1651368450825,
     "user": {
      "displayName": "Michael Sexton",
      "userId": "09137214739961364308"
     },
     "user_tz": 300
    },
    "id": "OhCFWscV99x6"
   },
   "outputs": [
    {
     "name": "stdout",
     "output_type": "stream",
     "text": [
      "NY Images:  18924\n",
      "PENN Images:  12312\n",
      "FL Images:  5296\n",
      "Total Images:  36532\n",
      "Len Coordinates:  62058\n"
     ]
    }
   ],
   "source": [
    "print(\"NY Images: \", len(ny_img))\n",
    "print(\"PENN Images: \", len(penn_img))\n",
    "print(\"FL Images: \", len(fl_img))\n",
    "print(\"Total Images: \", len(ny_img) + len(penn_img) + len(fl_img))\n",
    "print(\"Len Coordinates: \", len(coordinates)*6)"
   ]
  },
  {
   "cell_type": "code",
   "execution_count": 21,
   "id": "GCUkzqFsKiRS",
   "metadata": {
    "executionInfo": {
     "elapsed": 172,
     "status": "aborted",
     "timestamp": 1651368450825,
     "user": {
      "displayName": "Michael Sexton",
      "userId": "09137214739961364308"
     },
     "user_tz": 300
    },
    "id": "GCUkzqFsKiRS"
   },
   "outputs": [],
   "source": [
    "import os\n",
    "from tqdm import tqdm\n",
    "import shutil\n",
    "# img_dir = \"drive/MyDrive/Colab Notebooks/project/data/images/\"\n",
    "# ny_dir = \"drive/MyDrive/Colab Notebooks/project/data/NY_IMAGES/\"\n",
    "# fl_dir = \"drive/MyDrive/Colab Notebooks/project/data/FL_IMAGES/\"\n",
    "# penn_dir = \"drive/MyDrive/Colab Notebooks/project/data/PENN_IMAGES/\"\n",
    "img_dir = \"../data/IMAGES/\"\n",
    "ny_dir = \"../data/NY_IMAGES-4/\"\n",
    "fl_dir = \"../data/FL_IMAGES-4/\"\n",
    "penn_dir = \"../data/PENN_IMAGES-4/\""
   ]
  },
  {
   "cell_type": "markdown",
   "id": "I9CjoOVtKppb",
   "metadata": {
    "id": "I9CjoOVtKppb"
   },
   "source": [
    "### Move all Images "
   ]
  },
  {
   "cell_type": "code",
   "execution_count": 22,
   "id": "AxFSJhs7Fb9K",
   "metadata": {
    "executionInfo": {
     "elapsed": 173,
     "status": "aborted",
     "timestamp": 1651368450826,
     "user": {
      "displayName": "Michael Sexton",
      "userId": "09137214739961364308"
     },
     "user_tz": 300
    },
    "id": "AxFSJhs7Fb9K"
   },
   "outputs": [
    {
     "name": "stderr",
     "output_type": "stream",
     "text": [
      "100%|██████████| 18924/18924 [02:02<00:00, 154.04it/s]\n"
     ]
    }
   ],
   "source": [
    "for img in tqdm(ny_img):\n",
    "    shutil.copyfile(img_dir + img, ny_dir + img)"
   ]
  },
  {
   "cell_type": "code",
   "execution_count": 24,
   "id": "wrctAqW1Kj8B",
   "metadata": {
    "executionInfo": {
     "elapsed": 172,
     "status": "aborted",
     "timestamp": 1651368450826,
     "user": {
      "displayName": "Michael Sexton",
      "userId": "09137214739961364308"
     },
     "user_tz": 300
    },
    "id": "wrctAqW1Kj8B"
   },
   "outputs": [
    {
     "name": "stderr",
     "output_type": "stream",
     "text": [
      "100%|██████████| 5296/5296 [00:32<00:00, 163.80it/s]\n"
     ]
    }
   ],
   "source": [
    "for img in tqdm(fl_img):\n",
    "  # os.rename(img_dir + img, fl_dir + img)\n",
    "    shutil.copyfile(img_dir + img, fl_dir + img)"
   ]
  },
  {
   "cell_type": "code",
   "execution_count": 26,
   "id": "XWe3TzosKkJI",
   "metadata": {
    "executionInfo": {
     "elapsed": 172,
     "status": "aborted",
     "timestamp": 1651368450826,
     "user": {
      "displayName": "Michael Sexton",
      "userId": "09137214739961364308"
     },
     "user_tz": 300
    },
    "id": "XWe3TzosKkJI"
   },
   "outputs": [
    {
     "name": "stderr",
     "output_type": "stream",
     "text": [
      "100%|██████████| 12312/12312 [01:11<00:00, 171.71it/s]\n"
     ]
    }
   ],
   "source": [
    "for img in tqdm(penn_img):\n",
    "    # os.rename(img_dir + img, penn_dir + img)\n",
    "    shutil.copyfile(img_dir + img, penn_dir + img)"
   ]
  },
  {
   "cell_type": "code",
   "execution_count": null,
   "id": "e7159907-f026-4f9b-a179-60b78457f245",
   "metadata": {},
   "outputs": [],
   "source": []
  }
 ],
 "metadata": {
  "colab": {
   "name": "data_partitioning.ipynb",
   "provenance": []
  },
  "kernelspec": {
   "display_name": "Python 3 (ipykernel)",
   "language": "python",
   "name": "python3"
  },
  "language_info": {
   "codemirror_mode": {
    "name": "ipython",
    "version": 3
   },
   "file_extension": ".py",
   "mimetype": "text/x-python",
   "name": "python",
   "nbconvert_exporter": "python",
   "pygments_lexer": "ipython3",
   "version": "3.8.8"
  }
 },
 "nbformat": 4,
 "nbformat_minor": 5
}
