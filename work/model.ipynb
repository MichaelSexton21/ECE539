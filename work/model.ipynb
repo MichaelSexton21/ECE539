{
  "cells": [
    {
      "cell_type": "code",
      "source": [
        "!pip install reverse_geocoder"
      ],
      "metadata": {
        "id": "egEfrE2uLXZV",
        "outputId": "c404f764-18c2-495f-b759-ddebbc7d4a5e",
        "colab": {
          "base_uri": "https://localhost:8080/"
        }
      },
      "execution_count": null,
      "outputs": [
        {
          "output_type": "stream",
          "name": "stdout",
          "text": [
            "Collecting reverse_geocoder\n",
            "  Downloading reverse_geocoder-1.5.1.tar.gz (2.2 MB)\n",
            "\u001b[?25l\r\u001b[K     |▏                               | 10 kB 38.2 MB/s eta 0:00:01\r\u001b[K     |▎                               | 20 kB 40.9 MB/s eta 0:00:01\r\u001b[K     |▍                               | 30 kB 44.8 MB/s eta 0:00:01\r\u001b[K     |▋                               | 40 kB 33.5 MB/s eta 0:00:01\r\u001b[K     |▊                               | 51 kB 33.1 MB/s eta 0:00:01\r\u001b[K     |▉                               | 61 kB 37.0 MB/s eta 0:00:01\r\u001b[K     |█                               | 71 kB 29.3 MB/s eta 0:00:01\r\u001b[K     |█▏                              | 81 kB 30.5 MB/s eta 0:00:01\r\u001b[K     |█▎                              | 92 kB 32.6 MB/s eta 0:00:01\r\u001b[K     |█▌                              | 102 kB 34.4 MB/s eta 0:00:01\r\u001b[K     |█▋                              | 112 kB 34.4 MB/s eta 0:00:01\r\u001b[K     |█▊                              | 122 kB 34.4 MB/s eta 0:00:01\r\u001b[K     |██                              | 133 kB 34.4 MB/s eta 0:00:01\r\u001b[K     |██                              | 143 kB 34.4 MB/s eta 0:00:01\r\u001b[K     |██▏                             | 153 kB 34.4 MB/s eta 0:00:01\r\u001b[K     |██▍                             | 163 kB 34.4 MB/s eta 0:00:01\r\u001b[K     |██▌                             | 174 kB 34.4 MB/s eta 0:00:01\r\u001b[K     |██▋                             | 184 kB 34.4 MB/s eta 0:00:01\r\u001b[K     |██▊                             | 194 kB 34.4 MB/s eta 0:00:01\r\u001b[K     |███                             | 204 kB 34.4 MB/s eta 0:00:01\r\u001b[K     |███                             | 215 kB 34.4 MB/s eta 0:00:01\r\u001b[K     |███▏                            | 225 kB 34.4 MB/s eta 0:00:01\r\u001b[K     |███▍                            | 235 kB 34.4 MB/s eta 0:00:01\r\u001b[K     |███▌                            | 245 kB 34.4 MB/s eta 0:00:01\r\u001b[K     |███▋                            | 256 kB 34.4 MB/s eta 0:00:01\r\u001b[K     |███▉                            | 266 kB 34.4 MB/s eta 0:00:01\r\u001b[K     |████                            | 276 kB 34.4 MB/s eta 0:00:01\r\u001b[K     |████                            | 286 kB 34.4 MB/s eta 0:00:01\r\u001b[K     |████▎                           | 296 kB 34.4 MB/s eta 0:00:01\r\u001b[K     |████▍                           | 307 kB 34.4 MB/s eta 0:00:01\r\u001b[K     |████▌                           | 317 kB 34.4 MB/s eta 0:00:01\r\u001b[K     |████▊                           | 327 kB 34.4 MB/s eta 0:00:01\r\u001b[K     |████▉                           | 337 kB 34.4 MB/s eta 0:00:01\r\u001b[K     |█████                           | 348 kB 34.4 MB/s eta 0:00:01\r\u001b[K     |█████                           | 358 kB 34.4 MB/s eta 0:00:01\r\u001b[K     |█████▎                          | 368 kB 34.4 MB/s eta 0:00:01\r\u001b[K     |█████▍                          | 378 kB 34.4 MB/s eta 0:00:01\r\u001b[K     |█████▌                          | 389 kB 34.4 MB/s eta 0:00:01\r\u001b[K     |█████▊                          | 399 kB 34.4 MB/s eta 0:00:01\r\u001b[K     |█████▉                          | 409 kB 34.4 MB/s eta 0:00:01\r\u001b[K     |██████                          | 419 kB 34.4 MB/s eta 0:00:01\r\u001b[K     |██████▏                         | 430 kB 34.4 MB/s eta 0:00:01\r\u001b[K     |██████▎                         | 440 kB 34.4 MB/s eta 0:00:01\r\u001b[K     |██████▍                         | 450 kB 34.4 MB/s eta 0:00:01\r\u001b[K     |██████▋                         | 460 kB 34.4 MB/s eta 0:00:01\r\u001b[K     |██████▊                         | 471 kB 34.4 MB/s eta 0:00:01\r\u001b[K     |██████▉                         | 481 kB 34.4 MB/s eta 0:00:01\r\u001b[K     |███████                         | 491 kB 34.4 MB/s eta 0:00:01\r\u001b[K     |███████▏                        | 501 kB 34.4 MB/s eta 0:00:01\r\u001b[K     |███████▎                        | 512 kB 34.4 MB/s eta 0:00:01\r\u001b[K     |███████▍                        | 522 kB 34.4 MB/s eta 0:00:01\r\u001b[K     |███████▋                        | 532 kB 34.4 MB/s eta 0:00:01\r\u001b[K     |███████▊                        | 542 kB 34.4 MB/s eta 0:00:01\r\u001b[K     |███████▉                        | 552 kB 34.4 MB/s eta 0:00:01\r\u001b[K     |████████                        | 563 kB 34.4 MB/s eta 0:00:01\r\u001b[K     |████████▏                       | 573 kB 34.4 MB/s eta 0:00:01\r\u001b[K     |████████▎                       | 583 kB 34.4 MB/s eta 0:00:01\r\u001b[K     |████████▌                       | 593 kB 34.4 MB/s eta 0:00:01\r\u001b[K     |████████▋                       | 604 kB 34.4 MB/s eta 0:00:01\r\u001b[K     |████████▊                       | 614 kB 34.4 MB/s eta 0:00:01\r\u001b[K     |█████████                       | 624 kB 34.4 MB/s eta 0:00:01\r\u001b[K     |█████████                       | 634 kB 34.4 MB/s eta 0:00:01\r\u001b[K     |█████████▏                      | 645 kB 34.4 MB/s eta 0:00:01\r\u001b[K     |█████████▍                      | 655 kB 34.4 MB/s eta 0:00:01\r\u001b[K     |█████████▌                      | 665 kB 34.4 MB/s eta 0:00:01\r\u001b[K     |█████████▋                      | 675 kB 34.4 MB/s eta 0:00:01\r\u001b[K     |█████████▊                      | 686 kB 34.4 MB/s eta 0:00:01\r\u001b[K     |██████████                      | 696 kB 34.4 MB/s eta 0:00:01\r\u001b[K     |██████████                      | 706 kB 34.4 MB/s eta 0:00:01\r\u001b[K     |██████████▏                     | 716 kB 34.4 MB/s eta 0:00:01\r\u001b[K     |██████████▍                     | 727 kB 34.4 MB/s eta 0:00:01\r\u001b[K     |██████████▌                     | 737 kB 34.4 MB/s eta 0:00:01\r\u001b[K     |██████████▋                     | 747 kB 34.4 MB/s eta 0:00:01\r\u001b[K     |██████████▉                     | 757 kB 34.4 MB/s eta 0:00:01\r\u001b[K     |███████████                     | 768 kB 34.4 MB/s eta 0:00:01\r\u001b[K     |███████████                     | 778 kB 34.4 MB/s eta 0:00:01\r\u001b[K     |███████████▎                    | 788 kB 34.4 MB/s eta 0:00:01\r\u001b[K     |███████████▍                    | 798 kB 34.4 MB/s eta 0:00:01\r\u001b[K     |███████████▌                    | 808 kB 34.4 MB/s eta 0:00:01\r\u001b[K     |███████████▊                    | 819 kB 34.4 MB/s eta 0:00:01\r\u001b[K     |███████████▉                    | 829 kB 34.4 MB/s eta 0:00:01\r\u001b[K     |████████████                    | 839 kB 34.4 MB/s eta 0:00:01\r\u001b[K     |████████████                    | 849 kB 34.4 MB/s eta 0:00:01\r\u001b[K     |████████████▎                   | 860 kB 34.4 MB/s eta 0:00:01\r\u001b[K     |████████████▍                   | 870 kB 34.4 MB/s eta 0:00:01\r\u001b[K     |████████████▌                   | 880 kB 34.4 MB/s eta 0:00:01\r\u001b[K     |████████████▊                   | 890 kB 34.4 MB/s eta 0:00:01\r\u001b[K     |████████████▉                   | 901 kB 34.4 MB/s eta 0:00:01\r\u001b[K     |█████████████                   | 911 kB 34.4 MB/s eta 0:00:01\r\u001b[K     |█████████████▏                  | 921 kB 34.4 MB/s eta 0:00:01\r\u001b[K     |█████████████▎                  | 931 kB 34.4 MB/s eta 0:00:01\r\u001b[K     |█████████████▍                  | 942 kB 34.4 MB/s eta 0:00:01\r\u001b[K     |█████████████▋                  | 952 kB 34.4 MB/s eta 0:00:01\r\u001b[K     |█████████████▊                  | 962 kB 34.4 MB/s eta 0:00:01\r\u001b[K     |█████████████▉                  | 972 kB 34.4 MB/s eta 0:00:01\r\u001b[K     |██████████████                  | 983 kB 34.4 MB/s eta 0:00:01\r\u001b[K     |██████████████▏                 | 993 kB 34.4 MB/s eta 0:00:01\r\u001b[K     |██████████████▎                 | 1.0 MB 34.4 MB/s eta 0:00:01\r\u001b[K     |██████████████▍                 | 1.0 MB 34.4 MB/s eta 0:00:01\r\u001b[K     |██████████████▋                 | 1.0 MB 34.4 MB/s eta 0:00:01\r\u001b[K     |██████████████▊                 | 1.0 MB 34.4 MB/s eta 0:00:01\r\u001b[K     |██████████████▉                 | 1.0 MB 34.4 MB/s eta 0:00:01\r\u001b[K     |███████████████                 | 1.1 MB 34.4 MB/s eta 0:00:01\r\u001b[K     |███████████████▏                | 1.1 MB 34.4 MB/s eta 0:00:01\r\u001b[K     |███████████████▎                | 1.1 MB 34.4 MB/s eta 0:00:01\r\u001b[K     |███████████████▌                | 1.1 MB 34.4 MB/s eta 0:00:01\r\u001b[K     |███████████████▋                | 1.1 MB 34.4 MB/s eta 0:00:01\r\u001b[K     |███████████████▊                | 1.1 MB 34.4 MB/s eta 0:00:01\r\u001b[K     |████████████████                | 1.1 MB 34.4 MB/s eta 0:00:01\r\u001b[K     |████████████████                | 1.1 MB 34.4 MB/s eta 0:00:01\r\u001b[K     |████████████████▏               | 1.1 MB 34.4 MB/s eta 0:00:01\r\u001b[K     |████████████████▍               | 1.1 MB 34.4 MB/s eta 0:00:01\r\u001b[K     |████████████████▌               | 1.2 MB 34.4 MB/s eta 0:00:01\r\u001b[K     |████████████████▋               | 1.2 MB 34.4 MB/s eta 0:00:01\r\u001b[K     |████████████████▊               | 1.2 MB 34.4 MB/s eta 0:00:01\r\u001b[K     |█████████████████               | 1.2 MB 34.4 MB/s eta 0:00:01\r\u001b[K     |█████████████████               | 1.2 MB 34.4 MB/s eta 0:00:01\r\u001b[K     |█████████████████▏              | 1.2 MB 34.4 MB/s eta 0:00:01\r\u001b[K     |█████████████████▍              | 1.2 MB 34.4 MB/s eta 0:00:01\r\u001b[K     |█████████████████▌              | 1.2 MB 34.4 MB/s eta 0:00:01\r\u001b[K     |█████████████████▋              | 1.2 MB 34.4 MB/s eta 0:00:01\r\u001b[K     |█████████████████▉              | 1.2 MB 34.4 MB/s eta 0:00:01\r\u001b[K     |██████████████████              | 1.3 MB 34.4 MB/s eta 0:00:01\r\u001b[K     |██████████████████              | 1.3 MB 34.4 MB/s eta 0:00:01\r\u001b[K     |██████████████████▎             | 1.3 MB 34.4 MB/s eta 0:00:01\r\u001b[K     |██████████████████▍             | 1.3 MB 34.4 MB/s eta 0:00:01\r\u001b[K     |██████████████████▌             | 1.3 MB 34.4 MB/s eta 0:00:01\r\u001b[K     |██████████████████▊             | 1.3 MB 34.4 MB/s eta 0:00:01\r\u001b[K     |██████████████████▉             | 1.3 MB 34.4 MB/s eta 0:00:01\r\u001b[K     |███████████████████             | 1.3 MB 34.4 MB/s eta 0:00:01\r\u001b[K     |███████████████████             | 1.3 MB 34.4 MB/s eta 0:00:01\r\u001b[K     |███████████████████▎            | 1.4 MB 34.4 MB/s eta 0:00:01\r\u001b[K     |███████████████████▍            | 1.4 MB 34.4 MB/s eta 0:00:01\r\u001b[K     |███████████████████▌            | 1.4 MB 34.4 MB/s eta 0:00:01\r\u001b[K     |███████████████████▊            | 1.4 MB 34.4 MB/s eta 0:00:01\r\u001b[K     |███████████████████▉            | 1.4 MB 34.4 MB/s eta 0:00:01\r\u001b[K     |████████████████████            | 1.4 MB 34.4 MB/s eta 0:00:01\r\u001b[K     |████████████████████▏           | 1.4 MB 34.4 MB/s eta 0:00:01\r\u001b[K     |████████████████████▎           | 1.4 MB 34.4 MB/s eta 0:00:01\r\u001b[K     |████████████████████▍           | 1.4 MB 34.4 MB/s eta 0:00:01\r\u001b[K     |████████████████████▋           | 1.4 MB 34.4 MB/s eta 0:00:01\r\u001b[K     |████████████████████▊           | 1.5 MB 34.4 MB/s eta 0:00:01\r\u001b[K     |████████████████████▉           | 1.5 MB 34.4 MB/s eta 0:00:01\r\u001b[K     |█████████████████████           | 1.5 MB 34.4 MB/s eta 0:00:01\r\u001b[K     |█████████████████████▏          | 1.5 MB 34.4 MB/s eta 0:00:01\r\u001b[K     |█████████████████████▎          | 1.5 MB 34.4 MB/s eta 0:00:01\r\u001b[K     |█████████████████████▍          | 1.5 MB 34.4 MB/s eta 0:00:01\r\u001b[K     |█████████████████████▋          | 1.5 MB 34.4 MB/s eta 0:00:01\r\u001b[K     |█████████████████████▊          | 1.5 MB 34.4 MB/s eta 0:00:01\r\u001b[K     |█████████████████████▉          | 1.5 MB 34.4 MB/s eta 0:00:01\r\u001b[K     |██████████████████████          | 1.5 MB 34.4 MB/s eta 0:00:01\r\u001b[K     |██████████████████████▏         | 1.6 MB 34.4 MB/s eta 0:00:01\r\u001b[K     |██████████████████████▎         | 1.6 MB 34.4 MB/s eta 0:00:01\r\u001b[K     |██████████████████████▌         | 1.6 MB 34.4 MB/s eta 0:00:01\r\u001b[K     |██████████████████████▋         | 1.6 MB 34.4 MB/s eta 0:00:01\r\u001b[K     |██████████████████████▊         | 1.6 MB 34.4 MB/s eta 0:00:01\r\u001b[K     |███████████████████████         | 1.6 MB 34.4 MB/s eta 0:00:01\r\u001b[K     |███████████████████████         | 1.6 MB 34.4 MB/s eta 0:00:01\r\u001b[K     |███████████████████████▏        | 1.6 MB 34.4 MB/s eta 0:00:01\r\u001b[K     |███████████████████████▍        | 1.6 MB 34.4 MB/s eta 0:00:01\r\u001b[K     |███████████████████████▌        | 1.6 MB 34.4 MB/s eta 0:00:01\r\u001b[K     |███████████████████████▋        | 1.7 MB 34.4 MB/s eta 0:00:01\r\u001b[K     |███████████████████████▊        | 1.7 MB 34.4 MB/s eta 0:00:01\r\u001b[K     |████████████████████████        | 1.7 MB 34.4 MB/s eta 0:00:01\r\u001b[K     |████████████████████████        | 1.7 MB 34.4 MB/s eta 0:00:01\r\u001b[K     |████████████████████████▏       | 1.7 MB 34.4 MB/s eta 0:00:01\r\u001b[K     |████████████████████████▍       | 1.7 MB 34.4 MB/s eta 0:00:01\r\u001b[K     |████████████████████████▌       | 1.7 MB 34.4 MB/s eta 0:00:01\r\u001b[K     |████████████████████████▋       | 1.7 MB 34.4 MB/s eta 0:00:01\r\u001b[K     |████████████████████████▉       | 1.7 MB 34.4 MB/s eta 0:00:01\r\u001b[K     |█████████████████████████       | 1.8 MB 34.4 MB/s eta 0:00:01\r\u001b[K     |█████████████████████████       | 1.8 MB 34.4 MB/s eta 0:00:01\r\u001b[K     |█████████████████████████▎      | 1.8 MB 34.4 MB/s eta 0:00:01\r\u001b[K     |█████████████████████████▍      | 1.8 MB 34.4 MB/s eta 0:00:01\r\u001b[K     |█████████████████████████▌      | 1.8 MB 34.4 MB/s eta 0:00:01\r\u001b[K     |█████████████████████████▊      | 1.8 MB 34.4 MB/s eta 0:00:01\r\u001b[K     |█████████████████████████▉      | 1.8 MB 34.4 MB/s eta 0:00:01\r\u001b[K     |██████████████████████████      | 1.8 MB 34.4 MB/s eta 0:00:01\r\u001b[K     |██████████████████████████      | 1.8 MB 34.4 MB/s eta 0:00:01\r\u001b[K     |██████████████████████████▎     | 1.8 MB 34.4 MB/s eta 0:00:01\r\u001b[K     |██████████████████████████▍     | 1.9 MB 34.4 MB/s eta 0:00:01\r\u001b[K     |██████████████████████████▌     | 1.9 MB 34.4 MB/s eta 0:00:01\r\u001b[K     |██████████████████████████▊     | 1.9 MB 34.4 MB/s eta 0:00:01\r\u001b[K     |██████████████████████████▉     | 1.9 MB 34.4 MB/s eta 0:00:01\r\u001b[K     |███████████████████████████     | 1.9 MB 34.4 MB/s eta 0:00:01\r\u001b[K     |███████████████████████████▏    | 1.9 MB 34.4 MB/s eta 0:00:01\r\u001b[K     |███████████████████████████▎    | 1.9 MB 34.4 MB/s eta 0:00:01\r\u001b[K     |███████████████████████████▍    | 1.9 MB 34.4 MB/s eta 0:00:01\r\u001b[K     |███████████████████████████▋    | 1.9 MB 34.4 MB/s eta 0:00:01\r\u001b[K     |███████████████████████████▊    | 1.9 MB 34.4 MB/s eta 0:00:01\r\u001b[K     |███████████████████████████▉    | 2.0 MB 34.4 MB/s eta 0:00:01\r\u001b[K     |████████████████████████████    | 2.0 MB 34.4 MB/s eta 0:00:01\r\u001b[K     |████████████████████████████▏   | 2.0 MB 34.4 MB/s eta 0:00:01\r\u001b[K     |████████████████████████████▎   | 2.0 MB 34.4 MB/s eta 0:00:01\r\u001b[K     |████████████████████████████▍   | 2.0 MB 34.4 MB/s eta 0:00:01\r\u001b[K     |████████████████████████████▋   | 2.0 MB 34.4 MB/s eta 0:00:01\r\u001b[K     |████████████████████████████▊   | 2.0 MB 34.4 MB/s eta 0:00:01\r\u001b[K     |████████████████████████████▉   | 2.0 MB 34.4 MB/s eta 0:00:01\r\u001b[K     |█████████████████████████████   | 2.0 MB 34.4 MB/s eta 0:00:01\r\u001b[K     |█████████████████████████████▏  | 2.0 MB 34.4 MB/s eta 0:00:01\r\u001b[K     |█████████████████████████████▎  | 2.1 MB 34.4 MB/s eta 0:00:01\r\u001b[K     |█████████████████████████████▌  | 2.1 MB 34.4 MB/s eta 0:00:01\r\u001b[K     |█████████████████████████████▋  | 2.1 MB 34.4 MB/s eta 0:00:01\r\u001b[K     |█████████████████████████████▊  | 2.1 MB 34.4 MB/s eta 0:00:01\r\u001b[K     |██████████████████████████████  | 2.1 MB 34.4 MB/s eta 0:00:01\r\u001b[K     |██████████████████████████████  | 2.1 MB 34.4 MB/s eta 0:00:01\r\u001b[K     |██████████████████████████████▏ | 2.1 MB 34.4 MB/s eta 0:00:01\r\u001b[K     |██████████████████████████████▍ | 2.1 MB 34.4 MB/s eta 0:00:01\r\u001b[K     |██████████████████████████████▌ | 2.1 MB 34.4 MB/s eta 0:00:01\r\u001b[K     |██████████████████████████████▋ | 2.2 MB 34.4 MB/s eta 0:00:01\r\u001b[K     |██████████████████████████████▊ | 2.2 MB 34.4 MB/s eta 0:00:01\r\u001b[K     |███████████████████████████████ | 2.2 MB 34.4 MB/s eta 0:00:01\r\u001b[K     |███████████████████████████████ | 2.2 MB 34.4 MB/s eta 0:00:01\r\u001b[K     |███████████████████████████████▏| 2.2 MB 34.4 MB/s eta 0:00:01\r\u001b[K     |███████████████████████████████▍| 2.2 MB 34.4 MB/s eta 0:00:01\r\u001b[K     |███████████████████████████████▌| 2.2 MB 34.4 MB/s eta 0:00:01\r\u001b[K     |███████████████████████████████▋| 2.2 MB 34.4 MB/s eta 0:00:01\r\u001b[K     |███████████████████████████████▉| 2.2 MB 34.4 MB/s eta 0:00:01\r\u001b[K     |████████████████████████████████| 2.2 MB 34.4 MB/s eta 0:00:01\r\u001b[K     |████████████████████████████████| 2.2 MB 34.4 MB/s \n",
            "\u001b[?25hRequirement already satisfied: numpy>=1.11.0 in /usr/local/lib/python3.7/dist-packages (from reverse_geocoder) (1.21.6)\n",
            "Requirement already satisfied: scipy>=0.17.1 in /usr/local/lib/python3.7/dist-packages (from reverse_geocoder) (1.4.1)\n",
            "Building wheels for collected packages: reverse-geocoder\n",
            "  Building wheel for reverse-geocoder (setup.py) ... \u001b[?25l\u001b[?25hdone\n",
            "  Created wheel for reverse-geocoder: filename=reverse_geocoder-1.5.1-py3-none-any.whl size=2268088 sha256=f3abc96b72af59bc9aa56c59a159fd8ecb07a71f0f95160cbd3fc8ec58a7b32d\n",
            "  Stored in directory: /root/.cache/pip/wheels/34/6e/70/5423639428a2cac8ea7eb467214a4254b549b381f306a9c790\n",
            "Successfully built reverse-geocoder\n",
            "Installing collected packages: reverse-geocoder\n",
            "Successfully installed reverse-geocoder-1.5.1\n"
          ]
        }
      ]
    },
    {
      "cell_type": "code",
      "execution_count": null,
      "metadata": {
        "tags": [],
        "id": "QfiVORI7K7yl",
        "colab": {
          "base_uri": "https://localhost:8080/"
        },
        "outputId": "64ab56c6-1ebf-4729-b403-b9a5ac3e6189"
      },
      "outputs": [
        {
          "output_type": "stream",
          "name": "stdout",
          "text": [
            "Drive already mounted at /content/drive; to attempt to forcibly remount, call drive.mount(\"/content/drive\", force_remount=True).\n"
          ]
        }
      ],
      "source": [
        "%matplotlib inline\n",
        "import torch\n",
        "import torch.nn as nn\n",
        "import torch.nn.functional as F\n",
        "import torchvision\n",
        "import torchvision.transforms as transforms\n",
        "from sklearn.model_selection import train_test_split\n",
        "from scipy.io import loadmat\n",
        "import reverse_geocoder\n",
        "import os\n",
        "from os import listdir\n",
        "from os.path import isfile, join\n",
        "import numpy as np\n",
        "import pickle\n",
        "from torch.utils.data import Dataset\n",
        "import pandas as pd\n",
        "from PIL import Image\n",
        "from psutil import virtual_memory\n",
        "from tqdm import tqdm\n",
        "import matplotlib.pyplot as plt\n",
        "import torch.optim as optim\n",
        "from google.colab import drive \n",
        "drive.mount('/content/drive')"
      ]
    },
    {
      "cell_type": "code",
      "source": [
        "img_dir = \"drive/MyDrive/Colab Notebooks/project/data/images/\"\n",
        "data_dir = \"drive/MyDrive/Colab Notebooks/project/data/\"\n",
        "grid_path = \"drive/MyDrive/Colab Notebooks/project/work/grid_coordinates.pkl\"\n",
        "model_path = \"drive/MyDrive/Colab Notebooks/project/data/models/cnn_4_25_cnn_40epoch.pth\""
      ],
      "metadata": {
        "id": "lkUTXC7Ye7Mn"
      },
      "execution_count": null,
      "outputs": []
    },
    {
      "cell_type": "markdown",
      "metadata": {
        "id": "ba3EZVPcK7ym"
      },
      "source": [
        "### Get all coordinates and check which ones are in NY"
      ]
    },
    {
      "cell_type": "code",
      "execution_count": null,
      "metadata": {
        "id": "jViRI2E9K7yn"
      },
      "outputs": [],
      "source": [
        "### Returns an array of True/False if the coordinate is in a given state\n",
        "### coordinates: An array of coordinates\n",
        "### state: Full name of the state. ex= \"New York\"\n",
        "def get_coordinates_in_state(coordinates, state):\n",
        "    coords = [(lat,long) for lat,long,ele in coordinates]\n",
        "    results = reverse_geocoder.search(coords, mode=2)\n",
        "    state = [x['admin1']==state for x in results]\n",
        "    return state"
      ]
    },
    {
      "cell_type": "code",
      "execution_count": null,
      "metadata": {
        "id": "_O8u3gNQK7yo",
        "outputId": "9a5a0d3f-e42c-4474-c431-405df22ead4a",
        "colab": {
          "base_uri": "https://localhost:8080/"
        }
      },
      "outputs": [
        {
          "output_type": "stream",
          "name": "stdout",
          "text": [
            "Loading formatted geocoded file...\n"
          ]
        },
        {
          "output_type": "execute_result",
          "data": {
            "text/plain": [
              "[False, False, False, False, False]"
            ]
          },
          "metadata": {},
          "execution_count": 5
        }
      ],
      "source": [
        "img_files = [f for f in listdir(img_dir) if isfile(join(img_dir, f))] # Names of all images in the folder\n",
        "coordinates = loadmat(data_dir + \"GPS_Long_Lat_Compass.mat\")[\"GPS_Compass\"] # Coordinates. Each coordinate corresponds to 6 pictures\n",
        "in_ny = get_coordinates_in_state(coordinates=coordinates, state=\"New York\") # All coordinates in NY\n",
        "in_ny[:5]"
      ]
    },
    {
      "cell_type": "code",
      "execution_count": null,
      "metadata": {
        "id": "ZHNx6I22K7yp",
        "colab": {
          "base_uri": "https://localhost:8080/"
        },
        "outputId": "eb5e0f95-8e17-459c-8c00-3e8c73e4f44e"
      },
      "outputs": [
        {
          "output_type": "execute_result",
          "data": {
            "text/plain": [
              "10343"
            ]
          },
          "metadata": {},
          "execution_count": 6
        }
      ],
      "source": [
        "len(coordinates)"
      ]
    },
    {
      "cell_type": "code",
      "execution_count": null,
      "metadata": {
        "id": "bo35srIsK7yp",
        "colab": {
          "base_uri": "https://localhost:8080/"
        },
        "outputId": "3927237b-19c3-4888-dcd1-c735eefa8a9e"
      },
      "outputs": [
        {
          "output_type": "stream",
          "name": "stdout",
          "text": [
            "Images:  62058\n",
            "Coordinates:  10343\n"
          ]
        }
      ],
      "source": [
        "print(\"Images: \", len(img_files))\n",
        "print(\"Coordinates: \", len(coordinates))"
      ]
    },
    {
      "cell_type": "code",
      "execution_count": null,
      "metadata": {
        "id": "niXDEi6OK7yq",
        "colab": {
          "base_uri": "https://localhost:8080/"
        },
        "outputId": "22988e8c-9685-4b68-b6ea-7f5799a04b4f"
      },
      "outputs": [
        {
          "output_type": "stream",
          "name": "stdout",
          "text": [
            "Number of pictures in NY:  4731\n",
            "Total Pictures: 62058\n"
          ]
        }
      ],
      "source": [
        "in_ny_np = np.array(in_ny)\n",
        "count = np.count_nonzero(in_ny_np)\n",
        "print(\"Number of pictures in NY: \", count)\n",
        "print(\"Total Pictures:\", len(img_files))"
      ]
    },
    {
      "cell_type": "code",
      "execution_count": null,
      "metadata": {
        "id": "cvn-l6RHK7yq",
        "colab": {
          "base_uri": "https://localhost:8080/"
        },
        "outputId": "782e0860-4caa-46d3-90f5-5993f85352b2"
      },
      "outputs": [
        {
          "output_type": "execute_result",
          "data": {
            "text/plain": [
              "[[array([ 40.74847 , -73.971083, 300.12    ]), '007353_4.jpg'],\n",
              " [array([ 40.74847 , -73.971083, 300.12    ]), '007353_5.jpg'],\n",
              " [array([ 40.74847 , -73.971083, 300.12    ]), '007354_0.jpg'],\n",
              " [array([ 40.74847 , -73.971083, 300.12    ]), '007354_1.jpg'],\n",
              " [array([ 40.74847 , -73.971083, 300.12    ]), '007354_2.jpg'],\n",
              " [array([ 40.74847 , -73.971083, 300.12    ]), '007354_3.jpg'],\n",
              " [array([ 40.748518, -73.971197, 300.12    ]), '007354_4.jpg'],\n",
              " [array([ 40.748518, -73.971197, 300.12    ]), '007354_5.jpg'],\n",
              " [array([ 40.748518, -73.971197, 300.12    ]), '007355_0.jpg'],\n",
              " [array([ 40.748518, -73.971197, 300.12    ]), '007355_1.jpg']]"
            ]
          },
          "metadata": {},
          "execution_count": 9
        }
      ],
      "source": [
        "### Orders the data as: [lattitude, longitude, direction], img_name\n",
        "data = []\n",
        "img_idx = 0;\n",
        "ny_idx = 0;\n",
        "for i in range(len(coordinates)):\n",
        "    if in_ny[ny_idx]:\n",
        "        data.append([coordinates[i],img_files[img_idx]])\n",
        "        data.append([coordinates[i],img_files[img_idx+1]])\n",
        "        data.append([coordinates[i],img_files[img_idx+2]])\n",
        "        data.append([coordinates[i],img_files[img_idx+3]])\n",
        "        data.append([coordinates[i],img_files[img_idx+4]])\n",
        "        data.append([coordinates[i],img_files[img_idx+5]])\n",
        "    ny_idx+=1\n",
        "    img_idx+=6\n",
        "    \n",
        "data[:10]"
      ]
    },
    {
      "cell_type": "code",
      "execution_count": null,
      "metadata": {
        "id": "34hlo7pAK7yr",
        "colab": {
          "base_uri": "https://localhost:8080/"
        },
        "outputId": "01ab884d-d809-4f3e-decd-18f4b33ad02b"
      },
      "outputs": [
        {
          "output_type": "execute_result",
          "data": {
            "text/plain": [
              "10343"
            ]
          },
          "metadata": {},
          "execution_count": 10
        }
      ],
      "source": [
        "len(in_ny)"
      ]
    },
    {
      "cell_type": "code",
      "execution_count": null,
      "metadata": {
        "id": "FbD4mL5JK7yr",
        "colab": {
          "base_uri": "https://localhost:8080/"
        },
        "outputId": "8ecd3ee5-28bf-4a48-ed1f-202c7b382b15"
      },
      "outputs": [
        {
          "output_type": "execute_result",
          "data": {
            "text/plain": [
              "28386"
            ]
          },
          "metadata": {},
          "execution_count": 11
        }
      ],
      "source": [
        "len(data)"
      ]
    },
    {
      "cell_type": "code",
      "execution_count": null,
      "metadata": {
        "id": "IPAGZw3MK7ys",
        "colab": {
          "base_uri": "https://localhost:8080/"
        },
        "outputId": "42f13c46-d8f3-48f5-f355-67b3509d7d94"
      },
      "outputs": [
        {
          "output_type": "execute_result",
          "data": {
            "text/plain": [
              "[['007353_4.jpg', array([ 40.74847 , -73.971083, 300.12    ])],\n",
              " ['007353_5.jpg', array([ 40.74847 , -73.971083, 300.12    ])],\n",
              " ['007354_0.jpg', array([ 40.74847 , -73.971083, 300.12    ])],\n",
              " ['007354_1.jpg', array([ 40.74847 , -73.971083, 300.12    ])],\n",
              " ['007354_2.jpg', array([ 40.74847 , -73.971083, 300.12    ])]]"
            ]
          },
          "metadata": {},
          "execution_count": 12
        }
      ],
      "source": [
        "### Orders data as [img_name, [lattitude, longitude, direction]]\n",
        "data = [[d[1],d[0]] for d in data]\n",
        "data[:5]"
      ]
    },
    {
      "cell_type": "code",
      "execution_count": null,
      "metadata": {
        "id": "6w1qsMPOK7ys",
        "colab": {
          "base_uri": "https://localhost:8080/"
        },
        "outputId": "b79ef26e-8718-4dd8-c9a8-2f33ff572197"
      },
      "outputs": [
        {
          "output_type": "execute_result",
          "data": {
            "text/plain": [
              "28386"
            ]
          },
          "metadata": {},
          "execution_count": 13
        }
      ],
      "source": [
        "len(data)"
      ]
    },
    {
      "cell_type": "markdown",
      "source": [
        "### Load classes that were created in ny_grid.ipynb"
      ],
      "metadata": {
        "id": "8s34L3iIOirV"
      }
    },
    {
      "cell_type": "code",
      "execution_count": null,
      "metadata": {
        "id": "rPyC-CDbK7yt"
      },
      "outputs": [],
      "source": [
        "### Load classifications from ny_grid.ipynb\n",
        "with open(grid_path, 'rb') as f:\n",
        "    grid_coordinates = pickle.load(f)"
      ]
    },
    {
      "cell_type": "code",
      "execution_count": null,
      "metadata": {
        "id": "PuUIx425K7yt",
        "colab": {
          "base_uri": "https://localhost:8080/"
        },
        "outputId": "dde15789-b3ce-436f-b64e-4e0d8158aacd"
      },
      "outputs": [
        {
          "output_type": "execute_result",
          "data": {
            "text/plain": [
              "[[array([ 40.714682, -74.013433]), 154],\n",
              " [array([ 40.714553, -74.013447]), 154],\n",
              " [array([ 40.714452, -74.013459]), 154],\n",
              " [array([ 40.714314, -74.013486]), 154],\n",
              " [array([ 40.714201, -74.013509]), 154]]"
            ]
          },
          "metadata": {},
          "execution_count": 15
        }
      ],
      "source": [
        "grid_coordinates[:5]"
      ]
    },
    {
      "cell_type": "code",
      "execution_count": null,
      "metadata": {
        "id": "WUVO4-02K7yt"
      },
      "outputs": [],
      "source": [
        "### Match image and coordinates with grid classifcation\n",
        "total_data = []\n",
        "for i in range(len(data)):\n",
        "    for j in range(len(grid_coordinates)):\n",
        "        if grid_coordinates[j][0][0] == data[i][1][0] and grid_coordinates[j][0][1] == data[i][1][1]:\n",
        "            data[i].append(grid_coordinates[j][1])"
      ]
    },
    {
      "cell_type": "code",
      "execution_count": null,
      "metadata": {
        "id": "r12NAKoGK7yu",
        "colab": {
          "base_uri": "https://localhost:8080/"
        },
        "outputId": "015fd682-54d5-4dae-8557-081c3ca9b432"
      },
      "outputs": [
        {
          "output_type": "execute_result",
          "data": {
            "text/plain": [
              "[['007353_4.jpg', array([ 40.74847 , -73.971083, 300.12    ]), 339],\n",
              " ['007353_5.jpg', array([ 40.74847 , -73.971083, 300.12    ]), 339],\n",
              " ['007354_0.jpg', array([ 40.74847 , -73.971083, 300.12    ]), 339],\n",
              " ['007354_1.jpg', array([ 40.74847 , -73.971083, 300.12    ]), 339],\n",
              " ['007354_2.jpg', array([ 40.74847 , -73.971083, 300.12    ]), 339]]"
            ]
          },
          "metadata": {},
          "execution_count": 17
        }
      ],
      "source": [
        "data[:5]"
      ]
    },
    {
      "cell_type": "code",
      "source": [
        "import pickle\n",
        "\n",
        "with open(data_dir + 'data_with_grid.pkl', 'wb') as f:\n",
        "    pickle.dump(data, f)"
      ],
      "metadata": {
        "id": "QtS2TSH6ekgU"
      },
      "execution_count": null,
      "outputs": []
    },
    {
      "cell_type": "markdown",
      "source": [
        "### Load Pre-Processed Data"
      ],
      "metadata": {
        "id": "XE96Rk6COubx"
      }
    },
    {
      "cell_type": "code",
      "source": [
        "with open(data_dir + \"data_with_grid.pkl\", 'rb') as f:\n",
        "    data = pickle.load(f)"
      ],
      "metadata": {
        "id": "dR2z9xV6eria"
      },
      "execution_count": null,
      "outputs": []
    },
    {
      "cell_type": "markdown",
      "source": [
        "### Create Custom Data Loader"
      ],
      "metadata": {
        "id": "9iVKx-2AOrjF"
      }
    },
    {
      "cell_type": "code",
      "execution_count": null,
      "metadata": {
        "id": "dGeQR3xgK7yu"
      },
      "outputs": [],
      "source": [
        "class Dataset(Dataset):\n",
        "    def __init__(self, X, y, root_dir, transform=None):\n",
        "        self.root_dir = root_dir\n",
        "        self.X = X\n",
        "        self.y = y\n",
        "        self.img_names = img_names\n",
        "        self.transform = transform\n",
        "\n",
        "    def __len__(self):\n",
        "        return len(self.y)\n",
        "\n",
        "    def __getitem__(self, index):\n",
        "        img = Image.open(os.path.join(self.root_dir, self.img_names[index])).convert(\"RGB\")\n",
        "        y_label = self.y[index]\n",
        "\n",
        "        if self.transform is not None:\n",
        "            img = self.transform(img)\n",
        "\n",
        "        return (img, y_label)"
      ]
    },
    {
      "cell_type": "code",
      "execution_count": null,
      "metadata": {
        "id": "3wR2Q72kK7yu",
        "colab": {
          "base_uri": "https://localhost:8080/"
        },
        "outputId": "d7e31882-e95a-4b8f-f85e-e15ac92429f3"
      },
      "outputs": [
        {
          "output_type": "execute_result",
          "data": {
            "text/plain": [
              "502"
            ]
          },
          "metadata": {},
          "execution_count": 6
        }
      ],
      "source": [
        "max([d[2] for d in data])"
      ]
    },
    {
      "cell_type": "code",
      "execution_count": null,
      "metadata": {
        "jupyter": {
          "outputs_hidden": false
        },
        "id": "Y_hnUgUBK7yw"
      },
      "outputs": [],
      "source": [
        "transform = transforms.Compose(\n",
        "    [\n",
        "     transforms.Resize((1024,1280)),\n",
        "    #  transforms.Resize((512, 640)),\n",
        "     transforms.ToTensor(),\n",
        "     transforms.Normalize((0.5, 0.5, 0.5), (0.5, 0.5, 0.5))])\n",
        "\n",
        "BATCH_SIZE = 16\n",
        "img_names = [d[0] for d in data]\n",
        "coordinates = [d[1] for d in data]\n",
        "grid_loc = [d[2] for d in data]\n",
        "num_classes = 630-1\n",
        "\n",
        "X_train, X_test, y_train, y_test = train_test_split(img_names, grid_loc, test_size=0.33, random_state=42)\n",
        "\n",
        "trainset = Dataset(X=X_train, y=y_train, root_dir=img_dir, transform=transform)\n",
        "trainloader = torch.utils.data.DataLoader(trainset, batch_size=BATCH_SIZE, shuffle=True, num_workers=4)\n",
        "\n",
        "testset = Dataset(X=X_test, y=y_test, root_dir=img_dir, transform=transform)\n",
        "testloader = torch.utils.data.DataLoader(testset, batch_size=BATCH_SIZE, shuffle=False, num_workers=4)\n",
        "classes = tuple(range(0,num_classes))"
      ]
    },
    {
      "cell_type": "code",
      "execution_count": null,
      "metadata": {
        "id": "_z-dB1Z0K7yw",
        "colab": {
          "base_uri": "https://localhost:8080/"
        },
        "outputId": "b59879df-4c9b-446c-f37c-82bdde91fe99"
      },
      "outputs": [
        {
          "output_type": "stream",
          "name": "stdout",
          "text": [
            "Number of Pictures:  28386\n"
          ]
        }
      ],
      "source": [
        "print(\"Number of Pictures: \", len(img_names))"
      ]
    },
    {
      "cell_type": "code",
      "source": [
        "print(\"Number of classes: \", len(classes)+1)"
      ],
      "metadata": {
        "colab": {
          "base_uri": "https://localhost:8080/"
        },
        "id": "N9TLylqsgHa-",
        "outputId": "2a5ff176-433b-4b36-d508-d7ade91401f5"
      },
      "execution_count": null,
      "outputs": [
        {
          "output_type": "stream",
          "name": "stdout",
          "text": [
            "Number of classes:  630\n"
          ]
        }
      ]
    },
    {
      "cell_type": "code",
      "execution_count": null,
      "metadata": {
        "id": "qxSO8LfwK7yw",
        "colab": {
          "base_uri": "https://localhost:8080/"
        },
        "outputId": "14ff9d04-6152-4124-fc7e-52cd5583471f"
      },
      "outputs": [
        {
          "output_type": "stream",
          "name": "stdout",
          "text": [
            "torch.Size([3, 1024, 1280]) 401\n"
          ]
        }
      ],
      "source": [
        "img, label = trainset[0]\n",
        "print(img.shape,label)"
      ]
    },
    {
      "cell_type": "markdown",
      "source": [
        "### Display some images"
      ],
      "metadata": {
        "id": "jvTTQyKzO3LB"
      }
    },
    {
      "cell_type": "code",
      "execution_count": null,
      "metadata": {
        "jupyter": {
          "outputs_hidden": false
        },
        "id": "xLSebJuTK7yx",
        "colab": {
          "base_uri": "https://localhost:8080/",
          "height": 154
        },
        "outputId": "49c86648-aa20-44b3-b967-7054dc43d8ae"
      },
      "outputs": [
        {
          "output_type": "display_data",
          "data": {
            "text/plain": [
              "<Figure size 432x288 with 1 Axes>"
            ],
            "image/png": "[encoded data removed]"
          },
          "metadata": {
            "needs_background": "light"
          }
        },
        {
          "output_type": "stream",
          "name": "stdout",
          "text": [
            "labels:  tensor([401, 218, 401, 340, 277, 188, 277, 309, 217, 185, 277, 184, 217, 187,\n",
            "        187, 281])\n"
          ]
        }
      ],
      "source": [
        "def imshow(img):\n",
        "    img = img / 2 + 0.5     # unnormalize\n",
        "    npimg = img.numpy()\n",
        "    plt.imshow(np.transpose(npimg, (1, 2, 0)))\n",
        "    plt.show()\n",
        "\n",
        "\n",
        "# get some random training images\n",
        "dataiter = iter(trainloader)\n",
        "images, labels = dataiter.next()\n",
        "\n",
        "# show images\n",
        "imshow(torchvision.utils.make_grid(images))\n",
        "# print labels\n",
        "print(\"labels: \", labels)"
      ]
    },
    {
      "cell_type": "markdown",
      "source": [
        "### Define Model"
      ],
      "metadata": {
        "id": "sls5jVtLO5-F"
      }
    },
    {
      "cell_type": "markdown",
      "metadata": {
        "id": "ljAzgjsPK7yx"
      },
      "source": [
        "### Print Google Collab runtime settings\n"
      ]
    },
    {
      "cell_type": "code",
      "source": [
        "gpu_info = !nvidia-smi\n",
        "gpu_info = '\\n'.join(gpu_info)\n",
        "if gpu_info.find('failed') >= 0:\n",
        "  print('Not connected to a GPU')\n",
        "else:\n",
        "  print(gpu_info)"
      ],
      "metadata": {
        "id": "pPtp2EL8MIWs",
        "colab": {
          "base_uri": "https://localhost:8080/"
        },
        "outputId": "29b27946-cfd4-449c-e479-ce2df03b9edd"
      },
      "execution_count": null,
      "outputs": [
        {
          "output_type": "stream",
          "name": "stdout",
          "text": [
            "Mon Apr 25 15:49:51 2022       \n",
            "+-----------------------------------------------------------------------------+\n",
            "| NVIDIA-SMI 460.32.03    Driver Version: 460.32.03    CUDA Version: 11.2     |\n",
            "|-------------------------------+----------------------+----------------------+\n",
            "| GPU  Name        Persistence-M| Bus-Id        Disp.A | Volatile Uncorr. ECC |\n",
            "| Fan  Temp  Perf  Pwr:Usage/Cap|         Memory-Usage | GPU-Util  Compute M. |\n",
            "|                               |                      |               MIG M. |\n",
            "|===============================+======================+======================|\n",
            "|   0  Tesla T4            Off  | 00000000:00:04.0 Off |                    0 |\n",
            "| N/A   55C    P8    10W /  70W |      0MiB / 15109MiB |      0%      Default |\n",
            "|                               |                      |                  N/A |\n",
            "+-------------------------------+----------------------+----------------------+\n",
            "                                                                               \n",
            "+-----------------------------------------------------------------------------+\n",
            "| Processes:                                                                  |\n",
            "|  GPU   GI   CI        PID   Type   Process name                  GPU Memory |\n",
            "|        ID   ID                                                   Usage      |\n",
            "|=============================================================================|\n",
            "|  No running processes found                                                 |\n",
            "+-----------------------------------------------------------------------------+\n"
          ]
        }
      ]
    },
    {
      "cell_type": "code",
      "source": [
        "ram_gb = virtual_memory().total / 1e9\n",
        "print('Your runtime has {:.1f} gigabytes of available RAM\\n'.format(ram_gb))\n",
        "\n",
        "if ram_gb < 20:\n",
        "  print('Not using a high-RAM runtime')\n",
        "else:\n",
        "  print('You are using a high-RAM runtime!')"
      ],
      "metadata": {
        "colab": {
          "base_uri": "https://localhost:8080/"
        },
        "id": "JvX8Ny58Mpch",
        "outputId": "199fd109-3bbc-4a39-cdb2-3d4b50fa842c"
      },
      "execution_count": null,
      "outputs": [
        {
          "output_type": "stream",
          "name": "stdout",
          "text": [
            "Your runtime has 27.3 gigabytes of available RAM\n",
            "\n",
            "You are using a high-RAM runtime!\n"
          ]
        }
      ]
    },
    {
      "cell_type": "code",
      "execution_count": null,
      "metadata": {
        "jupyter": {
          "outputs_hidden": false
        },
        "id": "i1Wl84D3K7yx"
      },
      "outputs": [],
      "source": [
        "### CNN Model\n",
        "### 273 minutes to train (4.55 hours)\n",
        "# class Net(nn.Module):\n",
        "#     def __init__(self):\n",
        "#         super().__init__()\n",
        "#         self.conv1 = nn.Conv2d(in_channels=3, out_channels=6, kernel_size=5)\n",
        "#         self.pool = nn.MaxPool2d(kernel_size=2, stride=2)\n",
        "#         self.conv2 = nn.Conv2d(in_channels=6, out_channels=16, kernel_size=5)\n",
        "#         self.fc1 = nn.Linear(in_features=16 * 253 * 317, out_features=120) # Fully Connected Layers\n",
        "#         self.fc2 = nn.Linear(in_features=120, out_features=84)\n",
        "#         self.fc3 = nn.Linear(in_features=84, out_features=3774) # out_features is the number of classes\n",
        "#         #LSTM\n",
        "        \n",
        "\n",
        "#     def forward(self, x):\n",
        "#         x = self.pool(F.relu(self.conv1(x)))\n",
        "#         x = self.pool(F.relu(self.conv2(x)))\n",
        "#         x = torch.flatten(x, 1) # flatten all dimensions except batch\n",
        "#         x = F.relu(self.fc1(x))\n",
        "#         x = F.relu(self.fc2(x))\n",
        "#         x = self.fc3(x)\n",
        "#         return x\n",
        "\n",
        "# net = Net()\n",
        "# device = torch.device('cuda:0' if torch.cuda.is_available() else 'cpu')\n",
        "# net.to(device)"
      ]
    },
    {
      "cell_type": "code",
      "source": [
        "## CNN Model\n",
        "## 273 minutes to train (4.55 hours)\n",
        "class Net(nn.Module):\n",
        "    def __init__(self):\n",
        "        super().__init__()\n",
        "        self.conv1 = nn.Conv2d(in_channels=3, out_channels=6, kernel_size=5)\n",
        "        self.pool = nn.MaxPool2d(kernel_size=2, stride=2)\n",
        "        self.conv2 = nn.Conv2d(in_channels=6, out_channels=16, kernel_size=5)\n",
        "        self.fc1 = nn.Linear(in_features=16*253*317, out_features=250) # Fully Connected Layers 16*253*317  \n",
        "        self.fc2 = nn.Linear(in_features=250, out_features=num_classes)\n",
        "        # self.fc3 = nn.Linear(in_features=1000, out_features=num_classes) # out_features is the number of classes\n",
        "        \n",
        "    def forward(self, x):\n",
        "        x = self.pool(F.relu(self.conv1(x)))\n",
        "        # print(x.shape)\n",
        "        # outshape = tensorshape(self.conv1(x), 3)\n",
        "        # print(outshape)\n",
        "        x = self.pool(F.relu(self.conv2(x)))\n",
        "        # print(x.shape)\n",
        "        x = torch.flatten(x, 1) # flatten all dimensions except batch\n",
        "        # print(x.shape)\n",
        "        x = F.relu(self.fc1(x))\n",
        "        x = self.fc2(x) # x = F.relu(self.fc2(x))\n",
        "        # x = self.fc3(x)\n",
        "        return x\n",
        "\n",
        "net = Net()\n",
        "device = torch.device('cuda:0' if torch.cuda.is_available() else 'cpu')\n",
        "net.to(device)"
      ],
      "metadata": {
        "colab": {
          "base_uri": "https://localhost:8080/"
        },
        "id": "UcfnNEAPaIb9",
        "outputId": "0687898b-4618-4a08-ad40-a86437b13b82"
      },
      "execution_count": null,
      "outputs": [
        {
          "output_type": "execute_result",
          "data": {
            "text/plain": [
              "Net(\n",
              "  (conv1): Conv2d(3, 6, kernel_size=(5, 5), stride=(1, 1))\n",
              "  (pool): MaxPool2d(kernel_size=2, stride=2, padding=0, dilation=1, ceil_mode=False)\n",
              "  (conv2): Conv2d(6, 16, kernel_size=(5, 5), stride=(1, 1))\n",
              "  (fc1): Linear(in_features=1283216, out_features=250, bias=True)\n",
              "  (fc2): Linear(in_features=250, out_features=629, bias=True)\n",
              ")"
            ]
          },
          "metadata": {},
          "execution_count": 15
        }
      ]
    },
    {
      "cell_type": "code",
      "source": [
        "!pip install torchshape"
      ],
      "metadata": {
        "colab": {
          "base_uri": "https://localhost:8080/"
        },
        "id": "E7NXJ-9QYaCe",
        "outputId": "2f766f1e-41f3-43a5-b055-6f390d0183e8"
      },
      "execution_count": null,
      "outputs": [
        {
          "output_type": "stream",
          "name": "stdout",
          "text": [
            "Requirement already satisfied: torchshape in /usr/local/lib/python3.7/dist-packages (0.0.8)\n"
          ]
        }
      ]
    },
    {
      "cell_type": "code",
      "source": [
        "from torchshape import tensorshape\n",
        "\n"
      ],
      "metadata": {
        "id": "TInhMoWuYcbU"
      },
      "execution_count": null,
      "outputs": []
    },
    {
      "cell_type": "code",
      "source": [
        "### Half Sized Images\n",
        "# ## CNN Model\n",
        "# ## 273 minutes to train (4.55 hours)\n",
        "# class Net(nn.Module):\n",
        "#     def __init__(self):\n",
        "#         super().__init__()\n",
        "#         self.conv1 = nn.Conv2d(in_channels=3, out_channels=6, kernel_size=5)\n",
        "#         self.pool = nn.MaxPool2d(kernel_size=2, stride=2)\n",
        "#         self.conv2 = nn.Conv2d(in_channels=6, out_channels=16, kernel_size=5)\n",
        "#         self.fc1 = nn.Linear(in_features=16* 128 * 160, out_features=250) # Fully Connected Layers 16*253*317  \n",
        "#         self.fc2 = nn.Linear(in_features=250, out_features=num_classes)\n",
        "#         # self.fc3 = nn.Linear(in_features=1000, out_features=num_classes) # out_features is the number of classes\n",
        "        \n",
        "#     def forward(self, x):\n",
        "#         x = self.pool(F.relu(self.conv1(x)))\n",
        "#         # print(x.shape)\n",
        "#         # outshape = tensorshape(self.conv1(x), 3)\n",
        "#         # print(outshape)\n",
        "#         x = self.pool(F.relu(self.conv2(x)))\n",
        "#         # print(x.shape)\n",
        "#         x = torch.flatten(x, 1) # flatten all dimensions except batch\n",
        "#         # print(x.shape)\n",
        "#         x = F.relu(self.fc1(x))\n",
        "#         x = self.fc2(x) # x = F.relu(self.fc2(x))\n",
        "#         # x = self.fc3(x)\n",
        "#         return x\n",
        "\n",
        "# net = Net()\n",
        "# device = torch.device('cuda:0' if torch.cuda.is_available() else 'cpu')\n",
        "# net.to(device)"
      ],
      "metadata": {
        "id": "JgsIvTmdmOOF"
      },
      "execution_count": null,
      "outputs": []
    },
    {
      "cell_type": "code",
      "source": [
        "# from torchvision.models import resnet18, resnet101\n",
        "# ### LSTM With Resnet\n",
        "# class CNNLSTM(nn.Module):\n",
        "#     def __init__(self, num_classes=2):\n",
        "#         super(CNNLSTM, self).__init__()\n",
        "#         self.resnet = resnet101(pretrained=True)\n",
        "#         self.resnet.fc = nn.Sequential(nn.Linear(self.resnet.fc.in_features, 16 * 253 * 317))\n",
        "#         self.lstm = nn.LSTM(input_size=16 * 253 * 317, hidden_size=256, num_layers=3)\n",
        "#         self.fc1 = nn.Linear(256, 128)\n",
        "#         self.fc2 = nn.Linear(128, num_classes)\n",
        "\n",
        "#     def forward(self, x_3d):\n",
        "#         hidden = None\n",
        "#         for t in range(x_3d.size(1)):\n",
        "#             with torch.no_grad():\n",
        "#                 x = self.resnet(x_3d[:, t, :, :])  \n",
        "#             out, hidden = self.lstm(x.unsqueeze(0), hidden)         \n",
        "\n",
        "#         x = self.fc1(out[-1, :, :])\n",
        "#         x = F.relu(x)\n",
        "#         x = self.fc2(x)\n",
        "#         return x\n",
        "\n",
        "# net = CNNLSTM()\n",
        "# device = torch.device('cuda:0' if torch.cuda.is_available() else 'cpu')\n",
        "# net.to(device)"
      ],
      "metadata": {
        "id": "YStkXeydjCZ_"
      },
      "execution_count": null,
      "outputs": []
    },
    {
      "cell_type": "code",
      "execution_count": null,
      "metadata": {
        "id": "ap3Bi81sK7yx"
      },
      "outputs": [],
      "source": [
        "# class Net(nn.Module):\n",
        "#     def __init__(self):\n",
        "#         super().__init__()\n",
        "#         self.conv1 = nn.Conv2d(in_channels=3, out_channels=6, kernel_size=5)\n",
        "#         self.pool = nn.MaxPool2d(kernel_size=2, stride=2)\n",
        "#         self.conv2 = nn.Conv2d(in_channels=6, out_channels=16, kernel_size=5)\n",
        "#         self.fc1 = nn.Linear(in_features=16 * 253 * 317, out_features=10000) # Fully Connected Layers\n",
        "#         self.lstm = nn.LSTM(input_size=10000, hidden_size=5000, num_layers=3)\n",
        "#         self.fc2 = nn.Linear(in_features=5000, out_features=4000)\n",
        "#         self.fc3 = nn.Linear(in_features=4000, out_features=3774) # out_features is the number of classes\n",
        "\n",
        "#     def forward(self, x_3d):\n",
        "#         hidden = None\n",
        "#         for t in range(x_3d.size(1)):\n",
        "#             with torch.no_grad():\n",
        "#                 x = self.resnet(x_3d[:, t, :, :, :])  \n",
        "#             out, hidden = self.lstm(x.unsqueeze(0), hidden)         \n",
        "\n",
        "#         x = self.fc1(out[-1, :, :])\n",
        "#         x = F.relu(x)\n",
        "#         x = self.fc2(x)\n",
        "#         return x\n",
        "        \n",
        "\n",
        "#     def forward(self, x):\n",
        "#         x = self.pool(F.relu(self.conv1(x)))\n",
        "#         x = self.pool(F.relu(self.conv2(x)))\n",
        "#         x = torch.flatten(x, 1) # flatten all dimensions except batch\n",
        "#         x = F.relu(self.fc1(x))\n",
        "#         x = F.relu(self.fc2(x))\n",
        "#         x = self.fc3(x)\n",
        "#         return x\n",
        "\n",
        "# net = Net()\n",
        "# device = torch.device('cuda:0' if torch.cuda.is_available() else 'cpu')\n",
        "# net.to(device)"
      ]
    },
    {
      "cell_type": "markdown",
      "source": [
        "### Define Loss Function"
      ],
      "metadata": {
        "id": "SwPOMtCNPFu5"
      }
    },
    {
      "cell_type": "code",
      "execution_count": null,
      "metadata": {
        "jupyter": {
          "outputs_hidden": false
        },
        "id": "IK0osIzGK7yx"
      },
      "outputs": [],
      "source": [
        "criterion = nn.CrossEntropyLoss()\n",
        "optimizer = optim.SGD(net.parameters(), lr=0.001, momentum=0.9)"
      ]
    },
    {
      "cell_type": "markdown",
      "metadata": {
        "id": "jREpQI0mK7yx"
      },
      "source": [
        "### Train the Model"
      ]
    },
    {
      "cell_type": "code",
      "execution_count": null,
      "metadata": {
        "id": "9lGChUqDK7yx"
      },
      "outputs": [],
      "source": [
        "torch.cuda.empty_cache() #Clear GPU memory"
      ]
    },
    {
      "cell_type": "code",
      "execution_count": null,
      "metadata": {
        "jupyter": {
          "outputs_hidden": false
        },
        "id": "jYjnVuRiK7yy",
        "colab": {
          "base_uri": "https://localhost:8080/"
        },
        "outputId": "ea209046-f227-4a89-8716-2558a4b29cd1"
      },
      "outputs": [
        {
          "output_type": "stream",
          "name": "stderr",
          "text": [
            "Epoch 0: : 1189 batch [1:03:51,  3.22s/ batch]\n",
            "Epoch 1: : 1189 batch [13:17,  1.49 batch/s]\n",
            "Epoch 2: : 1189 batch [13:20,  1.49 batch/s]\n",
            "Epoch 3: : 1189 batch [13:21,  1.48 batch/s]\n",
            "Epoch 4: : 1189 batch [13:22,  1.48 batch/s]\n",
            "Epoch 5: : 1189 batch [13:24,  1.48 batch/s]\n",
            "Epoch 6: : 1189 batch [13:26,  1.47 batch/s]\n",
            "Epoch 7: : 1189 batch [13:26,  1.47 batch/s]\n",
            "Epoch 8: : 1189 batch [13:27,  1.47 batch/s]\n",
            "Epoch 9: : 1189 batch [13:26,  1.47 batch/s]\n",
            "Epoch 10: : 1189 batch [13:29,  1.47 batch/s]\n",
            "Epoch 11: : 1189 batch [13:27,  1.47 batch/s]\n",
            "Epoch 12: : 1189 batch [13:28,  1.47 batch/s]\n",
            "Epoch 13: : 1189 batch [13:27,  1.47 batch/s]\n",
            "Epoch 14: : 1189 batch [13:28,  1.47 batch/s]\n",
            "Epoch 15: : 1189 batch [13:27,  1.47 batch/s]\n",
            "Epoch 16: : 1189 batch [13:26,  1.47 batch/s]\n",
            "Epoch 17: : 1189 batch [13:25,  1.48 batch/s]\n",
            "Epoch 18: : 1189 batch [13:26,  1.47 batch/s]\n",
            "Epoch 19: : 372 batch [04:13,  1.48 batch/s]"
          ]
        }
      ],
      "source": [
        "EPOCHS = 40\n",
        "for epoch in range(EPOCHS):  # loop over the dataset multiple times\n",
        "\n",
        "    running_loss = 0.0\n",
        "    with tqdm(enumerate(trainloader,0), unit=\" batch\") as tepoch:\n",
        "        for i, data in tepoch:\n",
        "            tepoch.set_description(f\"Epoch {epoch}\")\n",
        "            # get the inputs; data is a list of [inputs, labels]\n",
        "            inputs, labels = data\n",
        "            # print(data)\n",
        "            inputs, labels = inputs.to(device), labels.to(device)\n",
        "\n",
        "            # zero the parameter gradients\n",
        "            optimizer.zero_grad()\n",
        "\n",
        "            # forward + backward + optimize\n",
        "            outputs = net(inputs)\n",
        "            loss = criterion(outputs, labels)\n",
        "            loss.backward()\n",
        "            optimizer.step()\n",
        "\n",
        "            # print statistics\n",
        "            running_loss += loss.item()\n",
        "            if i % 2000 == 1999:    # print every 2000 mini-batches\n",
        "                print(f'[{epoch + 1}, {i + 1:5d}] loss: {running_loss / 2000:.3f}')\n",
        "                running_loss = 0.0\n",
        "\n",
        "print('Finished Training')"
      ]
    },
    {
      "cell_type": "code",
      "source": [
        "!pip install torch_utils"
      ],
      "metadata": {
        "id": "8v4JbZigRa6R"
      },
      "execution_count": null,
      "outputs": []
    },
    {
      "cell_type": "code",
      "source": [
        "# from torch_utils import AverageMeter, accuracy\n",
        "# # from utils import accuracy\n",
        "# train_loss = 0.0\n",
        "# # losses = AverageMeter()\n",
        "# # accuracies = AverageMeter()\n",
        "# log_interval=2000\n",
        "# epoch = 20\n",
        "# for batch_idx, (data, targets) in enumerate(trainloader):\n",
        "#     data, targets = data.to(device), targets.to(device)\n",
        "#     outputs = net(data)\n",
        "\n",
        "#     loss = criterion(outputs, targets)\n",
        "#     acc = accuracy(outputs, targets)\n",
        "\n",
        "#     train_loss += loss.item()\n",
        "#     # losses.update(loss.item(), data.size(0))\n",
        "#     # accuracies.update(acc, data.size(0))\n",
        "\n",
        "#     optimizer.zero_grad()\n",
        "#     loss.backward()\n",
        "#     optimizer.step()\n",
        "\n",
        "#     if (batch_idx + 1) % log_interval == 0:\n",
        "#         avg_loss = train_loss / log_interval\n",
        "#         print('Train Epoch: {} [{}/{} ({:.0f}%)]\\tLoss: {:.6f}'.format(\n",
        "#             epoch, (batch_idx + 1) * len(data), len(trainloader.dataset), 100. * (batch_idx + 1) / len(trainloader), avg_loss))\n",
        "#         train_loss = 0.0\n",
        "\n",
        "# print('Train set ({:d} samples): Training loss: {:.4f}'.format(len(trainloader.dataset), train_loss ))"
      ],
      "metadata": {
        "id": "kq75IwGiREcJ"
      },
      "execution_count": null,
      "outputs": []
    },
    {
      "cell_type": "markdown",
      "metadata": {
        "id": "JnNfEw-mK7yy"
      },
      "source": [
        "### Save Trained Model\n"
      ]
    },
    {
      "cell_type": "code",
      "execution_count": null,
      "metadata": {
        "jupyter": {
          "outputs_hidden": false
        },
        "id": "GECswg88K7yy"
      },
      "outputs": [],
      "source": [
        "torch.save(net.state_dict(), model_path)"
      ]
    },
    {
      "cell_type": "markdown",
      "metadata": {
        "id": "cD8oUtuNK7yy"
      },
      "source": [
        "### Display an image"
      ]
    },
    {
      "cell_type": "code",
      "execution_count": null,
      "metadata": {
        "jupyter": {
          "outputs_hidden": false
        },
        "id": "Bc8WLojrK7y0"
      },
      "outputs": [],
      "source": [
        "dataiter = iter(testloader)\n",
        "images, labels = dataiter.next()\n",
        "\n",
        "# print images\n",
        "imshow(torchvision.utils.make_grid(images))\n",
        "print('GroundTruth: ', ' '.join(f'{classes[labels[j]]:5d}' for j in range(4)))"
      ]
    },
    {
      "cell_type": "markdown",
      "metadata": {
        "id": "f9rRI1IcK7y0"
      },
      "source": [
        "### Load trained model"
      ]
    },
    {
      "cell_type": "code",
      "execution_count": null,
      "metadata": {
        "jupyter": {
          "outputs_hidden": false
        },
        "id": "IqX3lUUKK7y0"
      },
      "outputs": [],
      "source": [
        "from google.colab import drive \n",
        "drive.mount('/content/drive')\n",
        "net = Net()\n",
        "net.load_state_dict(torch.load(model_path))"
      ]
    },
    {
      "cell_type": "markdown",
      "metadata": {
        "id": "rOGKVt_aK7y0"
      },
      "source": [
        "Okay, now let us see what the neural network thinks these examples above are:\n",
        "\n"
      ]
    },
    {
      "cell_type": "code",
      "execution_count": null,
      "metadata": {
        "jupyter": {
          "outputs_hidden": false
        },
        "id": "bcJ-wBwqK7y0"
      },
      "outputs": [],
      "source": [
        "outputs = net(images)"
      ]
    },
    {
      "cell_type": "markdown",
      "metadata": {
        "id": "xRx2gU7SK7y1"
      },
      "source": [
        "The outputs are energies for the 10 classes.\n",
        "The higher the energy for a class, the more the network\n",
        "thinks that the image is of the particular class.\n",
        "So, let's get the index of the highest energy:\n",
        "\n"
      ]
    },
    {
      "cell_type": "code",
      "execution_count": null,
      "metadata": {
        "jupyter": {
          "outputs_hidden": false
        },
        "id": "5m0d_AE5K7y1"
      },
      "outputs": [],
      "source": [
        "_, predicted = torch.max(outputs, 1)\n",
        "\n",
        "print('Predicted: ', ' '.join(f'{classes[predicted[j]]:5d}'\n",
        "                              for j in range(4)))"
      ]
    },
    {
      "cell_type": "markdown",
      "metadata": {
        "id": "Wfm2FVu0K7y1"
      },
      "source": [
        "The results seem pretty good.\n",
        "\n",
        "Let us look at how the network performs on the whole dataset.\n",
        "\n"
      ]
    },
    {
      "cell_type": "code",
      "source": [
        "from tqdm import tqdm"
      ],
      "metadata": {
        "id": "BHjNcXZbhzEu"
      },
      "execution_count": null,
      "outputs": []
    },
    {
      "cell_type": "code",
      "execution_count": null,
      "metadata": {
        "jupyter": {
          "outputs_hidden": false
        },
        "id": "31fCo6IAK7y1"
      },
      "outputs": [],
      "source": [
        "correct = 0\n",
        "total = 0\n",
        "# since we're not training, we don't need to calculate the gradients for our outputs\n",
        "with torch.no_grad():\n",
        "    for data in tqdm(testloader):\n",
        "        # print(data)\n",
        "        inputs, labels = data\n",
        "        inputs, labels = inputs.to(device), labels.to(device)\n",
        "        # calculate outputs by running images through the network\n",
        "        outputs = net(images)\n",
        "        outputs = outputs.to(device)\n",
        "        # the class with the highest energy is what we choose as prediction\n",
        "        _, predicted = torch.max(outputs.data, 1)\n",
        "        total += labels.size(0)\n",
        "        correct += (predicted[:len(labels)] == labels).sum().item()\n",
        "\n",
        "print(f'Accuracy of the network on the {len(y_test)} test images: {100 * correct / total} %')"
      ]
    },
    {
      "cell_type": "code",
      "source": [
        "100 * correct / total"
      ],
      "metadata": {
        "id": "aZfH9pjQoC12"
      },
      "execution_count": null,
      "outputs": []
    },
    {
      "cell_type": "markdown",
      "metadata": {
        "id": "jzbG6zp3K7y1"
      },
      "source": [
        "That looks way better than chance, which is 10% accuracy (randomly picking\n",
        "a class out of 10 classes).\n",
        "Seems like the network learnt something.\n",
        "\n",
        "Hmmm, what are the classes that performed well, and the classes that did\n",
        "not perform well:\n",
        "\n"
      ]
    },
    {
      "cell_type": "code",
      "execution_count": null,
      "metadata": {
        "jupyter": {
          "outputs_hidden": false
        },
        "id": "zS_MCTJhK7y1"
      },
      "outputs": [],
      "source": [
        "# prepare to count predictions for each class\n",
        "correct_pred = {classname: 0 for classname in classes}\n",
        "total_pred = {classname: 0 for classname in classes}\n",
        "\n",
        "# again no gradients needed\n",
        "with torch.no_grad():\n",
        "    for data in testloader:\n",
        "        images, labels = data\n",
        "        inputs, labels = inputs.to(device), labels.to(device)\n",
        "        outputs = net(images)\n",
        "        _, predictions = torch.max(outputs, 1)\n",
        "        # collect the correct predictions for each class\n",
        "        for label, prediction in zip(labels, predictions):\n",
        "            if label == prediction:\n",
        "                correct_pred[classes[label]] += 1\n",
        "            total_pred[classes[label]] += 1\n",
        "\n",
        "\n",
        "# print accuracy for each class\n",
        "for classname, correct_count in correct_pred.items():\n",
        "    accuracy = 100 * float(correct_count) / total_pred[classname]\n",
        "    print(f'Accuracy for class: {classname:5s} is {accuracy:.1f} %')  "
      ]
    },
    {
      "cell_type": "code",
      "execution_count": null,
      "metadata": {
        "jupyter": {
          "outputs_hidden": false
        },
        "id": "JIQ99Ti4K7y1"
      },
      "outputs": [],
      "source": [
        " "
      ]
    },
    {
      "cell_type": "code",
      "source": [
        ""
      ],
      "metadata": {
        "id": "Yl9vgcCeQI6M"
      },
      "execution_count": null,
      "outputs": []
    }
  ],
  "metadata": {
    "kernelspec": {
      "display_name": "Python 3 (ipykernel)",
      "language": "python",
      "name": "python3"
    },
    "language_info": {
      "codemirror_mode": {
        "name": "ipython",
        "version": 3
      },
      "file_extension": ".py",
      "mimetype": "text/x-python",
      "name": "python",
      "nbconvert_exporter": "python",
      "pygments_lexer": "ipython3",
      "version": "3.8.8"
    },
    "colab": {
      "name": "model.ipynb",
      "provenance": [],
      "machine_shape": "hm",
      "collapsed_sections": [
        "XE96Rk6COubx",
        "9iVKx-2AOrjF",
        "jvTTQyKzO3LB",
        "sls5jVtLO5-F",
        "SwPOMtCNPFu5",
        "JnNfEw-mK7yy",
        "cD8oUtuNK7yy",
        "f9rRI1IcK7y0"
      ]
    },
    "accelerator": "GPU"
  },
  "nbformat": 4,
  "nbformat_minor": 0
}