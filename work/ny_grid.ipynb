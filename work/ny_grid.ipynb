{
  "cells": [
    {
      "cell_type": "code",
      "source": [
        "pip install geopandas shapely rtree"
      ],
      "metadata": {
        "colab": {
          "base_uri": "https://localhost:8080/"
        },
        "id": "ZagJkNR-vfgJ",
        "outputId": "7345e080-d01e-4fc3-b769-313c06062aef"
      },
      "id": "ZagJkNR-vfgJ",
      "execution_count": null,
      "outputs": [
        {
          "output_type": "stream",
          "name": "stdout",
          "text": [
            "Collecting geopandas\n",
            "  Using cached geopandas-0.10.2-py2.py3-none-any.whl (1.0 MB)\n",
            "Requirement already satisfied: shapely in /usr/local/lib/python3.7/dist-packages (1.8.1.post1)\n",
            "Collecting rtree\n",
            "  Using cached Rtree-1.0.0-cp37-cp37m-manylinux_2_17_x86_64.manylinux2014_x86_64.whl (1.0 MB)\n",
            "Requirement already satisfied: pandas>=0.25.0 in /usr/local/lib/python3.7/dist-packages (from geopandas) (1.3.5)\n",
            "Collecting fiona>=1.8\n",
            "  Downloading Fiona-1.8.21-cp37-cp37m-manylinux2014_x86_64.whl (16.7 MB)\n",
            "\u001b[K     |████████████████████████████████| 16.7 MB 345 kB/s \n",
            "\u001b[?25hCollecting pyproj>=2.2.0\n",
            "  Using cached pyproj-3.2.1-cp37-cp37m-manylinux2010_x86_64.whl (6.3 MB)\n",
            "Requirement already satisfied: six>=1.7 in /usr/local/lib/python3.7/dist-packages (from fiona>=1.8->geopandas) (1.15.0)\n",
            "Collecting click-plugins>=1.0\n",
            "  Downloading click_plugins-1.1.1-py2.py3-none-any.whl (7.5 kB)\n",
            "Requirement already satisfied: certifi in /usr/local/lib/python3.7/dist-packages (from fiona>=1.8->geopandas) (2021.10.8)\n",
            "Requirement already satisfied: attrs>=17 in /usr/local/lib/python3.7/dist-packages (from fiona>=1.8->geopandas) (21.4.0)\n",
            "Requirement already satisfied: setuptools in /usr/local/lib/python3.7/dist-packages (from fiona>=1.8->geopandas) (57.4.0)\n",
            "Collecting cligj>=0.5\n",
            "  Downloading cligj-0.7.2-py3-none-any.whl (7.1 kB)\n",
            "Requirement already satisfied: click>=4.0 in /usr/local/lib/python3.7/dist-packages (from fiona>=1.8->geopandas) (7.1.2)\n",
            "Collecting munch\n",
            "  Downloading munch-2.5.0-py2.py3-none-any.whl (10 kB)\n",
            "Requirement already satisfied: numpy>=1.17.3 in /usr/local/lib/python3.7/dist-packages (from pandas>=0.25.0->geopandas) (1.21.6)\n",
            "Requirement already satisfied: pytz>=2017.3 in /usr/local/lib/python3.7/dist-packages (from pandas>=0.25.0->geopandas) (2022.1)\n",
            "Requirement already satisfied: python-dateutil>=2.7.3 in /usr/local/lib/python3.7/dist-packages (from pandas>=0.25.0->geopandas) (2.8.2)\n",
            "Requirement already satisfied: typing-extensions>=3.7 in /usr/local/lib/python3.7/dist-packages (from rtree) (4.1.1)\n",
            "Installing collected packages: munch, cligj, click-plugins, pyproj, fiona, rtree, geopandas\n",
            "Successfully installed click-plugins-1.1.1 cligj-0.7.2 fiona-1.8.21 geopandas-0.10.2 munch-2.5.0 pyproj-3.2.1 rtree-1.0.0\n"
          ]
        }
      ]
    },
    {
      "cell_type": "code",
      "execution_count": null,
      "id": "65f20aea-8e27-432c-bd9f-e7472f7dcf95",
      "metadata": {
        "colab": {
          "base_uri": "https://localhost:8080/"
        },
        "id": "65f20aea-8e27-432c-bd9f-e7472f7dcf95",
        "outputId": "d7a55b6f-27e4-4a3d-e9d7-5bc6d6a2e681"
      },
      "outputs": [
        {
          "output_type": "stream",
          "name": "stdout",
          "text": [
            "Mounted at /content/drive\n"
          ]
        }
      ],
      "source": [
        "import pandas as pd  # provides interface for interacting with tabular data\n",
        "import geopandas as gpd  # combines the capabilities of pandas and shapely for geospatial operations\n",
        "from shapely.geometry import Point, Polygon, MultiPolygon  # for manipulating text data into geospatial shapes\n",
        "from shapely import wkt  # stands for \"well known text,\" allows for interchange across GIS programs\n",
        "import rtree  # supports geospatial join\n",
        "from google.colab import drive \n",
        "drive.mount('/content/drive')\n",
        "data = \"drive/MyDrive/Colab Notebooks/project/data/NYS_Civil_Boundaries.shp/Counties.shp\"\n",
        "directory = \"drive/MyDrive/Colab Notebooks/project/data/NYS_Civil_Boundaries.shp/\"\n",
        "counties = gpd.read_file(data)\n",
        "counties = counties.to_crs(epsg=4326)"
      ]
    },
    {
      "cell_type": "code",
      "execution_count": null,
      "id": "42e0e443-a34d-49e6-9ced-9813507b88de",
      "metadata": {
        "colab": {
          "base_uri": "https://localhost:8080/",
          "height": 424
        },
        "id": "42e0e443-a34d-49e6-9ced-9813507b88de",
        "outputId": "9b42088e-7dd6-4d52-ccf3-4de8141bfa63"
      },
      "outputs": [
        {
          "output_type": "execute_result",
          "data": {
            "text/plain": [
              "           NAME ABBREV GNIS_ID FIPS_CODE    SWIS    NYSP_ZONE  POP1990  \\\n",
              "0        Albany   ALBA  974099     36001  010000         East   292594   \n",
              "1      Allegany   ALLE  974100     36003  020000         West    50470   \n",
              "2         Bronx   BRON  974101     36005  600000  Long Island  1203789   \n",
              "3        Broome   BROO  974102     36007  030000      Central   212160   \n",
              "4   Cattaraugus   CATT  974103     36009  040000         West    84234   \n",
              "..          ...    ...     ...       ...     ...          ...      ...   \n",
              "57   Washington   WASH  974155     36115  530000         East    59330   \n",
              "58        Wayne   WAYN  974156     36117  540000      Central    89123   \n",
              "59  Westchester   WEST  974157     36119  550000         East   874866   \n",
              "60      Wyoming   WYOM  974158     36121  560000         West    42507   \n",
              "61        Yates   YATE  974159     36123  570000      Central    22810   \n",
              "\n",
              "    POP2000  POP2010  POP2020 DOS_LL DOSLL_DATE NYC   CALC_SQ_MI     DATEMOD  \\\n",
              "0    294565   304204   314848   None       None   N   532.791779  2017-11-10   \n",
              "1     49927    48946    46456   None       None   N  1035.209131  2019-04-26   \n",
              "2   1332650  1385108  1472654   None       None   Y    57.472148  2019-10-04   \n",
              "3    200536   200600   198683   None       None   N   715.287465  2019-04-26   \n",
              "4     83955    80317    77042   None       None   N  1324.309219  2019-04-26   \n",
              "..      ...      ...      ...    ...        ...  ..          ...         ...   \n",
              "57    61042    63216    61302   None       None   N   845.855708  2017-11-10   \n",
              "58    93765    93772    91283   None       None   N  1395.598959  2018-02-08   \n",
              "59   923459   949113  1004457   None       None   N   499.972897  2019-10-04   \n",
              "60    43424    42155    40531   None       None   N   596.822633  2018-09-20   \n",
              "61    24621    25348    24774   None       None   N   375.771539  2018-02-08   \n",
              "\n",
              "       Shape_Leng    Shape_Area  \\\n",
              "0   166077.834242  1.379924e+09   \n",
              "1   210499.339279  2.681179e+09   \n",
              "2    57253.861278  1.488522e+08   \n",
              "3   227933.332021  1.852586e+09   \n",
              "4   276084.505560  3.429945e+09   \n",
              "..            ...           ...   \n",
              "57  302358.996697  2.190756e+09   \n",
              "58  254972.219986  3.614585e+09   \n",
              "59  182997.677827  1.294924e+09   \n",
              "60  176096.925232  1.545764e+09   \n",
              "61  141535.638713  9.732438e+08   \n",
              "\n",
              "                                             geometry  \n",
              "0   POLYGON ((-73.70733 42.78605, -73.70397 42.783...  \n",
              "1   POLYGON ((-78.29218 42.52140, -78.29047 42.521...  \n",
              "2   POLYGON ((-73.86567 40.90219, -73.86300 40.901...  \n",
              "3   POLYGON ((-75.86416 42.41554, -75.86379 42.413...  \n",
              "4   POLYGON ((-79.02148 42.53804, -79.01937 42.537...  \n",
              "..                                                ...  \n",
              "57  POLYGON ((-73.37718 43.79995, -73.37690 43.799...  \n",
              "58  POLYGON ((-76.74696 43.69594, -76.72214 43.343...  \n",
              "59  POLYGON ((-73.54795 41.31920, -73.54819 41.316...  \n",
              "60  POLYGON ((-78.36506 42.86886, -78.36497 42.868...  \n",
              "61  POLYGON ((-77.23283 42.76140, -77.23249 42.761...  \n",
              "\n",
              "[62 rows x 18 columns]"
            ],
            "text/html": [
              "\n",
              "  <div id=\"df-58bf2c90-4e26-4749-9465-6b944d139dd3\">\n",
              "    <div class=\"colab-df-container\">\n",
              "      <div>\n",
              "<style scoped>\n",
              "    .dataframe tbody tr th:only-of-type {\n",
              "        vertical-align: middle;\n",
              "    }\n",
              "\n",
              "    .dataframe tbody tr th {\n",
              "        vertical-align: top;\n",
              "    }\n",
              "\n",
              "    .dataframe thead th {\n",
              "        text-align: right;\n",
              "    }\n",
              "</style>\n",
              "<table border=\"1\" class=\"dataframe\">\n",
              "  <thead>\n",
              "    <tr style=\"text-align: right;\">\n",
              "      <th></th>\n",
              "      <th>NAME</th>\n",
              "      <th>ABBREV</th>\n",
              "      <th>GNIS_ID</th>\n",
              "      <th>FIPS_CODE</th>\n",
              "      <th>SWIS</th>\n",
              "      <th>NYSP_ZONE</th>\n",
              "      <th>POP1990</th>\n",
              "      <th>POP2000</th>\n",
              "      <th>POP2010</th>\n",
              "      <th>POP2020</th>\n",
              "      <th>DOS_LL</th>\n",
              "      <th>DOSLL_DATE</th>\n",
              "      <th>NYC</th>\n",
              "      <th>CALC_SQ_MI</th>\n",
              "      <th>DATEMOD</th>\n",
              "      <th>Shape_Leng</th>\n",
              "      <th>Shape_Area</th>\n",
              "      <th>geometry</th>\n",
              "    </tr>\n",
              "  </thead>\n",
              "  <tbody>\n",
              "    <tr>\n",
              "      <th>0</th>\n",
              "      <td>Albany</td>\n",
              "      <td>ALBA</td>\n",
              "      <td>974099</td>\n",
              "      <td>36001</td>\n",
              "      <td>010000</td>\n",
              "      <td>East</td>\n",
              "      <td>292594</td>\n",
              "      <td>294565</td>\n",
              "      <td>304204</td>\n",
              "      <td>314848</td>\n",
              "      <td>None</td>\n",
              "      <td>None</td>\n",
              "      <td>N</td>\n",
              "      <td>532.791779</td>\n",
              "      <td>2017-11-10</td>\n",
              "      <td>166077.834242</td>\n",
              "      <td>1.379924e+09</td>\n",
              "      <td>POLYGON ((-73.70733 42.78605, -73.70397 42.783...</td>\n",
              "    </tr>\n",
              "    <tr>\n",
              "      <th>1</th>\n",
              "      <td>Allegany</td>\n",
              "      <td>ALLE</td>\n",
              "      <td>974100</td>\n",
              "      <td>36003</td>\n",
              "      <td>020000</td>\n",
              "      <td>West</td>\n",
              "      <td>50470</td>\n",
              "      <td>49927</td>\n",
              "      <td>48946</td>\n",
              "      <td>46456</td>\n",
              "      <td>None</td>\n",
              "      <td>None</td>\n",
              "      <td>N</td>\n",
              "      <td>1035.209131</td>\n",
              "      <td>2019-04-26</td>\n",
              "      <td>210499.339279</td>\n",
              "      <td>2.681179e+09</td>\n",
              "      <td>POLYGON ((-78.29218 42.52140, -78.29047 42.521...</td>\n",
              "    </tr>\n",
              "    <tr>\n",
              "      <th>2</th>\n",
              "      <td>Bronx</td>\n",
              "      <td>BRON</td>\n",
              "      <td>974101</td>\n",
              "      <td>36005</td>\n",
              "      <td>600000</td>\n",
              "      <td>Long Island</td>\n",
              "      <td>1203789</td>\n",
              "      <td>1332650</td>\n",
              "      <td>1385108</td>\n",
              "      <td>1472654</td>\n",
              "      <td>None</td>\n",
              "      <td>None</td>\n",
              "      <td>Y</td>\n",
              "      <td>57.472148</td>\n",
              "      <td>2019-10-04</td>\n",
              "      <td>57253.861278</td>\n",
              "      <td>1.488522e+08</td>\n",
              "      <td>POLYGON ((-73.86567 40.90219, -73.86300 40.901...</td>\n",
              "    </tr>\n",
              "    <tr>\n",
              "      <th>3</th>\n",
              "      <td>Broome</td>\n",
              "      <td>BROO</td>\n",
              "      <td>974102</td>\n",
              "      <td>36007</td>\n",
              "      <td>030000</td>\n",
              "      <td>Central</td>\n",
              "      <td>212160</td>\n",
              "      <td>200536</td>\n",
              "      <td>200600</td>\n",
              "      <td>198683</td>\n",
              "      <td>None</td>\n",
              "      <td>None</td>\n",
              "      <td>N</td>\n",
              "      <td>715.287465</td>\n",
              "      <td>2019-04-26</td>\n",
              "      <td>227933.332021</td>\n",
              "      <td>1.852586e+09</td>\n",
              "      <td>POLYGON ((-75.86416 42.41554, -75.86379 42.413...</td>\n",
              "    </tr>\n",
              "    <tr>\n",
              "      <th>4</th>\n",
              "      <td>Cattaraugus</td>\n",
              "      <td>CATT</td>\n",
              "      <td>974103</td>\n",
              "      <td>36009</td>\n",
              "      <td>040000</td>\n",
              "      <td>West</td>\n",
              "      <td>84234</td>\n",
              "      <td>83955</td>\n",
              "      <td>80317</td>\n",
              "      <td>77042</td>\n",
              "      <td>None</td>\n",
              "      <td>None</td>\n",
              "      <td>N</td>\n",
              "      <td>1324.309219</td>\n",
              "      <td>2019-04-26</td>\n",
              "      <td>276084.505560</td>\n",
              "      <td>3.429945e+09</td>\n",
              "      <td>POLYGON ((-79.02148 42.53804, -79.01937 42.537...</td>\n",
              "    </tr>\n",
              "    <tr>\n",
              "      <th>...</th>\n",
              "      <td>...</td>\n",
              "      <td>...</td>\n",
              "      <td>...</td>\n",
              "      <td>...</td>\n",
              "      <td>...</td>\n",
              "      <td>...</td>\n",
              "      <td>...</td>\n",
              "      <td>...</td>\n",
              "      <td>...</td>\n",
              "      <td>...</td>\n",
              "      <td>...</td>\n",
              "      <td>...</td>\n",
              "      <td>...</td>\n",
              "      <td>...</td>\n",
              "      <td>...</td>\n",
              "      <td>...</td>\n",
              "      <td>...</td>\n",
              "      <td>...</td>\n",
              "    </tr>\n",
              "    <tr>\n",
              "      <th>57</th>\n",
              "      <td>Washington</td>\n",
              "      <td>WASH</td>\n",
              "      <td>974155</td>\n",
              "      <td>36115</td>\n",
              "      <td>530000</td>\n",
              "      <td>East</td>\n",
              "      <td>59330</td>\n",
              "      <td>61042</td>\n",
              "      <td>63216</td>\n",
              "      <td>61302</td>\n",
              "      <td>None</td>\n",
              "      <td>None</td>\n",
              "      <td>N</td>\n",
              "      <td>845.855708</td>\n",
              "      <td>2017-11-10</td>\n",
              "      <td>302358.996697</td>\n",
              "      <td>2.190756e+09</td>\n",
              "      <td>POLYGON ((-73.37718 43.79995, -73.37690 43.799...</td>\n",
              "    </tr>\n",
              "    <tr>\n",
              "      <th>58</th>\n",
              "      <td>Wayne</td>\n",
              "      <td>WAYN</td>\n",
              "      <td>974156</td>\n",
              "      <td>36117</td>\n",
              "      <td>540000</td>\n",
              "      <td>Central</td>\n",
              "      <td>89123</td>\n",
              "      <td>93765</td>\n",
              "      <td>93772</td>\n",
              "      <td>91283</td>\n",
              "      <td>None</td>\n",
              "      <td>None</td>\n",
              "      <td>N</td>\n",
              "      <td>1395.598959</td>\n",
              "      <td>2018-02-08</td>\n",
              "      <td>254972.219986</td>\n",
              "      <td>3.614585e+09</td>\n",
              "      <td>POLYGON ((-76.74696 43.69594, -76.72214 43.343...</td>\n",
              "    </tr>\n",
              "    <tr>\n",
              "      <th>59</th>\n",
              "      <td>Westchester</td>\n",
              "      <td>WEST</td>\n",
              "      <td>974157</td>\n",
              "      <td>36119</td>\n",
              "      <td>550000</td>\n",
              "      <td>East</td>\n",
              "      <td>874866</td>\n",
              "      <td>923459</td>\n",
              "      <td>949113</td>\n",
              "      <td>1004457</td>\n",
              "      <td>None</td>\n",
              "      <td>None</td>\n",
              "      <td>N</td>\n",
              "      <td>499.972897</td>\n",
              "      <td>2019-10-04</td>\n",
              "      <td>182997.677827</td>\n",
              "      <td>1.294924e+09</td>\n",
              "      <td>POLYGON ((-73.54795 41.31920, -73.54819 41.316...</td>\n",
              "    </tr>\n",
              "    <tr>\n",
              "      <th>60</th>\n",
              "      <td>Wyoming</td>\n",
              "      <td>WYOM</td>\n",
              "      <td>974158</td>\n",
              "      <td>36121</td>\n",
              "      <td>560000</td>\n",
              "      <td>West</td>\n",
              "      <td>42507</td>\n",
              "      <td>43424</td>\n",
              "      <td>42155</td>\n",
              "      <td>40531</td>\n",
              "      <td>None</td>\n",
              "      <td>None</td>\n",
              "      <td>N</td>\n",
              "      <td>596.822633</td>\n",
              "      <td>2018-09-20</td>\n",
              "      <td>176096.925232</td>\n",
              "      <td>1.545764e+09</td>\n",
              "      <td>POLYGON ((-78.36506 42.86886, -78.36497 42.868...</td>\n",
              "    </tr>\n",
              "    <tr>\n",
              "      <th>61</th>\n",
              "      <td>Yates</td>\n",
              "      <td>YATE</td>\n",
              "      <td>974159</td>\n",
              "      <td>36123</td>\n",
              "      <td>570000</td>\n",
              "      <td>Central</td>\n",
              "      <td>22810</td>\n",
              "      <td>24621</td>\n",
              "      <td>25348</td>\n",
              "      <td>24774</td>\n",
              "      <td>None</td>\n",
              "      <td>None</td>\n",
              "      <td>N</td>\n",
              "      <td>375.771539</td>\n",
              "      <td>2018-02-08</td>\n",
              "      <td>141535.638713</td>\n",
              "      <td>9.732438e+08</td>\n",
              "      <td>POLYGON ((-77.23283 42.76140, -77.23249 42.761...</td>\n",
              "    </tr>\n",
              "  </tbody>\n",
              "</table>\n",
              "<p>62 rows × 18 columns</p>\n",
              "</div>\n",
              "      <button class=\"colab-df-convert\" onclick=\"convertToInteractive('df-58bf2c90-4e26-4749-9465-6b944d139dd3')\"\n",
              "              title=\"Convert this dataframe to an interactive table.\"\n",
              "              style=\"display:none;\">\n",
              "        \n",
              "  <svg xmlns=\"http://www.w3.org/2000/svg\" height=\"24px\"viewBox=\"0 0 24 24\"\n",
              "       width=\"24px\">\n",
              "    <path d=\"M0 0h24v24H0V0z\" fill=\"none\"/>\n",
              "    <path d=\"M18.56 5.44l.94 2.06.94-2.06 2.06-.94-2.06-.94-.94-2.06-.94 2.06-2.06.94zm-11 1L8.5 8.5l.94-2.06 2.06-.94-2.06-.94L8.5 2.5l-.94 2.06-2.06.94zm10 10l.94 2.06.94-2.06 2.06-.94-2.06-.94-.94-2.06-.94 2.06-2.06.94z\"/><path d=\"M17.41 7.96l-1.37-1.37c-.4-.4-.92-.59-1.43-.59-.52 0-1.04.2-1.43.59L10.3 9.45l-7.72 7.72c-.78.78-.78 2.05 0 2.83L4 21.41c.39.39.9.59 1.41.59.51 0 1.02-.2 1.41-.59l7.78-7.78 2.81-2.81c.8-.78.8-2.07 0-2.86zM5.41 20L4 18.59l7.72-7.72 1.47 1.35L5.41 20z\"/>\n",
              "  </svg>\n",
              "      </button>\n",
              "      \n",
              "  <style>\n",
              "    .colab-df-container {\n",
              "      display:flex;\n",
              "      flex-wrap:wrap;\n",
              "      gap: 12px;\n",
              "    }\n",
              "\n",
              "    .colab-df-convert {\n",
              "      background-color: #E8F0FE;\n",
              "      border: none;\n",
              "      border-radius: 50%;\n",
              "      cursor: pointer;\n",
              "      display: none;\n",
              "      fill: #1967D2;\n",
              "      height: 32px;\n",
              "      padding: 0 0 0 0;\n",
              "      width: 32px;\n",
              "    }\n",
              "\n",
              "    .colab-df-convert:hover {\n",
              "      background-color: #E2EBFA;\n",
              "      box-shadow: 0px 1px 2px rgba(60, 64, 67, 0.3), 0px 1px 3px 1px rgba(60, 64, 67, 0.15);\n",
              "      fill: #174EA6;\n",
              "    }\n",
              "\n",
              "    [theme=dark] .colab-df-convert {\n",
              "      background-color: #3B4455;\n",
              "      fill: #D2E3FC;\n",
              "    }\n",
              "\n",
              "    [theme=dark] .colab-df-convert:hover {\n",
              "      background-color: #434B5C;\n",
              "      box-shadow: 0px 1px 3px 1px rgba(0, 0, 0, 0.15);\n",
              "      filter: drop-shadow(0px 1px 2px rgba(0, 0, 0, 0.3));\n",
              "      fill: #FFFFFF;\n",
              "    }\n",
              "  </style>\n",
              "\n",
              "      <script>\n",
              "        const buttonEl =\n",
              "          document.querySelector('#df-58bf2c90-4e26-4749-9465-6b944d139dd3 button.colab-df-convert');\n",
              "        buttonEl.style.display =\n",
              "          google.colab.kernel.accessAllowed ? 'block' : 'none';\n",
              "\n",
              "        async function convertToInteractive(key) {\n",
              "          const element = document.querySelector('#df-58bf2c90-4e26-4749-9465-6b944d139dd3');\n",
              "          const dataTable =\n",
              "            await google.colab.kernel.invokeFunction('convertToInteractive',\n",
              "                                                     [key], {});\n",
              "          if (!dataTable) return;\n",
              "\n",
              "          const docLinkHtml = 'Like what you see? Visit the ' +\n",
              "            '<a target=\"_blank\" href=https://colab.research.google.com/notebooks/data_table.ipynb>data table notebook</a>'\n",
              "            + ' to learn more about interactive tables.';\n",
              "          element.innerHTML = '';\n",
              "          dataTable['output_type'] = 'display_data';\n",
              "          await google.colab.output.renderOutput(dataTable, element);\n",
              "          const docLink = document.createElement('div');\n",
              "          docLink.innerHTML = docLinkHtml;\n",
              "          element.appendChild(docLink);\n",
              "        }\n",
              "      </script>\n",
              "    </div>\n",
              "  </div>\n",
              "  "
            ]
          },
          "metadata": {},
          "execution_count": 3
        }
      ],
      "source": [
        "counties"
      ]
    },
    {
      "cell_type": "code",
      "execution_count": null,
      "id": "386fbc3e-a1a8-40a6-9e14-4aa5a7f08031",
      "metadata": {
        "colab": {
          "base_uri": "https://localhost:8080/"
        },
        "id": "386fbc3e-a1a8-40a6-9e14-4aa5a7f08031",
        "outputId": "d17ecd47-015f-4806-da30-f97519e6cd76"
      },
      "outputs": [
        {
          "output_type": "execute_result",
          "data": {
            "text/plain": [
              "geopandas.geoseries.GeoSeries"
            ]
          },
          "metadata": {},
          "execution_count": 4
        }
      ],
      "source": [
        "ny = counties[counties.loc[:, \"NAME\"]==\"New York\"].loc[:, \"geometry\"]\n",
        "type(ny)"
      ]
    },
    {
      "cell_type": "code",
      "execution_count": null,
      "id": "3175d382-8d09-41b7-8e95-d4f83b3f5280",
      "metadata": {
        "colab": {
          "base_uri": "https://localhost:8080/",
          "height": 918
        },
        "id": "3175d382-8d09-41b7-8e95-d4f83b3f5280",
        "outputId": "e96c884f-0adc-4453-8011-c6ecbd0024f7"
      },
      "outputs": [
        {
          "output_type": "display_data",
          "data": {
            "text/plain": [
              "<Figure size 1728x1152 with 1 Axes>"
            ],
            "image/png": "[encoded data removed]"
          },
          "metadata": {
            "needs_background": "light"
          }
        }
      ],
      "source": [
        "ny.plot(figsize=(24,16));"
      ]
    },
    {
      "cell_type": "code",
      "execution_count": null,
      "id": "59cbae6e-6a8f-446f-b7b5-70e2e5ec787c",
      "metadata": {
        "id": "59cbae6e-6a8f-446f-b7b5-70e2e5ec787c"
      },
      "outputs": [],
      "source": [
        ""
      ]
    },
    {
      "cell_type": "code",
      "execution_count": null,
      "id": "1b104684-0c98-41f9-b79c-a3dc885385fd",
      "metadata": {
        "id": "1b104684-0c98-41f9-b79c-a3dc885385fd"
      },
      "outputs": [],
      "source": [
        "img_dir = \"drive/MyDrive/Colab Notebooks/project//data/images/\"\n",
        "data_dir = \"drive/MyDrive/Colab Notebooks/project//data/\"\n",
        "from scipy.io import loadmat\n",
        "coordinates = loadmat(data_dir + \"GPS_Long_Lat_Compass.mat\")[\"GPS_Compass\"] # Coordinates. Each coordinate corresponds to 6 pictures\n"
      ]
    },
    {
      "cell_type": "code",
      "execution_count": null,
      "id": "03a7c139-976a-4421-a645-0d378ae46e05",
      "metadata": {
        "colab": {
          "base_uri": "https://localhost:8080/"
        },
        "id": "03a7c139-976a-4421-a645-0d378ae46e05",
        "outputId": "279bd866-e673-4848-ce37-b90dfdae6b39"
      },
      "outputs": [
        {
          "output_type": "execute_result",
          "data": {
            "text/plain": [
              "numpy.float64"
            ]
          },
          "metadata": {},
          "execution_count": 7
        }
      ],
      "source": [
        "type(coordinates[0][0])"
      ]
    },
    {
      "cell_type": "code",
      "execution_count": null,
      "id": "abca5815-c767-4584-bb1a-bda83aa6e19c",
      "metadata": {
        "id": "abca5815-c767-4584-bb1a-bda83aa6e19c"
      },
      "outputs": [],
      "source": [
        "coordinates = [Point(c[1], c[0]) for c in coordinates]"
      ]
    },
    {
      "cell_type": "code",
      "execution_count": null,
      "id": "f808b653-2146-4ca7-a947-4063a6d7f6ed",
      "metadata": {
        "id": "f808b653-2146-4ca7-a947-4063a6d7f6ed"
      },
      "outputs": [],
      "source": [
        "coordinates_gpd = gpd.GeoDataFrame(geometry=coordinates)"
      ]
    },
    {
      "cell_type": "code",
      "execution_count": null,
      "id": "a3d185e0-b598-4631-9846-e03e159c860f",
      "metadata": {
        "colab": {
          "base_uri": "https://localhost:8080/",
          "height": 424
        },
        "id": "a3d185e0-b598-4631-9846-e03e159c860f",
        "outputId": "743f81da-d3fc-4877-ec05-e13408087715"
      },
      "outputs": [
        {
          "output_type": "execute_result",
          "data": {
            "text/plain": [
              "                         geometry\n",
              "0      POINT (-80.00000 40.44031)\n",
              "1      POINT (-80.00680 40.44027)\n",
              "2      POINT (-80.00670 40.44023)\n",
              "3      POINT (-80.00660 40.44019)\n",
              "4      POINT (-80.00650 40.44015)\n",
              "...                           ...\n",
              "10338  POINT (-74.00172 40.73055)\n",
              "10339  POINT (-74.00160 40.73075)\n",
              "10340  POINT (-74.00154 40.73085)\n",
              "10341  POINT (-74.00149 40.73093)\n",
              "10342  POINT (-74.00142 40.73105)\n",
              "\n",
              "[10343 rows x 1 columns]"
            ],
            "text/html": [
              "\n",
              "  <div id=\"df-e441f9f8-6803-4b87-bfdf-580ab9fdba24\">\n",
              "    <div class=\"colab-df-container\">\n",
              "      <div>\n",
              "<style scoped>\n",
              "    .dataframe tbody tr th:only-of-type {\n",
              "        vertical-align: middle;\n",
              "    }\n",
              "\n",
              "    .dataframe tbody tr th {\n",
              "        vertical-align: top;\n",
              "    }\n",
              "\n",
              "    .dataframe thead th {\n",
              "        text-align: right;\n",
              "    }\n",
              "</style>\n",
              "<table border=\"1\" class=\"dataframe\">\n",
              "  <thead>\n",
              "    <tr style=\"text-align: right;\">\n",
              "      <th></th>\n",
              "      <th>geometry</th>\n",
              "    </tr>\n",
              "  </thead>\n",
              "  <tbody>\n",
              "    <tr>\n",
              "      <th>0</th>\n",
              "      <td>POINT (-80.00000 40.44031)</td>\n",
              "    </tr>\n",
              "    <tr>\n",
              "      <th>1</th>\n",
              "      <td>POINT (-80.00680 40.44027)</td>\n",
              "    </tr>\n",
              "    <tr>\n",
              "      <th>2</th>\n",
              "      <td>POINT (-80.00670 40.44023)</td>\n",
              "    </tr>\n",
              "    <tr>\n",
              "      <th>3</th>\n",
              "      <td>POINT (-80.00660 40.44019)</td>\n",
              "    </tr>\n",
              "    <tr>\n",
              "      <th>4</th>\n",
              "      <td>POINT (-80.00650 40.44015)</td>\n",
              "    </tr>\n",
              "    <tr>\n",
              "      <th>...</th>\n",
              "      <td>...</td>\n",
              "    </tr>\n",
              "    <tr>\n",
              "      <th>10338</th>\n",
              "      <td>POINT (-74.00172 40.73055)</td>\n",
              "    </tr>\n",
              "    <tr>\n",
              "      <th>10339</th>\n",
              "      <td>POINT (-74.00160 40.73075)</td>\n",
              "    </tr>\n",
              "    <tr>\n",
              "      <th>10340</th>\n",
              "      <td>POINT (-74.00154 40.73085)</td>\n",
              "    </tr>\n",
              "    <tr>\n",
              "      <th>10341</th>\n",
              "      <td>POINT (-74.00149 40.73093)</td>\n",
              "    </tr>\n",
              "    <tr>\n",
              "      <th>10342</th>\n",
              "      <td>POINT (-74.00142 40.73105)</td>\n",
              "    </tr>\n",
              "  </tbody>\n",
              "</table>\n",
              "<p>10343 rows × 1 columns</p>\n",
              "</div>\n",
              "      <button class=\"colab-df-convert\" onclick=\"convertToInteractive('df-e441f9f8-6803-4b87-bfdf-580ab9fdba24')\"\n",
              "              title=\"Convert this dataframe to an interactive table.\"\n",
              "              style=\"display:none;\">\n",
              "        \n",
              "  <svg xmlns=\"http://www.w3.org/2000/svg\" height=\"24px\"viewBox=\"0 0 24 24\"\n",
              "       width=\"24px\">\n",
              "    <path d=\"M0 0h24v24H0V0z\" fill=\"none\"/>\n",
              "    <path d=\"M18.56 5.44l.94 2.06.94-2.06 2.06-.94-2.06-.94-.94-2.06-.94 2.06-2.06.94zm-11 1L8.5 8.5l.94-2.06 2.06-.94-2.06-.94L8.5 2.5l-.94 2.06-2.06.94zm10 10l.94 2.06.94-2.06 2.06-.94-2.06-.94-.94-2.06-.94 2.06-2.06.94z\"/><path d=\"M17.41 7.96l-1.37-1.37c-.4-.4-.92-.59-1.43-.59-.52 0-1.04.2-1.43.59L10.3 9.45l-7.72 7.72c-.78.78-.78 2.05 0 2.83L4 21.41c.39.39.9.59 1.41.59.51 0 1.02-.2 1.41-.59l7.78-7.78 2.81-2.81c.8-.78.8-2.07 0-2.86zM5.41 20L4 18.59l7.72-7.72 1.47 1.35L5.41 20z\"/>\n",
              "  </svg>\n",
              "      </button>\n",
              "      \n",
              "  <style>\n",
              "    .colab-df-container {\n",
              "      display:flex;\n",
              "      flex-wrap:wrap;\n",
              "      gap: 12px;\n",
              "    }\n",
              "\n",
              "    .colab-df-convert {\n",
              "      background-color: #E8F0FE;\n",
              "      border: none;\n",
              "      border-radius: 50%;\n",
              "      cursor: pointer;\n",
              "      display: none;\n",
              "      fill: #1967D2;\n",
              "      height: 32px;\n",
              "      padding: 0 0 0 0;\n",
              "      width: 32px;\n",
              "    }\n",
              "\n",
              "    .colab-df-convert:hover {\n",
              "      background-color: #E2EBFA;\n",
              "      box-shadow: 0px 1px 2px rgba(60, 64, 67, 0.3), 0px 1px 3px 1px rgba(60, 64, 67, 0.15);\n",
              "      fill: #174EA6;\n",
              "    }\n",
              "\n",
              "    [theme=dark] .colab-df-convert {\n",
              "      background-color: #3B4455;\n",
              "      fill: #D2E3FC;\n",
              "    }\n",
              "\n",
              "    [theme=dark] .colab-df-convert:hover {\n",
              "      background-color: #434B5C;\n",
              "      box-shadow: 0px 1px 3px 1px rgba(0, 0, 0, 0.15);\n",
              "      filter: drop-shadow(0px 1px 2px rgba(0, 0, 0, 0.3));\n",
              "      fill: #FFFFFF;\n",
              "    }\n",
              "  </style>\n",
              "\n",
              "      <script>\n",
              "        const buttonEl =\n",
              "          document.querySelector('#df-e441f9f8-6803-4b87-bfdf-580ab9fdba24 button.colab-df-convert');\n",
              "        buttonEl.style.display =\n",
              "          google.colab.kernel.accessAllowed ? 'block' : 'none';\n",
              "\n",
              "        async function convertToInteractive(key) {\n",
              "          const element = document.querySelector('#df-e441f9f8-6803-4b87-bfdf-580ab9fdba24');\n",
              "          const dataTable =\n",
              "            await google.colab.kernel.invokeFunction('convertToInteractive',\n",
              "                                                     [key], {});\n",
              "          if (!dataTable) return;\n",
              "\n",
              "          const docLinkHtml = 'Like what you see? Visit the ' +\n",
              "            '<a target=\"_blank\" href=https://colab.research.google.com/notebooks/data_table.ipynb>data table notebook</a>'\n",
              "            + ' to learn more about interactive tables.';\n",
              "          element.innerHTML = '';\n",
              "          dataTable['output_type'] = 'display_data';\n",
              "          await google.colab.output.renderOutput(dataTable, element);\n",
              "          const docLink = document.createElement('div');\n",
              "          docLink.innerHTML = docLinkHtml;\n",
              "          element.appendChild(docLink);\n",
              "        }\n",
              "      </script>\n",
              "    </div>\n",
              "  </div>\n",
              "  "
            ]
          },
          "metadata": {},
          "execution_count": 10
        }
      ],
      "source": [
        "coordinates_gpd"
      ]
    },
    {
      "cell_type": "code",
      "source": [
        "!pip install reverse_geocoder"
      ],
      "metadata": {
        "colab": {
          "base_uri": "https://localhost:8080/"
        },
        "id": "iJ8-lTOCv7jE",
        "outputId": "88a2166e-0f3a-4821-c71d-64cbfa2541fd"
      },
      "id": "iJ8-lTOCv7jE",
      "execution_count": null,
      "outputs": [
        {
          "output_type": "stream",
          "name": "stdout",
          "text": [
            "Collecting reverse_geocoder\n",
            "  Downloading reverse_geocoder-1.5.1.tar.gz (2.2 MB)\n",
            "\u001b[K     |████████████████████████████████| 2.2 MB 14.5 MB/s \n",
            "\u001b[?25hRequirement already satisfied: numpy>=1.11.0 in /usr/local/lib/python3.7/dist-packages (from reverse_geocoder) (1.21.6)\n",
            "Requirement already satisfied: scipy>=0.17.1 in /usr/local/lib/python3.7/dist-packages (from reverse_geocoder) (1.4.1)\n",
            "Building wheels for collected packages: reverse-geocoder\n",
            "  Building wheel for reverse-geocoder (setup.py) ... \u001b[?25l\u001b[?25hdone\n",
            "  Created wheel for reverse-geocoder: filename=reverse_geocoder-1.5.1-py3-none-any.whl size=2268088 sha256=43bf2878880292a58e24bb1e92be8002d6bd7d0a8c17634b380069d392148638\n",
            "  Stored in directory: /root/.cache/pip/wheels/34/6e/70/5423639428a2cac8ea7eb467214a4254b549b381f306a9c790\n",
            "Successfully built reverse-geocoder\n",
            "Installing collected packages: reverse-geocoder\n",
            "Successfully installed reverse-geocoder-1.5.1\n"
          ]
        }
      ]
    },
    {
      "cell_type": "code",
      "execution_count": null,
      "id": "7bd72aae-4ca7-4f4c-a0f2-be4f915916d9",
      "metadata": {
        "id": "7bd72aae-4ca7-4f4c-a0f2-be4f915916d9"
      },
      "outputs": [],
      "source": [
        "import torch\n",
        "import torchvision\n",
        "import torchvision.transforms as transforms\n",
        "from sklearn.model_selection import train_test_split\n",
        "from scipy.io import loadmat\n",
        "import reverse_geocoder\n",
        "from os import listdir\n",
        "from os.path import isfile, join"
      ]
    },
    {
      "cell_type": "code",
      "execution_count": null,
      "id": "3ccbe298-6e50-40ce-bf42-8ae9fafe3bf2",
      "metadata": {
        "id": "3ccbe298-6e50-40ce-bf42-8ae9fafe3bf2"
      },
      "outputs": [],
      "source": [
        "### Returns an array of True/False if the coordinate is in a given state\n",
        "### coordinates: An array of coordinates\n",
        "### state: Full name of the state. ex= \"New York\"\n",
        "def get_coordinates_in_state(coordinates, state):\n",
        "    coords = [(lat,long) for lat,long,ele in coordinates]\n",
        "    results = reverse_geocoder.search(coords, mode=2)\n",
        "    state = [x['admin1']==state for x in results]\n",
        "    return state"
      ]
    },
    {
      "cell_type": "code",
      "execution_count": null,
      "id": "deeafb07-bd0b-4fbe-879c-e6eeb3ea6558",
      "metadata": {
        "colab": {
          "base_uri": "https://localhost:8080/"
        },
        "id": "deeafb07-bd0b-4fbe-879c-e6eeb3ea6558",
        "outputId": "7a7591d0-bc5e-48a9-a818-cc2ec36804a5"
      },
      "outputs": [
        {
          "output_type": "stream",
          "name": "stdout",
          "text": [
            "Loading formatted geocoded file...\n"
          ]
        },
        {
          "output_type": "execute_result",
          "data": {
            "text/plain": [
              "[False, False, False, False, False]"
            ]
          },
          "metadata": {},
          "execution_count": 15
        }
      ],
      "source": [
        "img_dir = \"drive/MyDrive/Colab Notebooks/project/data/images/\"\n",
        "data_dir = \"drive/MyDrive/Colab Notebooks/project/data/\"\n",
        "img_files = [f for f in listdir(img_dir) if isfile(join(img_dir, f))] # Names of all images in the folder\n",
        "coordinates = loadmat(data_dir + \"GPS_Long_Lat_Compass.mat\")[\"GPS_Compass\"] # Coordinates. Each coordinate corresponds to 6 pictures\n",
        "in_ny = get_coordinates_in_state(coordinates=coordinates, state=\"New York\") # All coordinates in NY\n",
        "in_ny[:5]"
      ]
    },
    {
      "cell_type": "code",
      "execution_count": null,
      "id": "e1da816c-2aa9-471c-aa30-750c30b4d05c",
      "metadata": {
        "id": "e1da816c-2aa9-471c-aa30-750c30b4d05c"
      },
      "outputs": [],
      "source": [
        "ny_coords = [coordinates[x] for x in range(len(in_ny)) if in_ny[x]]\n",
        "coordinates = [Point(c[1], c[0]) for c in ny_coords]"
      ]
    },
    {
      "cell_type": "code",
      "execution_count": null,
      "id": "a5053526-9b3c-450e-9b58-c31f43e08bf0",
      "metadata": {
        "colab": {
          "base_uri": "https://localhost:8080/"
        },
        "id": "a5053526-9b3c-450e-9b58-c31f43e08bf0",
        "outputId": "2d40881e-95f2-4f12-9105-09860b12dfd4"
      },
      "outputs": [
        {
          "output_type": "execute_result",
          "data": {
            "text/plain": [
              "4731"
            ]
          },
          "metadata": {},
          "execution_count": 17
        }
      ],
      "source": [
        "len(ny_coords)"
      ]
    },
    {
      "cell_type": "code",
      "execution_count": null,
      "id": "a810050a-5db0-4d47-aad3-abac99d2b0b8",
      "metadata": {
        "id": "a810050a-5db0-4d47-aad3-abac99d2b0b8"
      },
      "outputs": [],
      "source": [
        "ny_coordinates_gpd = gpd.GeoDataFrame(geometry=coordinates)"
      ]
    },
    {
      "cell_type": "code",
      "execution_count": null,
      "id": "e917e97c-04e5-4c78-8172-84c9f01c8244",
      "metadata": {
        "colab": {
          "base_uri": "https://localhost:8080/",
          "height": 935
        },
        "id": "e917e97c-04e5-4c78-8172-84c9f01c8244",
        "outputId": "9d95e1d8-e75d-4a6e-b16e-4ad0238da46d"
      },
      "outputs": [
        {
          "output_type": "execute_result",
          "data": {
            "text/plain": [
              "<matplotlib.axes._subplots.AxesSubplot at 0x7f0273923290>"
            ]
          },
          "metadata": {},
          "execution_count": 19
        },
        {
          "output_type": "display_data",
          "data": {
            "text/plain": [
              "<Figure size 1152x1152 with 1 Axes>"
            ],
            "image/png": "[encoded data removed]"
          },
          "metadata": {
            "needs_background": "light"
          }
        }
      ],
      "source": [
        "import matplotlib.pyplot as plt\n",
        "ax = ny.plot(color='lightgrey',figsize=(16,16))\n",
        "ny_coordinates_gpd.loc[:,'geometry'].plot(ax=ax)"
      ]
    },
    {
      "cell_type": "code",
      "execution_count": null,
      "id": "d8dbf185-1bad-47c3-b8dd-848cd63fdc83",
      "metadata": {
        "colab": {
          "base_uri": "https://localhost:8080/"
        },
        "id": "d8dbf185-1bad-47c3-b8dd-848cd63fdc83",
        "outputId": "6ece54b6-48a0-43ec-8f0b-792575ef2f58"
      },
      "outputs": [
        {
          "output_type": "stream",
          "name": "stdout",
          "text": [
            "         minx       miny       maxx       maxy\n",
            "30 -74.047207  40.679654 -73.906769  40.882012\n"
          ]
        },
        {
          "output_type": "execute_result",
          "data": {
            "text/plain": [
              "[array([-74.0472072 ,  40.67965408, -73.90676928,  40.88201247])]"
            ]
          },
          "metadata": {},
          "execution_count": 20
        }
      ],
      "source": [
        "bounds = ny.bounds\n",
        "print(bounds)\n",
        "list(bounds.values)"
      ]
    },
    {
      "cell_type": "code",
      "execution_count": null,
      "id": "b62f60a5-3119-41f9-bfe2-903ae0cf3de1",
      "metadata": {
        "id": "b62f60a5-3119-41f9-bfe2-903ae0cf3de1"
      },
      "outputs": [],
      "source": [
        "import pickle\n",
        "\n",
        "pickle.dump(ny, open(\"ny.pkl\",\"wb\"))"
      ]
    },
    {
      "cell_type": "code",
      "source": [
        "!pip install gmaps"
      ],
      "metadata": {
        "colab": {
          "base_uri": "https://localhost:8080/"
        },
        "id": "gMm2vnAjyNbr",
        "outputId": "c85bc685-efbb-4918-cbe8-786eb0ba6b83"
      },
      "id": "gMm2vnAjyNbr",
      "execution_count": null,
      "outputs": [
        {
          "output_type": "stream",
          "name": "stdout",
          "text": [
            "Collecting gmaps\n",
            "  Downloading gmaps-0.9.0.tar.gz (1.1 MB)\n",
            "\u001b[?25l\r\u001b[K     |▎                               | 10 kB 22.2 MB/s eta 0:00:01\r\u001b[K     |▋                               | 20 kB 26.1 MB/s eta 0:00:01\r\u001b[K     |█                               | 30 kB 31.4 MB/s eta 0:00:01\r\u001b[K     |█▎                              | 40 kB 16.0 MB/s eta 0:00:01\r\u001b[K     |█▌                              | 51 kB 13.2 MB/s eta 0:00:01\r\u001b[K     |█▉                              | 61 kB 15.2 MB/s eta 0:00:01\r\u001b[K     |██▏                             | 71 kB 15.0 MB/s eta 0:00:01\r\u001b[K     |██▌                             | 81 kB 16.4 MB/s eta 0:00:01\r\u001b[K     |██▉                             | 92 kB 18.0 MB/s eta 0:00:01\r\u001b[K     |███                             | 102 kB 17.3 MB/s eta 0:00:01\r\u001b[K     |███▍                            | 112 kB 17.3 MB/s eta 0:00:01\r\u001b[K     |███▊                            | 122 kB 17.3 MB/s eta 0:00:01\r\u001b[K     |████                            | 133 kB 17.3 MB/s eta 0:00:01\r\u001b[K     |████▍                           | 143 kB 17.3 MB/s eta 0:00:01\r\u001b[K     |████▋                           | 153 kB 17.3 MB/s eta 0:00:01\r\u001b[K     |█████                           | 163 kB 17.3 MB/s eta 0:00:01\r\u001b[K     |█████▎                          | 174 kB 17.3 MB/s eta 0:00:01\r\u001b[K     |█████▋                          | 184 kB 17.3 MB/s eta 0:00:01\r\u001b[K     |██████                          | 194 kB 17.3 MB/s eta 0:00:01\r\u001b[K     |██████▏                         | 204 kB 17.3 MB/s eta 0:00:01\r\u001b[K     |██████▌                         | 215 kB 17.3 MB/s eta 0:00:01\r\u001b[K     |██████▉                         | 225 kB 17.3 MB/s eta 0:00:01\r\u001b[K     |███████▏                        | 235 kB 17.3 MB/s eta 0:00:01\r\u001b[K     |███████▌                        | 245 kB 17.3 MB/s eta 0:00:01\r\u001b[K     |███████▊                        | 256 kB 17.3 MB/s eta 0:00:01\r\u001b[K     |████████                        | 266 kB 17.3 MB/s eta 0:00:01\r\u001b[K     |████████▍                       | 276 kB 17.3 MB/s eta 0:00:01\r\u001b[K     |████████▊                       | 286 kB 17.3 MB/s eta 0:00:01\r\u001b[K     |█████████                       | 296 kB 17.3 MB/s eta 0:00:01\r\u001b[K     |█████████▎                      | 307 kB 17.3 MB/s eta 0:00:01\r\u001b[K     |█████████▋                      | 317 kB 17.3 MB/s eta 0:00:01\r\u001b[K     |██████████                      | 327 kB 17.3 MB/s eta 0:00:01\r\u001b[K     |██████████▎                     | 337 kB 17.3 MB/s eta 0:00:01\r\u001b[K     |██████████▋                     | 348 kB 17.3 MB/s eta 0:00:01\r\u001b[K     |██████████▉                     | 358 kB 17.3 MB/s eta 0:00:01\r\u001b[K     |███████████▏                    | 368 kB 17.3 MB/s eta 0:00:01\r\u001b[K     |███████████▌                    | 378 kB 17.3 MB/s eta 0:00:01\r\u001b[K     |███████████▉                    | 389 kB 17.3 MB/s eta 0:00:01\r\u001b[K     |████████████▏                   | 399 kB 17.3 MB/s eta 0:00:01\r\u001b[K     |████████████▍                   | 409 kB 17.3 MB/s eta 0:00:01\r\u001b[K     |████████████▊                   | 419 kB 17.3 MB/s eta 0:00:01\r\u001b[K     |█████████████                   | 430 kB 17.3 MB/s eta 0:00:01\r\u001b[K     |█████████████▍                  | 440 kB 17.3 MB/s eta 0:00:01\r\u001b[K     |█████████████▊                  | 450 kB 17.3 MB/s eta 0:00:01\r\u001b[K     |██████████████                  | 460 kB 17.3 MB/s eta 0:00:01\r\u001b[K     |██████████████▎                 | 471 kB 17.3 MB/s eta 0:00:01\r\u001b[K     |██████████████▋                 | 481 kB 17.3 MB/s eta 0:00:01\r\u001b[K     |███████████████                 | 491 kB 17.3 MB/s eta 0:00:01\r\u001b[K     |███████████████▎                | 501 kB 17.3 MB/s eta 0:00:01\r\u001b[K     |███████████████▌                | 512 kB 17.3 MB/s eta 0:00:01\r\u001b[K     |███████████████▉                | 522 kB 17.3 MB/s eta 0:00:01\r\u001b[K     |████████████████▏               | 532 kB 17.3 MB/s eta 0:00:01\r\u001b[K     |████████████████▌               | 542 kB 17.3 MB/s eta 0:00:01\r\u001b[K     |████████████████▉               | 552 kB 17.3 MB/s eta 0:00:01\r\u001b[K     |█████████████████               | 563 kB 17.3 MB/s eta 0:00:01\r\u001b[K     |█████████████████▍              | 573 kB 17.3 MB/s eta 0:00:01\r\u001b[K     |█████████████████▊              | 583 kB 17.3 MB/s eta 0:00:01\r\u001b[K     |██████████████████              | 593 kB 17.3 MB/s eta 0:00:01\r\u001b[K     |██████████████████▍             | 604 kB 17.3 MB/s eta 0:00:01\r\u001b[K     |██████████████████▋             | 614 kB 17.3 MB/s eta 0:00:01\r\u001b[K     |███████████████████             | 624 kB 17.3 MB/s eta 0:00:01\r\u001b[K     |███████████████████▎            | 634 kB 17.3 MB/s eta 0:00:01\r\u001b[K     |███████████████████▋            | 645 kB 17.3 MB/s eta 0:00:01\r\u001b[K     |████████████████████            | 655 kB 17.3 MB/s eta 0:00:01\r\u001b[K     |████████████████████▏           | 665 kB 17.3 MB/s eta 0:00:01\r\u001b[K     |████████████████████▌           | 675 kB 17.3 MB/s eta 0:00:01\r\u001b[K     |████████████████████▉           | 686 kB 17.3 MB/s eta 0:00:01\r\u001b[K     |█████████████████████▏          | 696 kB 17.3 MB/s eta 0:00:01\r\u001b[K     |█████████████████████▌          | 706 kB 17.3 MB/s eta 0:00:01\r\u001b[K     |█████████████████████▊          | 716 kB 17.3 MB/s eta 0:00:01\r\u001b[K     |██████████████████████          | 727 kB 17.3 MB/s eta 0:00:01\r\u001b[K     |██████████████████████▍         | 737 kB 17.3 MB/s eta 0:00:01\r\u001b[K     |██████████████████████▊         | 747 kB 17.3 MB/s eta 0:00:01\r\u001b[K     |███████████████████████         | 757 kB 17.3 MB/s eta 0:00:01\r\u001b[K     |███████████████████████▎        | 768 kB 17.3 MB/s eta 0:00:01\r\u001b[K     |███████████████████████▋        | 778 kB 17.3 MB/s eta 0:00:01\r\u001b[K     |████████████████████████        | 788 kB 17.3 MB/s eta 0:00:01\r\u001b[K     |████████████████████████▎       | 798 kB 17.3 MB/s eta 0:00:01\r\u001b[K     |████████████████████████▋       | 808 kB 17.3 MB/s eta 0:00:01\r\u001b[K     |████████████████████████▉       | 819 kB 17.3 MB/s eta 0:00:01\r\u001b[K     |█████████████████████████▏      | 829 kB 17.3 MB/s eta 0:00:01\r\u001b[K     |█████████████████████████▌      | 839 kB 17.3 MB/s eta 0:00:01\r\u001b[K     |█████████████████████████▉      | 849 kB 17.3 MB/s eta 0:00:01\r\u001b[K     |██████████████████████████▏     | 860 kB 17.3 MB/s eta 0:00:01\r\u001b[K     |██████████████████████████▍     | 870 kB 17.3 MB/s eta 0:00:01\r\u001b[K     |██████████████████████████▊     | 880 kB 17.3 MB/s eta 0:00:01\r\u001b[K     |███████████████████████████     | 890 kB 17.3 MB/s eta 0:00:01\r\u001b[K     |███████████████████████████▍    | 901 kB 17.3 MB/s eta 0:00:01\r\u001b[K     |███████████████████████████▊    | 911 kB 17.3 MB/s eta 0:00:01\r\u001b[K     |████████████████████████████    | 921 kB 17.3 MB/s eta 0:00:01\r\u001b[K     |████████████████████████████▎   | 931 kB 17.3 MB/s eta 0:00:01\r\u001b[K     |████████████████████████████▋   | 942 kB 17.3 MB/s eta 0:00:01\r\u001b[K     |█████████████████████████████   | 952 kB 17.3 MB/s eta 0:00:01\r\u001b[K     |█████████████████████████████▎  | 962 kB 17.3 MB/s eta 0:00:01\r\u001b[K     |█████████████████████████████▌  | 972 kB 17.3 MB/s eta 0:00:01\r\u001b[K     |█████████████████████████████▉  | 983 kB 17.3 MB/s eta 0:00:01\r\u001b[K     |██████████████████████████████▏ | 993 kB 17.3 MB/s eta 0:00:01\r\u001b[K     |██████████████████████████████▌ | 1.0 MB 17.3 MB/s eta 0:00:01\r\u001b[K     |██████████████████████████████▉ | 1.0 MB 17.3 MB/s eta 0:00:01\r\u001b[K     |███████████████████████████████ | 1.0 MB 17.3 MB/s eta 0:00:01\r\u001b[K     |███████████████████████████████▍| 1.0 MB 17.3 MB/s eta 0:00:01\r\u001b[K     |███████████████████████████████▊| 1.0 MB 17.3 MB/s eta 0:00:01\r\u001b[K     |████████████████████████████████| 1.1 MB 17.3 MB/s \n",
            "\u001b[?25hRequirement already satisfied: ipython>=5.3.0 in /usr/local/lib/python3.7/dist-packages (from gmaps) (5.5.0)\n",
            "Requirement already satisfied: ipywidgets>=7.0.0 in /usr/local/lib/python3.7/dist-packages (from gmaps) (7.7.0)\n",
            "Requirement already satisfied: traitlets>=4.3.0 in /usr/local/lib/python3.7/dist-packages (from gmaps) (5.1.1)\n",
            "Collecting geojson>=2.0.0\n",
            "  Downloading geojson-2.5.0-py2.py3-none-any.whl (14 kB)\n",
            "Requirement already satisfied: six in /usr/local/lib/python3.7/dist-packages (from gmaps) (1.15.0)\n",
            "Requirement already satisfied: pygments in /usr/local/lib/python3.7/dist-packages (from ipython>=5.3.0->gmaps) (2.6.1)\n",
            "Requirement already satisfied: pickleshare in /usr/local/lib/python3.7/dist-packages (from ipython>=5.3.0->gmaps) (0.7.5)\n",
            "Requirement already satisfied: setuptools>=18.5 in /usr/local/lib/python3.7/dist-packages (from ipython>=5.3.0->gmaps) (57.4.0)\n",
            "Requirement already satisfied: pexpect in /usr/local/lib/python3.7/dist-packages (from ipython>=5.3.0->gmaps) (4.8.0)\n",
            "Requirement already satisfied: prompt-toolkit<2.0.0,>=1.0.4 in /usr/local/lib/python3.7/dist-packages (from ipython>=5.3.0->gmaps) (1.0.18)\n",
            "Requirement already satisfied: simplegeneric>0.8 in /usr/local/lib/python3.7/dist-packages (from ipython>=5.3.0->gmaps) (0.8.1)\n",
            "Requirement already satisfied: decorator in /usr/local/lib/python3.7/dist-packages (from ipython>=5.3.0->gmaps) (4.4.2)\n",
            "Requirement already satisfied: widgetsnbextension~=3.6.0 in /usr/local/lib/python3.7/dist-packages (from ipywidgets>=7.0.0->gmaps) (3.6.0)\n",
            "Requirement already satisfied: nbformat>=4.2.0 in /usr/local/lib/python3.7/dist-packages (from ipywidgets>=7.0.0->gmaps) (5.3.0)\n",
            "Requirement already satisfied: jupyterlab-widgets>=1.0.0 in /usr/local/lib/python3.7/dist-packages (from ipywidgets>=7.0.0->gmaps) (1.1.0)\n",
            "Requirement already satisfied: ipython-genutils~=0.2.0 in /usr/local/lib/python3.7/dist-packages (from ipywidgets>=7.0.0->gmaps) (0.2.0)\n",
            "Requirement already satisfied: ipykernel>=4.5.1 in /usr/local/lib/python3.7/dist-packages (from ipywidgets>=7.0.0->gmaps) (4.10.1)\n",
            "Requirement already satisfied: tornado>=4.0 in /usr/local/lib/python3.7/dist-packages (from ipykernel>=4.5.1->ipywidgets>=7.0.0->gmaps) (5.1.1)\n",
            "Requirement already satisfied: jupyter-client in /usr/local/lib/python3.7/dist-packages (from ipykernel>=4.5.1->ipywidgets>=7.0.0->gmaps) (5.3.5)\n",
            "Requirement already satisfied: jupyter-core in /usr/local/lib/python3.7/dist-packages (from nbformat>=4.2.0->ipywidgets>=7.0.0->gmaps) (4.9.2)\n",
            "Requirement already satisfied: jsonschema>=2.6 in /usr/local/lib/python3.7/dist-packages (from nbformat>=4.2.0->ipywidgets>=7.0.0->gmaps) (4.3.3)\n",
            "Requirement already satisfied: fastjsonschema in /usr/local/lib/python3.7/dist-packages (from nbformat>=4.2.0->ipywidgets>=7.0.0->gmaps) (2.15.3)\n",
            "Requirement already satisfied: pyrsistent!=0.17.0,!=0.17.1,!=0.17.2,>=0.14.0 in /usr/local/lib/python3.7/dist-packages (from jsonschema>=2.6->nbformat>=4.2.0->ipywidgets>=7.0.0->gmaps) (0.18.1)\n",
            "Requirement already satisfied: attrs>=17.4.0 in /usr/local/lib/python3.7/dist-packages (from jsonschema>=2.6->nbformat>=4.2.0->ipywidgets>=7.0.0->gmaps) (21.4.0)\n",
            "Requirement already satisfied: importlib-metadata in /usr/local/lib/python3.7/dist-packages (from jsonschema>=2.6->nbformat>=4.2.0->ipywidgets>=7.0.0->gmaps) (4.11.3)\n",
            "Requirement already satisfied: importlib-resources>=1.4.0 in /usr/local/lib/python3.7/dist-packages (from jsonschema>=2.6->nbformat>=4.2.0->ipywidgets>=7.0.0->gmaps) (5.7.0)\n",
            "Requirement already satisfied: typing-extensions in /usr/local/lib/python3.7/dist-packages (from jsonschema>=2.6->nbformat>=4.2.0->ipywidgets>=7.0.0->gmaps) (4.1.1)\n",
            "Requirement already satisfied: zipp>=3.1.0 in /usr/local/lib/python3.7/dist-packages (from importlib-resources>=1.4.0->jsonschema>=2.6->nbformat>=4.2.0->ipywidgets>=7.0.0->gmaps) (3.8.0)\n",
            "Requirement already satisfied: wcwidth in /usr/local/lib/python3.7/dist-packages (from prompt-toolkit<2.0.0,>=1.0.4->ipython>=5.3.0->gmaps) (0.2.5)\n",
            "Requirement already satisfied: notebook>=4.4.1 in /usr/local/lib/python3.7/dist-packages (from widgetsnbextension~=3.6.0->ipywidgets>=7.0.0->gmaps) (5.3.1)\n",
            "Requirement already satisfied: terminado>=0.8.1 in /usr/local/lib/python3.7/dist-packages (from notebook>=4.4.1->widgetsnbextension~=3.6.0->ipywidgets>=7.0.0->gmaps) (0.13.3)\n",
            "Requirement already satisfied: jinja2 in /usr/local/lib/python3.7/dist-packages (from notebook>=4.4.1->widgetsnbextension~=3.6.0->ipywidgets>=7.0.0->gmaps) (2.11.3)\n",
            "Requirement already satisfied: nbconvert in /usr/local/lib/python3.7/dist-packages (from notebook>=4.4.1->widgetsnbextension~=3.6.0->ipywidgets>=7.0.0->gmaps) (5.6.1)\n",
            "Requirement already satisfied: Send2Trash in /usr/local/lib/python3.7/dist-packages (from notebook>=4.4.1->widgetsnbextension~=3.6.0->ipywidgets>=7.0.0->gmaps) (1.8.0)\n",
            "Requirement already satisfied: pyzmq>=13 in /usr/local/lib/python3.7/dist-packages (from jupyter-client->ipykernel>=4.5.1->ipywidgets>=7.0.0->gmaps) (22.3.0)\n",
            "Requirement already satisfied: python-dateutil>=2.1 in /usr/local/lib/python3.7/dist-packages (from jupyter-client->ipykernel>=4.5.1->ipywidgets>=7.0.0->gmaps) (2.8.2)\n",
            "Requirement already satisfied: ptyprocess in /usr/local/lib/python3.7/dist-packages (from terminado>=0.8.1->notebook>=4.4.1->widgetsnbextension~=3.6.0->ipywidgets>=7.0.0->gmaps) (0.7.0)\n",
            "Requirement already satisfied: MarkupSafe>=0.23 in /usr/local/lib/python3.7/dist-packages (from jinja2->notebook>=4.4.1->widgetsnbextension~=3.6.0->ipywidgets>=7.0.0->gmaps) (2.0.1)\n",
            "Requirement already satisfied: testpath in /usr/local/lib/python3.7/dist-packages (from nbconvert->notebook>=4.4.1->widgetsnbextension~=3.6.0->ipywidgets>=7.0.0->gmaps) (0.6.0)\n",
            "Requirement already satisfied: mistune<2,>=0.8.1 in /usr/local/lib/python3.7/dist-packages (from nbconvert->notebook>=4.4.1->widgetsnbextension~=3.6.0->ipywidgets>=7.0.0->gmaps) (0.8.4)\n",
            "Requirement already satisfied: bleach in /usr/local/lib/python3.7/dist-packages (from nbconvert->notebook>=4.4.1->widgetsnbextension~=3.6.0->ipywidgets>=7.0.0->gmaps) (5.0.0)\n",
            "Requirement already satisfied: entrypoints>=0.2.2 in /usr/local/lib/python3.7/dist-packages (from nbconvert->notebook>=4.4.1->widgetsnbextension~=3.6.0->ipywidgets>=7.0.0->gmaps) (0.4)\n",
            "Requirement already satisfied: defusedxml in /usr/local/lib/python3.7/dist-packages (from nbconvert->notebook>=4.4.1->widgetsnbextension~=3.6.0->ipywidgets>=7.0.0->gmaps) (0.7.1)\n",
            "Requirement already satisfied: pandocfilters>=1.4.1 in /usr/local/lib/python3.7/dist-packages (from nbconvert->notebook>=4.4.1->widgetsnbextension~=3.6.0->ipywidgets>=7.0.0->gmaps) (1.5.0)\n",
            "Requirement already satisfied: webencodings in /usr/local/lib/python3.7/dist-packages (from bleach->nbconvert->notebook>=4.4.1->widgetsnbextension~=3.6.0->ipywidgets>=7.0.0->gmaps) (0.5.1)\n",
            "Building wheels for collected packages: gmaps\n",
            "  Building wheel for gmaps (setup.py) ... \u001b[?25l\u001b[?25hdone\n",
            "  Created wheel for gmaps: filename=gmaps-0.9.0-py2.py3-none-any.whl size=2076111 sha256=707da95e85ab526b8b91e05eed5570be161f8e2c7a48f8a16a317ab8d01c9466\n",
            "  Stored in directory: /root/.cache/pip/wheels/3d/1c/cb/c46f4199210e632b28d78d05a00bfdccbf6dfcd3f5b051d6bf\n",
            "Successfully built gmaps\n",
            "Installing collected packages: geojson, gmaps\n",
            "Successfully installed geojson-2.5.0 gmaps-0.9.0\n"
          ]
        }
      ]
    },
    {
      "cell_type": "code",
      "execution_count": null,
      "id": "9efba548-1a58-4715-95e4-218323d25dc4",
      "metadata": {
        "id": "9efba548-1a58-4715-95e4-218323d25dc4"
      },
      "outputs": [],
      "source": [
        "import shapely\n",
        "import gmaps\n",
        "from shapely.geometry import Point, Polygon, box\n",
        "from matplotlib import pyplot as plt\n",
        "import numpy as np\n",
        "import pickle"
      ]
    },
    {
      "cell_type": "code",
      "execution_count": null,
      "id": "b2fd4f14-3930-4301-8d76-fae3cf0357df",
      "metadata": {
        "colab": {
          "base_uri": "https://localhost:8080/",
          "height": 424
        },
        "id": "b2fd4f14-3930-4301-8d76-fae3cf0357df",
        "outputId": "8077b53a-6de6-4688-ee56-975d86256b33"
      },
      "outputs": [
        {
          "output_type": "execute_result",
          "data": {
            "text/plain": [
              "                        geometry\n",
              "0     POINT (-73.97108 40.74847)\n",
              "1     POINT (-73.97120 40.74852)\n",
              "2     POINT (-73.97131 40.74857)\n",
              "3     POINT (-73.97141 40.74861)\n",
              "4     POINT (-73.97152 40.74866)\n",
              "...                          ...\n",
              "4726  POINT (-74.00172 40.73055)\n",
              "4727  POINT (-74.00160 40.73075)\n",
              "4728  POINT (-74.00154 40.73085)\n",
              "4729  POINT (-74.00149 40.73093)\n",
              "4730  POINT (-74.00142 40.73105)\n",
              "\n",
              "[4731 rows x 1 columns]"
            ],
            "text/html": [
              "\n",
              "  <div id=\"df-245c3ae4-ac55-4172-8b4d-e77c4d1e0d0a\">\n",
              "    <div class=\"colab-df-container\">\n",
              "      <div>\n",
              "<style scoped>\n",
              "    .dataframe tbody tr th:only-of-type {\n",
              "        vertical-align: middle;\n",
              "    }\n",
              "\n",
              "    .dataframe tbody tr th {\n",
              "        vertical-align: top;\n",
              "    }\n",
              "\n",
              "    .dataframe thead th {\n",
              "        text-align: right;\n",
              "    }\n",
              "</style>\n",
              "<table border=\"1\" class=\"dataframe\">\n",
              "  <thead>\n",
              "    <tr style=\"text-align: right;\">\n",
              "      <th></th>\n",
              "      <th>geometry</th>\n",
              "    </tr>\n",
              "  </thead>\n",
              "  <tbody>\n",
              "    <tr>\n",
              "      <th>0</th>\n",
              "      <td>POINT (-73.97108 40.74847)</td>\n",
              "    </tr>\n",
              "    <tr>\n",
              "      <th>1</th>\n",
              "      <td>POINT (-73.97120 40.74852)</td>\n",
              "    </tr>\n",
              "    <tr>\n",
              "      <th>2</th>\n",
              "      <td>POINT (-73.97131 40.74857)</td>\n",
              "    </tr>\n",
              "    <tr>\n",
              "      <th>3</th>\n",
              "      <td>POINT (-73.97141 40.74861)</td>\n",
              "    </tr>\n",
              "    <tr>\n",
              "      <th>4</th>\n",
              "      <td>POINT (-73.97152 40.74866)</td>\n",
              "    </tr>\n",
              "    <tr>\n",
              "      <th>...</th>\n",
              "      <td>...</td>\n",
              "    </tr>\n",
              "    <tr>\n",
              "      <th>4726</th>\n",
              "      <td>POINT (-74.00172 40.73055)</td>\n",
              "    </tr>\n",
              "    <tr>\n",
              "      <th>4727</th>\n",
              "      <td>POINT (-74.00160 40.73075)</td>\n",
              "    </tr>\n",
              "    <tr>\n",
              "      <th>4728</th>\n",
              "      <td>POINT (-74.00154 40.73085)</td>\n",
              "    </tr>\n",
              "    <tr>\n",
              "      <th>4729</th>\n",
              "      <td>POINT (-74.00149 40.73093)</td>\n",
              "    </tr>\n",
              "    <tr>\n",
              "      <th>4730</th>\n",
              "      <td>POINT (-74.00142 40.73105)</td>\n",
              "    </tr>\n",
              "  </tbody>\n",
              "</table>\n",
              "<p>4731 rows × 1 columns</p>\n",
              "</div>\n",
              "      <button class=\"colab-df-convert\" onclick=\"convertToInteractive('df-245c3ae4-ac55-4172-8b4d-e77c4d1e0d0a')\"\n",
              "              title=\"Convert this dataframe to an interactive table.\"\n",
              "              style=\"display:none;\">\n",
              "        \n",
              "  <svg xmlns=\"http://www.w3.org/2000/svg\" height=\"24px\"viewBox=\"0 0 24 24\"\n",
              "       width=\"24px\">\n",
              "    <path d=\"M0 0h24v24H0V0z\" fill=\"none\"/>\n",
              "    <path d=\"M18.56 5.44l.94 2.06.94-2.06 2.06-.94-2.06-.94-.94-2.06-.94 2.06-2.06.94zm-11 1L8.5 8.5l.94-2.06 2.06-.94-2.06-.94L8.5 2.5l-.94 2.06-2.06.94zm10 10l.94 2.06.94-2.06 2.06-.94-2.06-.94-.94-2.06-.94 2.06-2.06.94z\"/><path d=\"M17.41 7.96l-1.37-1.37c-.4-.4-.92-.59-1.43-.59-.52 0-1.04.2-1.43.59L10.3 9.45l-7.72 7.72c-.78.78-.78 2.05 0 2.83L4 21.41c.39.39.9.59 1.41.59.51 0 1.02-.2 1.41-.59l7.78-7.78 2.81-2.81c.8-.78.8-2.07 0-2.86zM5.41 20L4 18.59l7.72-7.72 1.47 1.35L5.41 20z\"/>\n",
              "  </svg>\n",
              "      </button>\n",
              "      \n",
              "  <style>\n",
              "    .colab-df-container {\n",
              "      display:flex;\n",
              "      flex-wrap:wrap;\n",
              "      gap: 12px;\n",
              "    }\n",
              "\n",
              "    .colab-df-convert {\n",
              "      background-color: #E8F0FE;\n",
              "      border: none;\n",
              "      border-radius: 50%;\n",
              "      cursor: pointer;\n",
              "      display: none;\n",
              "      fill: #1967D2;\n",
              "      height: 32px;\n",
              "      padding: 0 0 0 0;\n",
              "      width: 32px;\n",
              "    }\n",
              "\n",
              "    .colab-df-convert:hover {\n",
              "      background-color: #E2EBFA;\n",
              "      box-shadow: 0px 1px 2px rgba(60, 64, 67, 0.3), 0px 1px 3px 1px rgba(60, 64, 67, 0.15);\n",
              "      fill: #174EA6;\n",
              "    }\n",
              "\n",
              "    [theme=dark] .colab-df-convert {\n",
              "      background-color: #3B4455;\n",
              "      fill: #D2E3FC;\n",
              "    }\n",
              "\n",
              "    [theme=dark] .colab-df-convert:hover {\n",
              "      background-color: #434B5C;\n",
              "      box-shadow: 0px 1px 3px 1px rgba(0, 0, 0, 0.15);\n",
              "      filter: drop-shadow(0px 1px 2px rgba(0, 0, 0, 0.3));\n",
              "      fill: #FFFFFF;\n",
              "    }\n",
              "  </style>\n",
              "\n",
              "      <script>\n",
              "        const buttonEl =\n",
              "          document.querySelector('#df-245c3ae4-ac55-4172-8b4d-e77c4d1e0d0a button.colab-df-convert');\n",
              "        buttonEl.style.display =\n",
              "          google.colab.kernel.accessAllowed ? 'block' : 'none';\n",
              "\n",
              "        async function convertToInteractive(key) {\n",
              "          const element = document.querySelector('#df-245c3ae4-ac55-4172-8b4d-e77c4d1e0d0a');\n",
              "          const dataTable =\n",
              "            await google.colab.kernel.invokeFunction('convertToInteractive',\n",
              "                                                     [key], {});\n",
              "          if (!dataTable) return;\n",
              "\n",
              "          const docLinkHtml = 'Like what you see? Visit the ' +\n",
              "            '<a target=\"_blank\" href=https://colab.research.google.com/notebooks/data_table.ipynb>data table notebook</a>'\n",
              "            + ' to learn more about interactive tables.';\n",
              "          element.innerHTML = '';\n",
              "          dataTable['output_type'] = 'display_data';\n",
              "          await google.colab.output.renderOutput(dataTable, element);\n",
              "          const docLink = document.createElement('div');\n",
              "          docLink.innerHTML = docLinkHtml;\n",
              "          element.appendChild(docLink);\n",
              "        }\n",
              "      </script>\n",
              "    </div>\n",
              "  </div>\n",
              "  "
            ]
          },
          "metadata": {},
          "execution_count": 24
        }
      ],
      "source": [
        "ny_coordinates_gpd"
      ]
    },
    {
      "cell_type": "code",
      "execution_count": null,
      "id": "3f76ab4b-791c-4e50-a075-9ae53efbb89f",
      "metadata": {
        "id": "3f76ab4b-791c-4e50-a075-9ae53efbb89f"
      },
      "outputs": [],
      "source": [
        "# total area for the grid\n",
        "xmin, ymin, xmax, ymax= ny.total_bounds\n",
        "\n",
        "# how many cells across and down\n",
        "n_cells=20\n",
        "cell_size = (xmax-xmin)/n_cells\n",
        "# projection of the grid\n",
        "crs = \"+proj=sinu +lon_0=0 +x_0=0 +y_0=0 +a=6371007.181 +b=6371007.181 +units=m +no_defs\"\n",
        "# create the cells in a loop\n",
        "grid_cells = []\n",
        "for x0 in np.arange(xmin, xmax+cell_size, cell_size ):\n",
        "    for y0 in np.arange(ymin, ymax+cell_size, cell_size):\n",
        "        # bounds\n",
        "        x1 = x0-cell_size\n",
        "        y1 = y0+cell_size\n",
        "        grid_cells.append( shapely.geometry.box(x0, y0, x1, y1)  )\n",
        "cell = gpd.GeoDataFrame(grid_cells, columns=['geometry'], \n",
        "                                 crs=crs)"
      ]
    },
    {
      "cell_type": "code",
      "execution_count": null,
      "id": "66f9e2c6-d158-4854-83e5-1b48274480fa",
      "metadata": {
        "colab": {
          "base_uri": "https://localhost:8080/",
          "height": 935
        },
        "id": "66f9e2c6-d158-4854-83e5-1b48274480fa",
        "outputId": "0cb7b647-fdb7-4248-df00-96d0030ca474"
      },
      "outputs": [
        {
          "output_type": "execute_result",
          "data": {
            "text/plain": [
              "<matplotlib.axes._subplots.AxesSubplot at 0x7f0268accf50>"
            ]
          },
          "metadata": {},
          "execution_count": 26
        },
        {
          "output_type": "display_data",
          "data": {
            "text/plain": [
              "<Figure size 1152x1152 with 1 Axes>"
            ],
            "image/png": "[encoded data removed]"
          },
          "metadata": {
            "needs_background": "light"
          }
        }
      ],
      "source": [
        "import matplotlib.pyplot as plt\n",
        "ax = ny.plot(color='lightgrey',figsize=(16,16))\n",
        "ny_coordinates_gpd.loc[:,'geometry'].plot(ax=ax)\n",
        "cell.plot(ax=ax, facecolor=\"none\", edgecolor='grey')"
      ]
    },
    {
      "cell_type": "code",
      "execution_count": null,
      "id": "17229516-dcf9-46ba-b4ec-f7b16bba0db4",
      "metadata": {
        "id": "17229516-dcf9-46ba-b4ec-f7b16bba0db4"
      },
      "outputs": [],
      "source": [
        "ny_coordinates_DF = gpd.GeoDataFrame(geometry=ny_coordinates_gpd.loc[:,'geometry'])"
      ]
    },
    {
      "cell_type": "code",
      "execution_count": null,
      "id": "0881e499-1d0e-4330-83e7-db224c48720f",
      "metadata": {
        "colab": {
          "base_uri": "https://localhost:8080/"
        },
        "id": "0881e499-1d0e-4330-83e7-db224c48720f",
        "outputId": "212d463d-63ec-46ab-9d6e-81ddd7255f4f"
      },
      "outputs": [
        {
          "output_type": "stream",
          "name": "stderr",
          "text": [
            "/usr/local/lib/python3.7/dist-packages/IPython/core/interactiveshell.py:2822: FutureWarning: The `op` parameter is deprecated and will be removed in a future release. Please use the `predicate` parameter instead.\n",
            "  if self.run_code(code, result):\n",
            "/usr/local/lib/python3.7/dist-packages/ipykernel_launcher.py:1: UserWarning: CRS mismatch between the CRS of left geometries and the CRS of right geometries.\n",
            "Use `to_crs()` to reproject one of the input geometries to match the CRS of the other.\n",
            "\n",
            "Left CRS: None\n",
            "Right CRS: +proj=sinu +lon_0=0 +x_0=0 +y_0=0 +a=6371007.181 + ...\n",
            "\n",
            "  \"\"\"Entry point for launching an IPython kernel.\n"
          ]
        }
      ],
      "source": [
        "merged = gpd.sjoin(ny_coordinates_DF, cell, how='left', op='within')"
      ]
    },
    {
      "cell_type": "code",
      "execution_count": null,
      "id": "36116c0e-3828-4ebd-aa2a-4635d1738eb3",
      "metadata": {
        "id": "36116c0e-3828-4ebd-aa2a-4635d1738eb3"
      },
      "outputs": [],
      "source": [
        "# make a simple count variable that we can sum\n",
        "merged['n_fires']=1\n",
        "# Compute stats per grid cell -- aggregate fires to grid cells with dissolve\n",
        "dissolve = merged.dissolve(by=\"index_right\", aggfunc=\"count\")\n",
        "# put this into cell\n",
        "cell.loc[dissolve.index, 'n_fires'] = dissolve.n_fires.values"
      ]
    },
    {
      "cell_type": "code",
      "execution_count": null,
      "id": "a6c6614d-fb82-41a5-aec6-0665f6e02c46",
      "metadata": {
        "colab": {
          "base_uri": "https://localhost:8080/",
          "height": 970
        },
        "id": "a6c6614d-fb82-41a5-aec6-0665f6e02c46",
        "outputId": "ed40bf48-8112-4a68-f35b-889693eefa85"
      },
      "outputs": [
        {
          "output_type": "execute_result",
          "data": {
            "text/plain": [
              "(-74.05422909979109,\n",
              " -73.89974738013086,\n",
              " 40.669536155667465,\n",
              " 40.892130389541855)"
            ]
          },
          "metadata": {},
          "execution_count": 30
        },
        {
          "output_type": "display_data",
          "data": {
            "text/plain": [
              "<Figure size 1152x1152 with 1 Axes>"
            ],
            "image/png": "[encoded data removed]"
          },
          "metadata": {
            "needs_background": "light"
          }
        }
      ],
      "source": [
        "ax = ny.plot(color='lightgrey',figsize=(16,16))\n",
        "cell.plot(ax=ax, column='n_fires', figsize=(12, 8), cmap='viridis', vmax=5000, edgecolor=\"grey\")\n",
        "plt.autoscale(False)\n",
        "world = gpd.read_file(gpd.datasets.get_path('naturalearth_lowres'))\n",
        "world.to_crs(cell.crs).plot(ax=ax, color='none', edgecolor='black')\n",
        "ax.axis('off')"
      ]
    },
    {
      "cell_type": "code",
      "execution_count": null,
      "id": "38658030-74a6-43cc-ab85-8021f774c637",
      "metadata": {
        "colab": {
          "base_uri": "https://localhost:8080/"
        },
        "id": "38658030-74a6-43cc-ab85-8021f774c637",
        "outputId": "64935d82-008c-44c8-d972-718e6e4676ad"
      },
      "outputs": [
        {
          "output_type": "stream",
          "name": "stdout",
          "text": [
            "rtree.index.Index(bounds=[-74.05422909979109, 40.67965407538904, -73.90676927647905, 40.8903109658348], size=70)\n"
          ]
        }
      ],
      "source": [
        "r_tree = cell.sindex\n",
        "print(r_tree)"
      ]
    },
    {
      "cell_type": "code",
      "execution_count": null,
      "id": "9275f635-4a9f-4100-ad66-a5e089b8ef4a",
      "metadata": {
        "colab": {
          "base_uri": "https://localhost:8080/"
        },
        "id": "9275f635-4a9f-4100-ad66-a5e089b8ef4a",
        "outputId": "f9abd535-b000-4347-be3e-4145e11094f6"
      },
      "outputs": [
        {
          "output_type": "stream",
          "name": "stdout",
          "text": [
            "-> points in box 0:  [0, 150, 90, 120, 30, 60, 180, 151, 91, 61, 181, 31, 121, 1, 92, 2, 122, 152, 62, 182, 32, 63, 93, 33, 123, 183, 153, 3, 4, 154, 184, 94, 34, 64, 124, 185, 95, 5, 35, 125, 65, 155, 66, 186, 36, 156, 96, 6, 126, 157, 67, 97, 127, 187, 37, 7, 38, 8, 188, 98, 68, 128, 158, 39, 189, 69, 159, 129, 9, 99] \n",
            " bounding box:  [-74.05422909979109, 40.67965407538904, -74.00507582535374, 40.74987303887096] \n",
            "\n",
            "-> points in box 2:  [70, 130, 10, 100, 40, 190, 160, 191, 11, 131, 161, 41, 101, 71, 42, 102, 72, 12, 162, 192, 132, 73, 163, 103, 193, 13, 133, 43, 74, 44, 104, 134, 14, 164, 194, 165, 75, 45, 105, 135, 15, 195, 166, 16, 136, 106, 76, 46, 196, 47, 107, 77, 137, 197, 17, 167, 198, 18, 168, 138, 78, 108, 48, 169, 109, 49, 199, 139, 19, 79] \n",
            " bounding box:  [-74.05422909979109, 40.74987303887096, -74.00507582535374, 40.82009200235288] \n",
            "\n",
            "-> points in box 3:  [140, 20, 50, 200, 80, 110, 170, 81, 21, 111, 201, 171, 141, 51, 202, 82, 172, 142, 22, 112, 52, 113, 23, 143, 83, 53, 203, 173, 204, 54, 144, 24, 174, 114, 84, 145, 25, 115, 85, 175, 205, 55, 206, 86, 56, 176, 116, 26, 146, 27, 147, 207, 87, 177, 57, 117, 208, 88, 58, 28, 118, 148, 178, 119, 149, 59, 89, 179, 209, 29] \n",
            " bounding box:  [-74.05422909979109, 40.82009200235288, -74.00507582535374, 40.8903109658348] \n",
            "\n",
            "-> points in box 4:  [300, 270, 330, 240, 360, 390, 210, 241, 301, 271, 331, 361, 211, 391, 392, 332, 362, 212, 242, 272, 302, 333, 363, 273, 243, 393, 303, 213, 304, 334, 394, 364, 214, 274, 244, 305, 335, 365, 215, 245, 395, 275, 246, 336, 396, 366, 306, 276, 216, 247, 307, 277, 397, 217, 337, 367, 248, 218, 278, 338, 368, 308, 398, 249, 219, 279, 369, 309, 399, 339] \n",
            " bounding box:  [-74.00507582535374, 40.67965407538904, -73.9559225509164, 40.74987303887096] \n",
            "\n",
            "-> points in box 5:  [340, 280, 220, 400, 370, 310, 250, 341, 401, 251, 371, 281, 221, 311, 252, 282, 372, 222, 402, 342, 312, 313, 343, 403, 373, 253, 283, 223, 344, 404, 224, 254, 374, 314, 284, 345, 285, 255, 375, 315, 225, 405, 316, 256, 226, 406, 286, 376, 346, 317, 227, 287, 407, 347, 377, 257, 408, 228, 258, 288, 378, 348, 318, 289, 409, 349, 319, 259, 229, 379] \n",
            " bounding box:  [-74.00507582535374, 40.74987303887096, -73.9559225509164, 40.82009200235288] \n",
            "\n",
            "-> points in box 6:  [290, 260, 320, 230, 410, 350, 380, 411, 381, 351, 291, 231, 261, 321, 382, 262, 412, 352, 232, 292, 322, 413, 323, 233, 263, 353, 293, 383, 384, 414, 264, 324, 234, 294, 354, 295, 235, 385, 355, 325, 265, 415, 416, 326, 386, 236, 356, 296, 266, 237, 297, 417, 327, 387, 267, 357, 358, 238, 418, 268, 328, 298, 388, 239, 269, 419, 329, 299, 359, 389] \n",
            " bounding box:  [-74.00507582535374, 40.82009200235288, -73.9559225509164, 40.8903109658348] \n",
            "\n",
            "-> points in box 7:  [600, 510, 480, 540, 450, 570, 420, 511, 571, 541, 601, 481, 451, 421, 452, 602, 572, 542, 482, 512, 422, 423, 513, 573, 543, 483, 603, 453, 484, 454, 544, 514, 574, 424, 604, 605, 485, 455, 545, 515, 575, 425, 546, 606, 456, 576, 486, 426, 516, 577, 547, 487, 427, 457, 517, 607, 488, 518, 548, 458, 608, 428, 578, 549, 609, 459, 489, 519, 429, 579] \n",
            " bounding box:  [-73.9559225509164, 40.67965407538904, -73.90676927647905, 40.74987303887096] \n",
            "\n",
            "-> points in box 8:  [550, 460, 610, 490, 520, 430, 580, 491, 431, 581, 521, 551, 611, 461, 552, 492, 612, 432, 582, 522, 462, 493, 523, 433, 613, 583, 463, 553, 584, 614, 554, 524, 434, 464, 494, 555, 435, 525, 465, 615, 585, 495, 436, 466, 616, 586, 556, 526, 496, 527, 587, 467, 437, 497, 617, 557, 558, 498, 438, 618, 468, 528, 588, 499, 589, 469, 559, 529, 619, 439] \n",
            " bounding box:  [-73.9559225509164, 40.74987303887096, -73.90676927647905, 40.82009200235288] \n",
            "\n",
            "-> points in box 9:  [470, 620, 440, 590, 530, 560, 500, 501, 531, 621, 591, 561, 441, 471, 592, 562, 442, 472, 622, 502, 532, 563, 473, 593, 623, 533, 443, 503, 624, 444, 534, 564, 504, 474, 594, 475, 535, 565, 505, 445, 625, 595, 626, 536, 506, 446, 596, 566, 476, 597, 537, 567, 477, 507, 447, 627, 448, 478, 508, 628, 598, 568, 538, 569, 449, 629, 479, 509, 599, 539] \n",
            " bounding box:  [-73.9559225509164, 40.82009200235288, -73.90676927647905, 40.8903109658348] \n",
            "\n",
            "number of leaves: 9\n"
          ]
        }
      ],
      "source": [
        "classes_and_coordinates = []\n",
        "for leaf in r_tree.leaves():\n",
        "    idxs, indices, bbox = leaf\n",
        "    classes_and_coordinates.append([idxs,indices])\n",
        "    print(f'-> points in box {idxs}: ',  indices, '\\n bounding box: ', bbox, '\\n')\n",
        "print(f\"number of leaves: {len(r_tree.leaves())}\")"
      ]
    },
    {
      "cell_type": "code",
      "execution_count": null,
      "id": "1743f04a-af49-44f5-9736-53d9b9848ff9",
      "metadata": {
        "id": "1743f04a-af49-44f5-9736-53d9b9848ff9"
      },
      "outputs": [],
      "source": [
        "boxes = []\n",
        "boxes_idx = 0\n",
        "for c in cell[\"geometry\"]:\n",
        "    boxes.append([boxes_idx,[]])\n",
        "    for p in ny_coordinates_gpd.loc[:,'geometry']:\n",
        "        if c.contains(p):\n",
        "            boxes[boxes_idx][1].append(p)\n",
        "    boxes_idx+=1"
      ]
    },
    {
      "cell_type": "code",
      "execution_count": null,
      "id": "179b577b-21d8-4a72-8223-ed62c8dc9c2e",
      "metadata": {
        "colab": {
          "base_uri": "https://localhost:8080/"
        },
        "id": "179b577b-21d8-4a72-8223-ed62c8dc9c2e",
        "outputId": "0491f0db-9be6-4e0b-d2f2-7e57f3ef46f8"
      },
      "outputs": [
        {
          "output_type": "stream",
          "name": "stdout",
          "text": [
            "Grids with coordinates in them:  38\n"
          ]
        }
      ],
      "source": [
        "print(\"Grids with coordinates in them: \", len([b for b in boxes if bool(b[1])]))"
      ]
    },
    {
      "cell_type": "code",
      "execution_count": null,
      "id": "8d548308-c6d8-41e3-8aee-bf38f5a339ef",
      "metadata": {
        "id": "8d548308-c6d8-41e3-8aee-bf38f5a339ef"
      },
      "outputs": [],
      "source": [
        "labels_coordinates = [b for b in boxes if bool(b[1])]"
      ]
    },
    {
      "cell_type": "code",
      "execution_count": null,
      "id": "47dbcfe0-50e1-470d-8b2e-c4395274cbb0",
      "metadata": {
        "colab": {
          "base_uri": "https://localhost:8080/"
        },
        "id": "47dbcfe0-50e1-470d-8b2e-c4395274cbb0",
        "outputId": "ba5adcfc-fdd4-49b9-c220-a0884f71e6ab"
      },
      "outputs": [
        {
          "output_type": "execute_result",
          "data": {
            "text/plain": [
              "[154,\n",
              " [<shapely.geometry.point.Point at 0x7f0272010f50>,\n",
              "  <shapely.geometry.point.Point at 0x7f0272010fd0>,\n",
              "  <shapely.geometry.point.Point at 0x7f0272010f90>,\n",
              "  <shapely.geometry.point.Point at 0x7f0271cb6050>,\n",
              "  <shapely.geometry.point.Point at 0x7f0271cb6090>,\n",
              "  <shapely.geometry.point.Point at 0x7f0271cb60d0>,\n",
              "  <shapely.geometry.point.Point at 0x7f0271cb6110>,\n",
              "  <shapely.geometry.point.Point at 0x7f0271cb6150>,\n",
              "  <shapely.geometry.point.Point at 0x7f0271cb6190>,\n",
              "  <shapely.geometry.point.Point at 0x7f0271cb61d0>,\n",
              "  <shapely.geometry.point.Point at 0x7f0271cb6210>,\n",
              "  <shapely.geometry.point.Point at 0x7f0271cb6250>,\n",
              "  <shapely.geometry.point.Point at 0x7f0271cb6290>,\n",
              "  <shapely.geometry.point.Point at 0x7f0271cb62d0>,\n",
              "  <shapely.geometry.point.Point at 0x7f0271cb6310>,\n",
              "  <shapely.geometry.point.Point at 0x7f0271cb6350>,\n",
              "  <shapely.geometry.point.Point at 0x7f0271cb6390>,\n",
              "  <shapely.geometry.point.Point at 0x7f0271cb63d0>,\n",
              "  <shapely.geometry.point.Point at 0x7f0271cb6410>,\n",
              "  <shapely.geometry.point.Point at 0x7f0271cb6450>,\n",
              "  <shapely.geometry.point.Point at 0x7f0271cb6490>,\n",
              "  <shapely.geometry.point.Point at 0x7f0271cb64d0>,\n",
              "  <shapely.geometry.point.Point at 0x7f0271cb6510>,\n",
              "  <shapely.geometry.point.Point at 0x7f0271cb6550>,\n",
              "  <shapely.geometry.point.Point at 0x7f0271cb6590>,\n",
              "  <shapely.geometry.point.Point at 0x7f0271cb65d0>,\n",
              "  <shapely.geometry.point.Point at 0x7f0271cb6610>,\n",
              "  <shapely.geometry.point.Point at 0x7f0271cb6650>,\n",
              "  <shapely.geometry.point.Point at 0x7f0271cb6690>,\n",
              "  <shapely.geometry.point.Point at 0x7f0271cb66d0>,\n",
              "  <shapely.geometry.point.Point at 0x7f02739181d0>,\n",
              "  <shapely.geometry.point.Point at 0x7f0273918210>,\n",
              "  <shapely.geometry.point.Point at 0x7f0273918250>,\n",
              "  <shapely.geometry.point.Point at 0x7f0273918290>,\n",
              "  <shapely.geometry.point.Point at 0x7f02739182d0>,\n",
              "  <shapely.geometry.point.Point at 0x7f0273918310>,\n",
              "  <shapely.geometry.point.Point at 0x7f0273918350>,\n",
              "  <shapely.geometry.point.Point at 0x7f0273918390>,\n",
              "  <shapely.geometry.point.Point at 0x7f02739183d0>,\n",
              "  <shapely.geometry.point.Point at 0x7f0273918410>,\n",
              "  <shapely.geometry.point.Point at 0x7f0273918450>,\n",
              "  <shapely.geometry.point.Point at 0x7f0273918490>,\n",
              "  <shapely.geometry.point.Point at 0x7f02739184d0>,\n",
              "  <shapely.geometry.point.Point at 0x7f0273918510>,\n",
              "  <shapely.geometry.point.Point at 0x7f0273918550>]]"
            ]
          },
          "metadata": {},
          "execution_count": 36
        }
      ],
      "source": [
        "labels_coordinates[0]"
      ]
    },
    {
      "cell_type": "code",
      "execution_count": null,
      "id": "97b428d0-ef53-44be-98ca-7ea8b0901e15",
      "metadata": {
        "id": "97b428d0-ef53-44be-98ca-7ea8b0901e15"
      },
      "outputs": [],
      "source": [
        "data = []\n",
        "for i in range(len(labels_coordinates)):\n",
        "    # print(labels_coordinates[i][1])\n",
        "    for j in range(len(labels_coordinates[i][1])):\n",
        "        data.append([np.array([labels_coordinates[i][1][j].y,labels_coordinates[i][1][j].x]), labels_coordinates[i][0]])"
      ]
    },
    {
      "cell_type": "code",
      "execution_count": null,
      "id": "0a0dc2f8-20cf-4909-b3ae-3c350895047b",
      "metadata": {
        "colab": {
          "base_uri": "https://localhost:8080/"
        },
        "id": "0a0dc2f8-20cf-4909-b3ae-3c350895047b",
        "outputId": "0309ad41-f333-4eec-a481-7caa21b3e4c3"
      },
      "outputs": [
        {
          "output_type": "execute_result",
          "data": {
            "text/plain": [
              "[[array([ 40.714682, -74.013433]), 154],\n",
              " [array([ 40.714553, -74.013447]), 154],\n",
              " [array([ 40.714452, -74.013459]), 154],\n",
              " [array([ 40.714314, -74.013486]), 154],\n",
              " [array([ 40.714201, -74.013509]), 154],\n",
              " [array([ 40.714095, -74.013532]), 154],\n",
              " [array([ 40.714006, -74.01355 ]), 154],\n",
              " [array([ 40.7139  , -74.013607]), 154],\n",
              " [array([ 40.713817, -74.013664]), 154],\n",
              " [array([ 40.713719, -74.013732]), 154],\n",
              " [array([ 40.713687, -74.013753]), 154],\n",
              " [array([ 40.713604, -74.013802]), 154],\n",
              " [array([ 40.713496, -74.01385 ]), 154],\n",
              " [array([ 40.713393, -74.013891]), 154],\n",
              " [array([ 40.7133  , -74.013921]), 154],\n",
              " [array([ 40.71319 , -74.013953]), 154],\n",
              " [array([ 40.713105, -74.013975]), 154],\n",
              " [array([ 40.71302 , -74.013997]), 154],\n",
              " [array([ 40.712933, -74.014019]), 154],\n",
              " [array([ 40.712844, -74.014042]), 154],\n",
              " [array([ 40.712753, -74.014066]), 154],\n",
              " [array([ 40.712658, -74.01409 ]), 154],\n",
              " [array([ 40.712463, -74.01414 ]), 154],\n",
              " [array([ 40.712359, -74.014167]), 154],\n",
              " [array([ 40.712249, -74.014195]), 154],\n",
              " [array([ 40.71203 , -74.014252]), 154],\n",
              " [array([ 40.71192, -74.01428]), 154],\n",
              " [array([ 40.71181 , -74.014308]), 154],\n",
              " [array([ 40.711696, -74.014338]), 154],\n",
              " [array([ 40.711575, -74.014369]), 154],\n",
              " [array([ 40.70776 , -74.012952]), 154],\n",
              " [array([ 40.707942, -74.012834]), 154],\n",
              " [array([ 40.708032, -74.012776]), 154],\n",
              " [array([ 40.708123, -74.012718]), 154],\n",
              " [array([ 40.708208, -74.012663]), 154],\n",
              " [array([ 40.70829, -74.01261]), 154],\n",
              " [array([ 40.708378, -74.012553]), 154],\n",
              " [array([ 40.708469, -74.012495]), 154],\n",
              " [array([ 40.708555, -74.012439]), 154],\n",
              " [array([ 40.708647, -74.01238 ]), 154]]"
            ]
          },
          "metadata": {},
          "execution_count": 38
        }
      ],
      "source": [
        "data[:40]"
      ]
    },
    {
      "cell_type": "code",
      "execution_count": null,
      "id": "0f47bf41-714c-4081-9862-4586a146b233",
      "metadata": {
        "id": "0f47bf41-714c-4081-9862-4586a146b233"
      },
      "outputs": [],
      "source": [
        "import pickle\n",
        "grid_path = \"drive/MyDrive/Colab Notebooks/project/work/grid_coordinates.pkl\"\n",
        "with open(grid_path, 'wb') as f:\n",
        "    pickle.dump(data, f)"
      ]
    },
    {
      "cell_type": "code",
      "execution_count": null,
      "id": "396fd03c-5d84-43bb-94bd-da1a5ba0d94b",
      "metadata": {
        "colab": {
          "base_uri": "https://localhost:8080/"
        },
        "id": "396fd03c-5d84-43bb-94bd-da1a5ba0d94b",
        "outputId": "920fc094-dccb-48a5-bd2e-15e301f0385a"
      },
      "outputs": [
        {
          "output_type": "execute_result",
          "data": {
            "text/plain": [
              "630"
            ]
          },
          "metadata": {},
          "execution_count": 40
        }
      ],
      "source": [
        "len(cell)"
      ]
    },
    {
      "cell_type": "code",
      "execution_count": null,
      "id": "685f4567-0136-4248-82bc-f7b25d38d709",
      "metadata": {
        "id": "685f4567-0136-4248-82bc-f7b25d38d709"
      },
      "outputs": [],
      "source": [
        ""
      ]
    }
  ],
  "metadata": {
    "kernelspec": {
      "display_name": "Python 3 (ipykernel)",
      "language": "python",
      "name": "python3"
    },
    "language_info": {
      "codemirror_mode": {
        "name": "ipython",
        "version": 3
      },
      "file_extension": ".py",
      "mimetype": "text/x-python",
      "name": "python",
      "nbconvert_exporter": "python",
      "pygments_lexer": "ipython3",
      "version": "3.8.8"
    },
    "colab": {
      "name": "ny_grid.ipynb",
      "provenance": []
    }
  },
  "nbformat": 4,
  "nbformat_minor": 5
}