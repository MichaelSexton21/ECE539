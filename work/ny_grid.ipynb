{
 "cells": [
  {
   "cell_type": "code",
   "execution_count": 30,
   "id": "65f20aea-8e27-432c-bd9f-e7472f7dcf95",
   "metadata": {},
   "outputs": [],
   "source": [
    "import pandas as pd  # provides interface for interacting with tabular data\n",
    "import geopandas as gpd  # combines the capabilities of pandas and shapely for geospatial operations\n",
    "from shapely.geometry import Point, Polygon, MultiPolygon  # for manipulating text data into geospatial shapes\n",
    "from shapely import wkt  # stands for \"well known text,\" allows for interchange across GIS programs\n",
    "import rtree  # supports geospatial join\n",
    "path = \"../data/NYS_Civil_Boundaries.shp/Counties.shp\"\n",
    "counties = gpd.read_file(path)\n",
    "counties = counties.to_crs(epsg=4326)"
   ]
  },
  {
   "cell_type": "code",
   "execution_count": 31,
   "id": "42e0e443-a34d-49e6-9ced-9813507b88de",
   "metadata": {},
   "outputs": [
    {
     "data": {
      "text/html": [
       "<div>\n",
       "<style scoped>\n",
       "    .dataframe tbody tr th:only-of-type {\n",
       "        vertical-align: middle;\n",
       "    }\n",
       "\n",
       "    .dataframe tbody tr th {\n",
       "        vertical-align: top;\n",
       "    }\n",
       "\n",
       "    .dataframe thead th {\n",
       "        text-align: right;\n",
       "    }\n",
       "</style>\n",
       "<table border=\"1\" class=\"dataframe\">\n",
       "  <thead>\n",
       "    <tr style=\"text-align: right;\">\n",
       "      <th></th>\n",
       "      <th>NAME</th>\n",
       "      <th>ABBREV</th>\n",
       "      <th>GNIS_ID</th>\n",
       "      <th>FIPS_CODE</th>\n",
       "      <th>SWIS</th>\n",
       "      <th>NYSP_ZONE</th>\n",
       "      <th>POP1990</th>\n",
       "      <th>POP2000</th>\n",
       "      <th>POP2010</th>\n",
       "      <th>POP2020</th>\n",
       "      <th>DOS_LL</th>\n",
       "      <th>DOSLL_DATE</th>\n",
       "      <th>NYC</th>\n",
       "      <th>CALC_SQ_MI</th>\n",
       "      <th>DATEMOD</th>\n",
       "      <th>Shape_Leng</th>\n",
       "      <th>Shape_Area</th>\n",
       "      <th>geometry</th>\n",
       "    </tr>\n",
       "  </thead>\n",
       "  <tbody>\n",
       "    <tr>\n",
       "      <th>0</th>\n",
       "      <td>Albany</td>\n",
       "      <td>ALBA</td>\n",
       "      <td>974099</td>\n",
       "      <td>36001</td>\n",
       "      <td>010000</td>\n",
       "      <td>East</td>\n",
       "      <td>292594</td>\n",
       "      <td>294565</td>\n",
       "      <td>304204</td>\n",
       "      <td>314848</td>\n",
       "      <td>None</td>\n",
       "      <td>None</td>\n",
       "      <td>N</td>\n",
       "      <td>532.791779</td>\n",
       "      <td>2017-11-10</td>\n",
       "      <td>166077.834242</td>\n",
       "      <td>1.379924e+09</td>\n",
       "      <td>POLYGON ((-73.70733 42.78605, -73.70397 42.783...</td>\n",
       "    </tr>\n",
       "    <tr>\n",
       "      <th>1</th>\n",
       "      <td>Allegany</td>\n",
       "      <td>ALLE</td>\n",
       "      <td>974100</td>\n",
       "      <td>36003</td>\n",
       "      <td>020000</td>\n",
       "      <td>West</td>\n",
       "      <td>50470</td>\n",
       "      <td>49927</td>\n",
       "      <td>48946</td>\n",
       "      <td>46456</td>\n",
       "      <td>None</td>\n",
       "      <td>None</td>\n",
       "      <td>N</td>\n",
       "      <td>1035.209131</td>\n",
       "      <td>2019-04-26</td>\n",
       "      <td>210499.339279</td>\n",
       "      <td>2.681179e+09</td>\n",
       "      <td>POLYGON ((-78.29218 42.52140, -78.29047 42.521...</td>\n",
       "    </tr>\n",
       "    <tr>\n",
       "      <th>2</th>\n",
       "      <td>Bronx</td>\n",
       "      <td>BRON</td>\n",
       "      <td>974101</td>\n",
       "      <td>36005</td>\n",
       "      <td>600000</td>\n",
       "      <td>Long Island</td>\n",
       "      <td>1203789</td>\n",
       "      <td>1332650</td>\n",
       "      <td>1385108</td>\n",
       "      <td>1472654</td>\n",
       "      <td>None</td>\n",
       "      <td>None</td>\n",
       "      <td>Y</td>\n",
       "      <td>57.472148</td>\n",
       "      <td>2019-10-04</td>\n",
       "      <td>57253.861278</td>\n",
       "      <td>1.488522e+08</td>\n",
       "      <td>POLYGON ((-73.86567 40.90219, -73.86300 40.901...</td>\n",
       "    </tr>\n",
       "    <tr>\n",
       "      <th>3</th>\n",
       "      <td>Broome</td>\n",
       "      <td>BROO</td>\n",
       "      <td>974102</td>\n",
       "      <td>36007</td>\n",
       "      <td>030000</td>\n",
       "      <td>Central</td>\n",
       "      <td>212160</td>\n",
       "      <td>200536</td>\n",
       "      <td>200600</td>\n",
       "      <td>198683</td>\n",
       "      <td>None</td>\n",
       "      <td>None</td>\n",
       "      <td>N</td>\n",
       "      <td>715.287465</td>\n",
       "      <td>2019-04-26</td>\n",
       "      <td>227933.332021</td>\n",
       "      <td>1.852586e+09</td>\n",
       "      <td>POLYGON ((-75.86416 42.41554, -75.86379 42.413...</td>\n",
       "    </tr>\n",
       "    <tr>\n",
       "      <th>4</th>\n",
       "      <td>Cattaraugus</td>\n",
       "      <td>CATT</td>\n",
       "      <td>974103</td>\n",
       "      <td>36009</td>\n",
       "      <td>040000</td>\n",
       "      <td>West</td>\n",
       "      <td>84234</td>\n",
       "      <td>83955</td>\n",
       "      <td>80317</td>\n",
       "      <td>77042</td>\n",
       "      <td>None</td>\n",
       "      <td>None</td>\n",
       "      <td>N</td>\n",
       "      <td>1324.309219</td>\n",
       "      <td>2019-04-26</td>\n",
       "      <td>276084.505560</td>\n",
       "      <td>3.429945e+09</td>\n",
       "      <td>POLYGON ((-79.02148 42.53804, -79.01937 42.537...</td>\n",
       "    </tr>\n",
       "    <tr>\n",
       "      <th>...</th>\n",
       "      <td>...</td>\n",
       "      <td>...</td>\n",
       "      <td>...</td>\n",
       "      <td>...</td>\n",
       "      <td>...</td>\n",
       "      <td>...</td>\n",
       "      <td>...</td>\n",
       "      <td>...</td>\n",
       "      <td>...</td>\n",
       "      <td>...</td>\n",
       "      <td>...</td>\n",
       "      <td>...</td>\n",
       "      <td>...</td>\n",
       "      <td>...</td>\n",
       "      <td>...</td>\n",
       "      <td>...</td>\n",
       "      <td>...</td>\n",
       "      <td>...</td>\n",
       "    </tr>\n",
       "    <tr>\n",
       "      <th>57</th>\n",
       "      <td>Washington</td>\n",
       "      <td>WASH</td>\n",
       "      <td>974155</td>\n",
       "      <td>36115</td>\n",
       "      <td>530000</td>\n",
       "      <td>East</td>\n",
       "      <td>59330</td>\n",
       "      <td>61042</td>\n",
       "      <td>63216</td>\n",
       "      <td>61302</td>\n",
       "      <td>None</td>\n",
       "      <td>None</td>\n",
       "      <td>N</td>\n",
       "      <td>845.855708</td>\n",
       "      <td>2017-11-10</td>\n",
       "      <td>302358.996697</td>\n",
       "      <td>2.190756e+09</td>\n",
       "      <td>POLYGON ((-73.37718 43.79995, -73.37690 43.799...</td>\n",
       "    </tr>\n",
       "    <tr>\n",
       "      <th>58</th>\n",
       "      <td>Wayne</td>\n",
       "      <td>WAYN</td>\n",
       "      <td>974156</td>\n",
       "      <td>36117</td>\n",
       "      <td>540000</td>\n",
       "      <td>Central</td>\n",
       "      <td>89123</td>\n",
       "      <td>93765</td>\n",
       "      <td>93772</td>\n",
       "      <td>91283</td>\n",
       "      <td>None</td>\n",
       "      <td>None</td>\n",
       "      <td>N</td>\n",
       "      <td>1395.598959</td>\n",
       "      <td>2018-02-08</td>\n",
       "      <td>254972.219986</td>\n",
       "      <td>3.614585e+09</td>\n",
       "      <td>POLYGON ((-76.74696 43.69594, -76.72214 43.343...</td>\n",
       "    </tr>\n",
       "    <tr>\n",
       "      <th>59</th>\n",
       "      <td>Westchester</td>\n",
       "      <td>WEST</td>\n",
       "      <td>974157</td>\n",
       "      <td>36119</td>\n",
       "      <td>550000</td>\n",
       "      <td>East</td>\n",
       "      <td>874866</td>\n",
       "      <td>923459</td>\n",
       "      <td>949113</td>\n",
       "      <td>1004457</td>\n",
       "      <td>None</td>\n",
       "      <td>None</td>\n",
       "      <td>N</td>\n",
       "      <td>499.972897</td>\n",
       "      <td>2019-10-04</td>\n",
       "      <td>182997.677827</td>\n",
       "      <td>1.294924e+09</td>\n",
       "      <td>POLYGON ((-73.54795 41.31920, -73.54819 41.316...</td>\n",
       "    </tr>\n",
       "    <tr>\n",
       "      <th>60</th>\n",
       "      <td>Wyoming</td>\n",
       "      <td>WYOM</td>\n",
       "      <td>974158</td>\n",
       "      <td>36121</td>\n",
       "      <td>560000</td>\n",
       "      <td>West</td>\n",
       "      <td>42507</td>\n",
       "      <td>43424</td>\n",
       "      <td>42155</td>\n",
       "      <td>40531</td>\n",
       "      <td>None</td>\n",
       "      <td>None</td>\n",
       "      <td>N</td>\n",
       "      <td>596.822633</td>\n",
       "      <td>2018-09-20</td>\n",
       "      <td>176096.925232</td>\n",
       "      <td>1.545764e+09</td>\n",
       "      <td>POLYGON ((-78.36506 42.86886, -78.36497 42.868...</td>\n",
       "    </tr>\n",
       "    <tr>\n",
       "      <th>61</th>\n",
       "      <td>Yates</td>\n",
       "      <td>YATE</td>\n",
       "      <td>974159</td>\n",
       "      <td>36123</td>\n",
       "      <td>570000</td>\n",
       "      <td>Central</td>\n",
       "      <td>22810</td>\n",
       "      <td>24621</td>\n",
       "      <td>25348</td>\n",
       "      <td>24774</td>\n",
       "      <td>None</td>\n",
       "      <td>None</td>\n",
       "      <td>N</td>\n",
       "      <td>375.771539</td>\n",
       "      <td>2018-02-08</td>\n",
       "      <td>141535.638713</td>\n",
       "      <td>9.732438e+08</td>\n",
       "      <td>POLYGON ((-77.23283 42.76140, -77.23249 42.761...</td>\n",
       "    </tr>\n",
       "  </tbody>\n",
       "</table>\n",
       "<p>62 rows × 18 columns</p>\n",
       "</div>"
      ],
      "text/plain": [
       "           NAME ABBREV GNIS_ID FIPS_CODE    SWIS    NYSP_ZONE  POP1990  \\\n",
       "0        Albany   ALBA  974099     36001  010000         East   292594   \n",
       "1      Allegany   ALLE  974100     36003  020000         West    50470   \n",
       "2         Bronx   BRON  974101     36005  600000  Long Island  1203789   \n",
       "3        Broome   BROO  974102     36007  030000      Central   212160   \n",
       "4   Cattaraugus   CATT  974103     36009  040000         West    84234   \n",
       "..          ...    ...     ...       ...     ...          ...      ...   \n",
       "57   Washington   WASH  974155     36115  530000         East    59330   \n",
       "58        Wayne   WAYN  974156     36117  540000      Central    89123   \n",
       "59  Westchester   WEST  974157     36119  550000         East   874866   \n",
       "60      Wyoming   WYOM  974158     36121  560000         West    42507   \n",
       "61        Yates   YATE  974159     36123  570000      Central    22810   \n",
       "\n",
       "    POP2000  POP2010  POP2020 DOS_LL DOSLL_DATE NYC   CALC_SQ_MI     DATEMOD  \\\n",
       "0    294565   304204   314848   None       None   N   532.791779  2017-11-10   \n",
       "1     49927    48946    46456   None       None   N  1035.209131  2019-04-26   \n",
       "2   1332650  1385108  1472654   None       None   Y    57.472148  2019-10-04   \n",
       "3    200536   200600   198683   None       None   N   715.287465  2019-04-26   \n",
       "4     83955    80317    77042   None       None   N  1324.309219  2019-04-26   \n",
       "..      ...      ...      ...    ...        ...  ..          ...         ...   \n",
       "57    61042    63216    61302   None       None   N   845.855708  2017-11-10   \n",
       "58    93765    93772    91283   None       None   N  1395.598959  2018-02-08   \n",
       "59   923459   949113  1004457   None       None   N   499.972897  2019-10-04   \n",
       "60    43424    42155    40531   None       None   N   596.822633  2018-09-20   \n",
       "61    24621    25348    24774   None       None   N   375.771539  2018-02-08   \n",
       "\n",
       "       Shape_Leng    Shape_Area  \\\n",
       "0   166077.834242  1.379924e+09   \n",
       "1   210499.339279  2.681179e+09   \n",
       "2    57253.861278  1.488522e+08   \n",
       "3   227933.332021  1.852586e+09   \n",
       "4   276084.505560  3.429945e+09   \n",
       "..            ...           ...   \n",
       "57  302358.996697  2.190756e+09   \n",
       "58  254972.219986  3.614585e+09   \n",
       "59  182997.677827  1.294924e+09   \n",
       "60  176096.925232  1.545764e+09   \n",
       "61  141535.638713  9.732438e+08   \n",
       "\n",
       "                                             geometry  \n",
       "0   POLYGON ((-73.70733 42.78605, -73.70397 42.783...  \n",
       "1   POLYGON ((-78.29218 42.52140, -78.29047 42.521...  \n",
       "2   POLYGON ((-73.86567 40.90219, -73.86300 40.901...  \n",
       "3   POLYGON ((-75.86416 42.41554, -75.86379 42.413...  \n",
       "4   POLYGON ((-79.02148 42.53804, -79.01937 42.537...  \n",
       "..                                                ...  \n",
       "57  POLYGON ((-73.37718 43.79995, -73.37690 43.799...  \n",
       "58  POLYGON ((-76.74696 43.69594, -76.72214 43.343...  \n",
       "59  POLYGON ((-73.54795 41.31920, -73.54819 41.316...  \n",
       "60  POLYGON ((-78.36506 42.86886, -78.36497 42.868...  \n",
       "61  POLYGON ((-77.23283 42.76140, -77.23249 42.761...  \n",
       "\n",
       "[62 rows x 18 columns]"
      ]
     },
     "execution_count": 31,
     "metadata": {},
     "output_type": "execute_result"
    }
   ],
   "source": [
    "counties"
   ]
  },
  {
   "cell_type": "code",
   "execution_count": 32,
   "id": "386fbc3e-a1a8-40a6-9e14-4aa5a7f08031",
   "metadata": {},
   "outputs": [
    {
     "data": {
      "text/plain": [
       "geopandas.geoseries.GeoSeries"
      ]
     },
     "execution_count": 32,
     "metadata": {},
     "output_type": "execute_result"
    }
   ],
   "source": [
    "ny = counties[counties.loc[:, \"NAME\"]==\"New York\"].loc[:, \"geometry\"]\n",
    "type(ny)"
   ]
  },
  {
   "cell_type": "code",
   "execution_count": 33,
   "id": "3175d382-8d09-41b7-8e95-d4f83b3f5280",
   "metadata": {},
   "outputs": [
    {
     "data": {
      "image/png": "[encoded data removed]",
      "text/plain": [
       "<Figure size 1728x1152 with 1 Axes>"
      ]
     },
     "metadata": {
      "needs_background": "light"
     },
     "output_type": "display_data"
    }
   ],
   "source": [
    "ny.plot(figsize=(24,16));"
   ]
  },
  {
   "cell_type": "code",
   "execution_count": null,
   "id": "59cbae6e-6a8f-446f-b7b5-70e2e5ec787c",
   "metadata": {},
   "outputs": [],
   "source": []
  },
  {
   "cell_type": "code",
   "execution_count": 34,
   "id": "16482120-3783-41f2-9bdc-85ae9b5a1990",
   "metadata": {},
   "outputs": [
    {
     "data": {
      "text/plain": [
       "30    False\n",
       "dtype: bool"
      ]
     },
     "execution_count": 34,
     "metadata": {},
     "output_type": "execute_result"
    }
   ],
   "source": [
    "ny.contains(Point(40.750,-74))"
   ]
  },
  {
   "cell_type": "code",
   "execution_count": 35,
   "id": "1b104684-0c98-41f9-b79c-a3dc885385fd",
   "metadata": {},
   "outputs": [],
   "source": [
    "img_dir = \"../data/images/\"\n",
    "data_dir = \"../data/\"\n",
    "from scipy.io import loadmat\n",
    "coordinates = loadmat(data_dir + \"GPS_Long_Lat_Compass.mat\")[\"GPS_Compass\"] # Coordinates. Each coordinate corresponds to 6 pictures\n"
   ]
  },
  {
   "cell_type": "code",
   "execution_count": 36,
   "id": "03a7c139-976a-4421-a645-0d378ae46e05",
   "metadata": {},
   "outputs": [
    {
     "data": {
      "text/plain": [
       "numpy.float64"
      ]
     },
     "execution_count": 36,
     "metadata": {},
     "output_type": "execute_result"
    }
   ],
   "source": [
    "type(coordinates[0][0])"
   ]
  },
  {
   "cell_type": "code",
   "execution_count": 37,
   "id": "abca5815-c767-4584-bb1a-bda83aa6e19c",
   "metadata": {},
   "outputs": [],
   "source": [
    "coordinates = [Point(c[1], c[0]) for c in coordinates]"
   ]
  },
  {
   "cell_type": "code",
   "execution_count": 38,
   "id": "f808b653-2146-4ca7-a947-4063a6d7f6ed",
   "metadata": {},
   "outputs": [],
   "source": [
    "coordinates_gpd = gpd.GeoDataFrame(geometry=coordinates)"
   ]
  },
  {
   "cell_type": "code",
   "execution_count": 39,
   "id": "a3d185e0-b598-4631-9846-e03e159c860f",
   "metadata": {},
   "outputs": [
    {
     "data": {
      "text/html": [
       "<div>\n",
       "<style scoped>\n",
       "    .dataframe tbody tr th:only-of-type {\n",
       "        vertical-align: middle;\n",
       "    }\n",
       "\n",
       "    .dataframe tbody tr th {\n",
       "        vertical-align: top;\n",
       "    }\n",
       "\n",
       "    .dataframe thead th {\n",
       "        text-align: right;\n",
       "    }\n",
       "</style>\n",
       "<table border=\"1\" class=\"dataframe\">\n",
       "  <thead>\n",
       "    <tr style=\"text-align: right;\">\n",
       "      <th></th>\n",
       "      <th>geometry</th>\n",
       "    </tr>\n",
       "  </thead>\n",
       "  <tbody>\n",
       "    <tr>\n",
       "      <th>0</th>\n",
       "      <td>POINT (-80.00000 40.44031)</td>\n",
       "    </tr>\n",
       "    <tr>\n",
       "      <th>1</th>\n",
       "      <td>POINT (-80.00680 40.44027)</td>\n",
       "    </tr>\n",
       "    <tr>\n",
       "      <th>2</th>\n",
       "      <td>POINT (-80.00670 40.44023)</td>\n",
       "    </tr>\n",
       "    <tr>\n",
       "      <th>3</th>\n",
       "      <td>POINT (-80.00660 40.44019)</td>\n",
       "    </tr>\n",
       "    <tr>\n",
       "      <th>4</th>\n",
       "      <td>POINT (-80.00650 40.44015)</td>\n",
       "    </tr>\n",
       "    <tr>\n",
       "      <th>...</th>\n",
       "      <td>...</td>\n",
       "    </tr>\n",
       "    <tr>\n",
       "      <th>10338</th>\n",
       "      <td>POINT (-74.00172 40.73055)</td>\n",
       "    </tr>\n",
       "    <tr>\n",
       "      <th>10339</th>\n",
       "      <td>POINT (-74.00160 40.73075)</td>\n",
       "    </tr>\n",
       "    <tr>\n",
       "      <th>10340</th>\n",
       "      <td>POINT (-74.00154 40.73085)</td>\n",
       "    </tr>\n",
       "    <tr>\n",
       "      <th>10341</th>\n",
       "      <td>POINT (-74.00149 40.73093)</td>\n",
       "    </tr>\n",
       "    <tr>\n",
       "      <th>10342</th>\n",
       "      <td>POINT (-74.00142 40.73105)</td>\n",
       "    </tr>\n",
       "  </tbody>\n",
       "</table>\n",
       "<p>10343 rows × 1 columns</p>\n",
       "</div>"
      ],
      "text/plain": [
       "                         geometry\n",
       "0      POINT (-80.00000 40.44031)\n",
       "1      POINT (-80.00680 40.44027)\n",
       "2      POINT (-80.00670 40.44023)\n",
       "3      POINT (-80.00660 40.44019)\n",
       "4      POINT (-80.00650 40.44015)\n",
       "...                           ...\n",
       "10338  POINT (-74.00172 40.73055)\n",
       "10339  POINT (-74.00160 40.73075)\n",
       "10340  POINT (-74.00154 40.73085)\n",
       "10341  POINT (-74.00149 40.73093)\n",
       "10342  POINT (-74.00142 40.73105)\n",
       "\n",
       "[10343 rows x 1 columns]"
      ]
     },
     "execution_count": 39,
     "metadata": {},
     "output_type": "execute_result"
    }
   ],
   "source": [
    "coordinates_gpd"
   ]
  },
  {
   "cell_type": "code",
   "execution_count": 40,
   "id": "7bd72aae-4ca7-4f4c-a0f2-be4f915916d9",
   "metadata": {},
   "outputs": [],
   "source": [
    "import torch\n",
    "import torchvision\n",
    "import torchvision.transforms as transforms\n",
    "from sklearn.model_selection import train_test_split\n",
    "from scipy.io import loadmat\n",
    "import reverse_geocoder\n",
    "from os import listdir\n",
    "from os.path import isfile, join"
   ]
  },
  {
   "cell_type": "code",
   "execution_count": 41,
   "id": "3ccbe298-6e50-40ce-bf42-8ae9fafe3bf2",
   "metadata": {},
   "outputs": [],
   "source": [
    "### Returns an array of True/False if the coordinate is in a given state\n",
    "### coordinates: An array of coordinates\n",
    "### state: Full name of the state. ex= \"New York\"\n",
    "def get_coordinates_in_state(coordinates, state):\n",
    "    coords = [(lat,long) for lat,long,ele in coordinates]\n",
    "    results = reverse_geocoder.search(coords, mode=2)\n",
    "    state = [x['admin1']==state for x in results]\n",
    "    return state"
   ]
  },
  {
   "cell_type": "code",
   "execution_count": 42,
   "id": "deeafb07-bd0b-4fbe-879c-e6eeb3ea6558",
   "metadata": {},
   "outputs": [
    {
     "data": {
      "text/plain": [
       "[False, False, False, False, False]"
      ]
     },
     "execution_count": 42,
     "metadata": {},
     "output_type": "execute_result"
    }
   ],
   "source": [
    "img_dir = \"../data/images/\"\n",
    "data_dir = \"../data/\"\n",
    "img_files = [f for f in listdir(img_dir) if isfile(join(img_dir, f))] # Names of all images in the folder\n",
    "coordinates = loadmat(data_dir + \"GPS_Long_Lat_Compass.mat\")[\"GPS_Compass\"] # Coordinates. Each coordinate corresponds to 6 pictures\n",
    "in_ny = get_coordinates_in_state(coordinates=coordinates, state=\"New York\") # All coordinates in NY\n",
    "in_ny[:5]"
   ]
  },
  {
   "cell_type": "code",
   "execution_count": 43,
   "id": "e1da816c-2aa9-471c-aa30-750c30b4d05c",
   "metadata": {},
   "outputs": [],
   "source": [
    "ny_coords = [coordinates[x] for x in range(len(in_ny)) if in_ny[x]]\n",
    "coordinates = [Point(c[1], c[0]) for c in ny_coords]"
   ]
  },
  {
   "cell_type": "code",
   "execution_count": 44,
   "id": "a810050a-5db0-4d47-aad3-abac99d2b0b8",
   "metadata": {},
   "outputs": [],
   "source": [
    "coordinates_gpd = gpd.GeoDataFrame(geometry=coordinates)"
   ]
  },
  {
   "cell_type": "code",
   "execution_count": 45,
   "id": "e917e97c-04e5-4c78-8172-84c9f01c8244",
   "metadata": {},
   "outputs": [
    {
     "data": {
      "text/plain": [
       "<AxesSubplot:>"
      ]
     },
     "execution_count": 45,
     "metadata": {},
     "output_type": "execute_result"
    },
    {
     "data": {
      "image/png": "[encoded data removed]",
      "text/plain": [
       "<Figure size 1728x1152 with 1 Axes>"
      ]
     },
     "metadata": {
      "needs_background": "light"
     },
     "output_type": "display_data"
    }
   ],
   "source": [
    "import matplotlib.pyplot as plt\n",
    "ax = ny.plot(color='lightgrey',figsize=(24,16))\n",
    "coordinates_gpd.loc[:,'geometry'].plot(ax=ax)"
   ]
  },
  {
   "cell_type": "code",
   "execution_count": 46,
   "id": "d8dbf185-1bad-47c3-b8dd-848cd63fdc83",
   "metadata": {},
   "outputs": [
    {
     "name": "stdout",
     "output_type": "stream",
     "text": [
      "         minx       miny       maxx       maxy\n",
      "30 -74.047207  40.679654 -73.906769  40.882012\n"
     ]
    },
    {
     "data": {
      "text/plain": [
       "[array([-74.0472072 ,  40.67965408, -73.90676928,  40.88201247])]"
      ]
     },
     "execution_count": 46,
     "metadata": {},
     "output_type": "execute_result"
    }
   ],
   "source": [
    "bounds = ny.bounds\n",
    "print(bounds)\n",
    "list(bounds.values)"
   ]
  },
  {
   "cell_type": "code",
   "execution_count": 47,
   "id": "b62f60a5-3119-41f9-bfe2-903ae0cf3de1",
   "metadata": {},
   "outputs": [],
   "source": [
    "import pickle\n",
    "\n",
    "# pickle.dump(ny, open(\"ny.pkl\",\"wb\"))"
   ]
  },
  {
   "cell_type": "code",
   "execution_count": 48,
   "id": "9efba548-1a58-4715-95e4-218323d25dc4",
   "metadata": {},
   "outputs": [],
   "source": [
    "import shapely\n",
    "import gmaps\n",
    "from shapely.geometry import Point, Polygon, box\n",
    "from matplotlib import pyplot as plt\n",
    "import numpy as np\n",
    "import pickle"
   ]
  },
  {
   "cell_type": "code",
   "execution_count": 66,
   "id": "b2fd4f14-3930-4301-8d76-fae3cf0357df",
   "metadata": {},
   "outputs": [
    {
     "data": {
      "text/plain": [
       "30    MULTIPOLYGON (((-74.04413 40.68854, -74.04435 ...\n",
       "Name: geometry, dtype: geometry"
      ]
     },
     "execution_count": 66,
     "metadata": {},
     "output_type": "execute_result"
    }
   ],
   "source": [
    "ny"
   ]
  },
  {
   "cell_type": "code",
   "execution_count": 49,
   "id": "a60c2fcd-e93f-4b75-8055-b2ff88b08bfd",
   "metadata": {},
   "outputs": [
    {
     "ename": "KeyError",
     "evalue": "0",
     "output_type": "error",
     "traceback": [
      "\u001b[0;31m---------------------------------------------------------------------------\u001b[0m",
      "\u001b[0;31mAttributeError\u001b[0m                            Traceback (most recent call last)",
      "File \u001b[0;32m~/miniconda3/lib/python3.8/site-packages/shapely/speedups/_speedups.pyx:252\u001b[0m, in \u001b[0;36mshapely.speedups._speedups.geos_linearring_from_py\u001b[0;34m()\u001b[0m\n",
      "File \u001b[0;32m~/miniconda3/lib/python3.8/site-packages/pandas/core/generic.py:5575\u001b[0m, in \u001b[0;36mNDFrame.__getattr__\u001b[0;34m(self, name)\u001b[0m\n\u001b[1;32m   5574\u001b[0m     \u001b[38;5;28;01mreturn\u001b[39;00m \u001b[38;5;28mself\u001b[39m[name]\n\u001b[0;32m-> 5575\u001b[0m \u001b[38;5;28;01mreturn\u001b[39;00m \u001b[38;5;28;43mobject\u001b[39;49m\u001b[38;5;241;43m.\u001b[39;49m\u001b[38;5;21;43m__getattribute__\u001b[39;49m\u001b[43m(\u001b[49m\u001b[38;5;28;43mself\u001b[39;49m\u001b[43m,\u001b[49m\u001b[43m \u001b[49m\u001b[43mname\u001b[49m\u001b[43m)\u001b[49m\n",
      "\u001b[0;31mAttributeError\u001b[0m: 'GeoSeries' object has no attribute '__array_interface__'",
      "\nDuring handling of the above exception, another exception occurred:\n",
      "\u001b[0;31mKeyError\u001b[0m                                  Traceback (most recent call last)",
      "File \u001b[0;32m~/miniconda3/lib/python3.8/site-packages/pandas/core/indexes/base.py:3621\u001b[0m, in \u001b[0;36mIndex.get_loc\u001b[0;34m(self, key, method, tolerance)\u001b[0m\n\u001b[1;32m   3620\u001b[0m \u001b[38;5;28;01mtry\u001b[39;00m:\n\u001b[0;32m-> 3621\u001b[0m     \u001b[38;5;28;01mreturn\u001b[39;00m \u001b[38;5;28;43mself\u001b[39;49m\u001b[38;5;241;43m.\u001b[39;49m\u001b[43m_engine\u001b[49m\u001b[38;5;241;43m.\u001b[39;49m\u001b[43mget_loc\u001b[49m\u001b[43m(\u001b[49m\u001b[43mcasted_key\u001b[49m\u001b[43m)\u001b[49m\n\u001b[1;32m   3622\u001b[0m \u001b[38;5;28;01mexcept\u001b[39;00m \u001b[38;5;167;01mKeyError\u001b[39;00m \u001b[38;5;28;01mas\u001b[39;00m err:\n",
      "File \u001b[0;32m~/miniconda3/lib/python3.8/site-packages/pandas/_libs/index.pyx:136\u001b[0m, in \u001b[0;36mpandas._libs.index.IndexEngine.get_loc\u001b[0;34m()\u001b[0m\n",
      "File \u001b[0;32m~/miniconda3/lib/python3.8/site-packages/pandas/_libs/index.pyx:163\u001b[0m, in \u001b[0;36mpandas._libs.index.IndexEngine.get_loc\u001b[0;34m()\u001b[0m\n",
      "File \u001b[0;32mpandas/_libs/hashtable_class_helper.pxi:2131\u001b[0m, in \u001b[0;36mpandas._libs.hashtable.Int64HashTable.get_item\u001b[0;34m()\u001b[0m\n",
      "File \u001b[0;32mpandas/_libs/hashtable_class_helper.pxi:2140\u001b[0m, in \u001b[0;36mpandas._libs.hashtable.Int64HashTable.get_item\u001b[0;34m()\u001b[0m\n",
      "\u001b[0;31mKeyError\u001b[0m: 0",
      "\nThe above exception was the direct cause of the following exception:\n",
      "\u001b[0;31mKeyError\u001b[0m                                  Traceback (most recent call last)",
      "Input \u001b[0;32mIn [49]\u001b[0m, in \u001b[0;36m<cell line: 2>\u001b[0;34m()\u001b[0m\n\u001b[1;32m      1\u001b[0m \u001b[38;5;66;03m# ny = pickle.load(open(\"ny.pkl\",\"rb\"))\u001b[39;00m\n\u001b[0;32m----> 2\u001b[0m ny \u001b[38;5;241m=\u001b[39m \u001b[43mPolygon\u001b[49m\u001b[43m(\u001b[49m\u001b[43mnp\u001b[49m\u001b[38;5;241;43m.\u001b[39;49m\u001b[43mflip\u001b[49m\u001b[43m(\u001b[49m\u001b[43mny\u001b[49m\u001b[43m)\u001b[49m\u001b[43m)\u001b[49m\n\u001b[1;32m      3\u001b[0m x,y \u001b[38;5;241m=\u001b[39m ny\u001b[38;5;241m.\u001b[39mexterior\u001b[38;5;241m.\u001b[39mxy\n\u001b[1;32m      4\u001b[0m plt\u001b[38;5;241m.\u001b[39mplot(x,y)\n",
      "File \u001b[0;32m~/miniconda3/lib/python3.8/site-packages/shapely/geometry/polygon.py:261\u001b[0m, in \u001b[0;36mPolygon.__init__\u001b[0;34m(self, shell, holes)\u001b[0m\n\u001b[1;32m    258\u001b[0m BaseGeometry\u001b[38;5;241m.\u001b[39m\u001b[38;5;21m__init__\u001b[39m(\u001b[38;5;28mself\u001b[39m)\n\u001b[1;32m    260\u001b[0m \u001b[38;5;28;01mif\u001b[39;00m shell \u001b[38;5;129;01mis\u001b[39;00m \u001b[38;5;129;01mnot\u001b[39;00m \u001b[38;5;28;01mNone\u001b[39;00m:\n\u001b[0;32m--> 261\u001b[0m     ret \u001b[38;5;241m=\u001b[39m \u001b[43mgeos_polygon_from_py\u001b[49m\u001b[43m(\u001b[49m\u001b[43mshell\u001b[49m\u001b[43m,\u001b[49m\u001b[43m \u001b[49m\u001b[43mholes\u001b[49m\u001b[43m)\u001b[49m\n\u001b[1;32m    262\u001b[0m     \u001b[38;5;28;01mif\u001b[39;00m ret \u001b[38;5;129;01mis\u001b[39;00m \u001b[38;5;129;01mnot\u001b[39;00m \u001b[38;5;28;01mNone\u001b[39;00m:\n\u001b[1;32m    263\u001b[0m         geom, n \u001b[38;5;241m=\u001b[39m ret\n",
      "File \u001b[0;32m~/miniconda3/lib/python3.8/site-packages/shapely/geometry/polygon.py:539\u001b[0m, in \u001b[0;36mgeos_polygon_from_py\u001b[0;34m(shell, holes)\u001b[0m\n\u001b[1;32m    536\u001b[0m     \u001b[38;5;28;01mreturn\u001b[39;00m geos_geom_from_py(shell)\n\u001b[1;32m    538\u001b[0m \u001b[38;5;28;01mif\u001b[39;00m shell \u001b[38;5;129;01mis\u001b[39;00m \u001b[38;5;129;01mnot\u001b[39;00m \u001b[38;5;28;01mNone\u001b[39;00m:\n\u001b[0;32m--> 539\u001b[0m     ret \u001b[38;5;241m=\u001b[39m \u001b[43mgeos_linearring_from_py\u001b[49m\u001b[43m(\u001b[49m\u001b[43mshell\u001b[49m\u001b[43m)\u001b[49m\n\u001b[1;32m    540\u001b[0m     \u001b[38;5;28;01mif\u001b[39;00m ret \u001b[38;5;129;01mis\u001b[39;00m \u001b[38;5;28;01mNone\u001b[39;00m:\n\u001b[1;32m    541\u001b[0m         \u001b[38;5;28;01mreturn\u001b[39;00m \u001b[38;5;28;01mNone\u001b[39;00m\n",
      "File \u001b[0;32m~/miniconda3/lib/python3.8/site-packages/shapely/speedups/_speedups.pyx:344\u001b[0m, in \u001b[0;36mshapely.speedups._speedups.geos_linearring_from_py\u001b[0;34m()\u001b[0m\n",
      "File \u001b[0;32m~/miniconda3/lib/python3.8/site-packages/geopandas/geoseries.py:558\u001b[0m, in \u001b[0;36mGeoSeries.__getitem__\u001b[0;34m(self, key)\u001b[0m\n\u001b[1;32m    557\u001b[0m \u001b[38;5;28;01mdef\u001b[39;00m \u001b[38;5;21m__getitem__\u001b[39m(\u001b[38;5;28mself\u001b[39m, key):\n\u001b[0;32m--> 558\u001b[0m     \u001b[38;5;28;01mreturn\u001b[39;00m \u001b[38;5;28;43mself\u001b[39;49m\u001b[38;5;241;43m.\u001b[39;49m\u001b[43m_wrapped_pandas_method\u001b[49m\u001b[43m(\u001b[49m\u001b[38;5;124;43m\"\u001b[39;49m\u001b[38;5;124;43m__getitem__\u001b[39;49m\u001b[38;5;124;43m\"\u001b[39;49m\u001b[43m,\u001b[49m\u001b[43m \u001b[49m\u001b[43mkey\u001b[49m\u001b[43m)\u001b[49m\n",
      "File \u001b[0;32m~/miniconda3/lib/python3.8/site-packages/geopandas/geoseries.py:551\u001b[0m, in \u001b[0;36mGeoSeries._wrapped_pandas_method\u001b[0;34m(self, mtd, *args, **kwargs)\u001b[0m\n\u001b[1;32m    549\u001b[0m \u001b[38;5;28;01mdef\u001b[39;00m \u001b[38;5;21m_wrapped_pandas_method\u001b[39m(\u001b[38;5;28mself\u001b[39m, mtd, \u001b[38;5;241m*\u001b[39margs, \u001b[38;5;241m*\u001b[39m\u001b[38;5;241m*\u001b[39mkwargs):\n\u001b[1;32m    550\u001b[0m     \u001b[38;5;124;03m\"\"\"Wrap a generic pandas method to ensure it returns a GeoSeries\"\"\"\u001b[39;00m\n\u001b[0;32m--> 551\u001b[0m     val \u001b[38;5;241m=\u001b[39m \u001b[38;5;28;43mgetattr\u001b[39;49m\u001b[43m(\u001b[49m\u001b[38;5;28;43msuper\u001b[39;49m\u001b[43m(\u001b[49m\u001b[43mGeoSeries\u001b[49m\u001b[43m,\u001b[49m\u001b[43m \u001b[49m\u001b[38;5;28;43mself\u001b[39;49m\u001b[43m)\u001b[49m\u001b[43m,\u001b[49m\u001b[43m \u001b[49m\u001b[43mmtd\u001b[49m\u001b[43m)\u001b[49m\u001b[43m(\u001b[49m\u001b[38;5;241;43m*\u001b[39;49m\u001b[43margs\u001b[49m\u001b[43m,\u001b[49m\u001b[43m \u001b[49m\u001b[38;5;241;43m*\u001b[39;49m\u001b[38;5;241;43m*\u001b[39;49m\u001b[43mkwargs\u001b[49m\u001b[43m)\u001b[49m\n\u001b[1;32m    552\u001b[0m     \u001b[38;5;28;01mif\u001b[39;00m \u001b[38;5;28mtype\u001b[39m(val) \u001b[38;5;241m==\u001b[39m Series:\n\u001b[1;32m    553\u001b[0m         val\u001b[38;5;241m.\u001b[39m\u001b[38;5;18m__class__\u001b[39m \u001b[38;5;241m=\u001b[39m GeoSeries\n",
      "File \u001b[0;32m~/miniconda3/lib/python3.8/site-packages/pandas/core/series.py:958\u001b[0m, in \u001b[0;36mSeries.__getitem__\u001b[0;34m(self, key)\u001b[0m\n\u001b[1;32m    955\u001b[0m     \u001b[38;5;28;01mreturn\u001b[39;00m \u001b[38;5;28mself\u001b[39m\u001b[38;5;241m.\u001b[39m_values[key]\n\u001b[1;32m    957\u001b[0m \u001b[38;5;28;01melif\u001b[39;00m key_is_scalar:\n\u001b[0;32m--> 958\u001b[0m     \u001b[38;5;28;01mreturn\u001b[39;00m \u001b[38;5;28;43mself\u001b[39;49m\u001b[38;5;241;43m.\u001b[39;49m\u001b[43m_get_value\u001b[49m\u001b[43m(\u001b[49m\u001b[43mkey\u001b[49m\u001b[43m)\u001b[49m\n\u001b[1;32m    960\u001b[0m \u001b[38;5;28;01mif\u001b[39;00m is_hashable(key):\n\u001b[1;32m    961\u001b[0m     \u001b[38;5;66;03m# Otherwise index.get_value will raise InvalidIndexError\u001b[39;00m\n\u001b[1;32m    962\u001b[0m     \u001b[38;5;28;01mtry\u001b[39;00m:\n\u001b[1;32m    963\u001b[0m         \u001b[38;5;66;03m# For labels that don't resolve as scalars like tuples and frozensets\u001b[39;00m\n",
      "File \u001b[0;32m~/miniconda3/lib/python3.8/site-packages/pandas/core/series.py:1069\u001b[0m, in \u001b[0;36mSeries._get_value\u001b[0;34m(self, label, takeable)\u001b[0m\n\u001b[1;32m   1066\u001b[0m     \u001b[38;5;28;01mreturn\u001b[39;00m \u001b[38;5;28mself\u001b[39m\u001b[38;5;241m.\u001b[39m_values[label]\n\u001b[1;32m   1068\u001b[0m \u001b[38;5;66;03m# Similar to Index.get_value, but we do not fall back to positional\u001b[39;00m\n\u001b[0;32m-> 1069\u001b[0m loc \u001b[38;5;241m=\u001b[39m \u001b[38;5;28;43mself\u001b[39;49m\u001b[38;5;241;43m.\u001b[39;49m\u001b[43mindex\u001b[49m\u001b[38;5;241;43m.\u001b[39;49m\u001b[43mget_loc\u001b[49m\u001b[43m(\u001b[49m\u001b[43mlabel\u001b[49m\u001b[43m)\u001b[49m\n\u001b[1;32m   1070\u001b[0m \u001b[38;5;28;01mreturn\u001b[39;00m \u001b[38;5;28mself\u001b[39m\u001b[38;5;241m.\u001b[39mindex\u001b[38;5;241m.\u001b[39m_get_values_for_loc(\u001b[38;5;28mself\u001b[39m, loc, label)\n",
      "File \u001b[0;32m~/miniconda3/lib/python3.8/site-packages/pandas/core/indexes/base.py:3623\u001b[0m, in \u001b[0;36mIndex.get_loc\u001b[0;34m(self, key, method, tolerance)\u001b[0m\n\u001b[1;32m   3621\u001b[0m     \u001b[38;5;28;01mreturn\u001b[39;00m \u001b[38;5;28mself\u001b[39m\u001b[38;5;241m.\u001b[39m_engine\u001b[38;5;241m.\u001b[39mget_loc(casted_key)\n\u001b[1;32m   3622\u001b[0m \u001b[38;5;28;01mexcept\u001b[39;00m \u001b[38;5;167;01mKeyError\u001b[39;00m \u001b[38;5;28;01mas\u001b[39;00m err:\n\u001b[0;32m-> 3623\u001b[0m     \u001b[38;5;28;01mraise\u001b[39;00m \u001b[38;5;167;01mKeyError\u001b[39;00m(key) \u001b[38;5;28;01mfrom\u001b[39;00m \u001b[38;5;21;01merr\u001b[39;00m\n\u001b[1;32m   3624\u001b[0m \u001b[38;5;28;01mexcept\u001b[39;00m \u001b[38;5;167;01mTypeError\u001b[39;00m:\n\u001b[1;32m   3625\u001b[0m     \u001b[38;5;66;03m# If we have a listlike key, _check_indexing_error will raise\u001b[39;00m\n\u001b[1;32m   3626\u001b[0m     \u001b[38;5;66;03m#  InvalidIndexError. Otherwise we fall through and re-raise\u001b[39;00m\n\u001b[1;32m   3627\u001b[0m     \u001b[38;5;66;03m#  the TypeError.\u001b[39;00m\n\u001b[1;32m   3628\u001b[0m     \u001b[38;5;28mself\u001b[39m\u001b[38;5;241m.\u001b[39m_check_indexing_error(key)\n",
      "\u001b[0;31mKeyError\u001b[0m: 0"
     ]
    }
   ],
   "source": [
    "# ny = pickle.load(open(\"ny.pkl\",\"rb\"))\n",
    "ny = Polygon(np.flip(ny))\n",
    "x,y = ny.exterior.xy\n",
    "plt.plot(x,y)"
   ]
  },
  {
   "cell_type": "code",
   "execution_count": null,
   "id": "81e4bd2f-a8aa-4517-b26c-1336968a18fd",
   "metadata": {},
   "outputs": [],
   "source": [
    "\n",
    "dim = 2\n",
    "bounds = list(ny.bounds.values)[0]\n",
    "xmin = int(bounds[0] // dim)\n",
    "xmax = int(bounds[2] // dim)\n",
    "ymin = int(bounds[1] // dim)\n",
    "ymax = int(bounds[3] // dim)\n",
    "for i in range(xmin, xmax+1):\n",
    "    for j in range(ymin, ymax+1):\n",
    "        b = box(i*dim, j*dim, (i+1)*dim, (j+1)*dim)\n",
    "        g = ny.intersection(b)\n",
    "        print(g)\n",
    "        print(type(g))\n",
    "        x,y = b.exterior.xy\n",
    "        plt.plot(x,y,c='b')\n",
    "        if g.empty or g.exterior==None:\n",
    "            continue\n",
    "        if type(g)==shapely.geometry.multipolygon.MultiPolygon:\n",
    "            print(g)\n",
    "            for gems in g.geoms:\n",
    "                x,y = gems.exterior.xy\n",
    "                plt.plot(x,y,c='r')\n",
    "        else:\n",
    "            x,y = g.exterior.xy\n",
    "            plt.plot(x,y,c='r')\n",
    "plt.show()\n",
    "\n"
   ]
  },
  {
   "cell_type": "code",
   "execution_count": null,
   "id": "fd9acd10-0488-49f6-b1f3-7cd944d40860",
   "metadata": {},
   "outputs": [],
   "source": []
  }
 ],
 "metadata": {
  "kernelspec": {
   "display_name": "Python 3 (ipykernel)",
   "language": "python",
   "name": "python3"
  },
  "language_info": {
   "codemirror_mode": {
    "name": "ipython",
    "version": 3
   },
   "file_extension": ".py",
   "mimetype": "text/x-python",
   "name": "python",
   "nbconvert_exporter": "python",
   "pygments_lexer": "ipython3",
   "version": "3.8.5"
  }
 },
 "nbformat": 4,
 "nbformat_minor": 5
}
