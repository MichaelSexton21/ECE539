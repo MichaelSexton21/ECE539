{
 "cells": [
  {
   "cell_type": "code",
   "execution_count": 1,
   "id": "65f20aea-8e27-432c-bd9f-e7472f7dcf95",
   "metadata": {},
   "outputs": [],
   "source": [
    "import pandas as pd  # provides interface for interacting with tabular data\n",
    "import geopandas as gpd  # combines the capabilities of pandas and shapely for geospatial operations\n",
    "from shapely.geometry import Point, Polygon, MultiPolygon  # for manipulating text data into geospatial shapes\n",
    "from shapely import wkt  # stands for \"well known text,\" allows for interchange across GIS programs\n",
    "import rtree  # supports geospatial join\n",
    "data = \"../data/NYS_Civil_Boundaries.shp/Counties.shp\"\n",
    "directory = \"../data/NYS_Civil_Boundaries.shp/\"\n",
    "counties = gpd.read_file(data)\n",
    "counties = counties.to_crs(epsg=4326)"
   ]
  },
  {
   "cell_type": "code",
   "execution_count": 2,
   "id": "4f1728de-d0bd-45a0-81c3-79e3bf8a7b5e",
   "metadata": {},
   "outputs": [
    {
     "name": "stdout",
     "output_type": "stream",
     "text": [
      "Requirement already satisfied: dbfread in c:\\users\\mjs47\\anaconda3\\lib\\site-packages (2.0.7)\n"
     ]
    }
   ],
   "source": [
    "!pip install dbfread"
   ]
  },
  {
   "cell_type": "code",
   "execution_count": 3,
   "id": "b35265de-d667-4bbf-9a0a-5fb068e660e6",
   "metadata": {},
   "outputs": [],
   "source": [
    "from dbfread import DBF\n",
    "for record in DBF(directory + 'Counties.dbf'):\n",
    "    if dict(record)[\"NAME\"]==\"New York\":\n",
    "        ny = dict(record)\n"
   ]
  },
  {
   "cell_type": "code",
   "execution_count": 4,
   "id": "8fb60d95-0ba1-4418-81e6-c4f1a52ce0e1",
   "metadata": {},
   "outputs": [
    {
     "data": {
      "text/plain": [
       "{'NAME': 'New York',\n",
       " 'ABBREV': 'NEWY',\n",
       " 'GNIS_ID': '974129',\n",
       " 'FIPS_CODE': '36061',\n",
       " 'SWIS': '620000',\n",
       " 'NYSP_ZONE': 'Long Island',\n",
       " 'POP1990': 1487536,\n",
       " 'POP2000': 1537195,\n",
       " 'POP2010': 1585873,\n",
       " 'POP2020': 1694251,\n",
       " 'DOS_LL': '',\n",
       " 'DOSLL_DATE': None,\n",
       " 'NYC': 'Y',\n",
       " 'CALC_SQ_MI': 33.7256341566,\n",
       " 'DATEMOD': datetime.date(2019, 10, 4),\n",
       " 'Shape_Leng': 60023.6142347,\n",
       " 'Shape_Area': 87348991.4677}"
      ]
     },
     "execution_count": 4,
     "metadata": {},
     "output_type": "execute_result"
    }
   ],
   "source": [
    "ny"
   ]
  },
  {
   "cell_type": "code",
   "execution_count": 5,
   "id": "42e0e443-a34d-49e6-9ced-9813507b88de",
   "metadata": {},
   "outputs": [
    {
     "data": {
      "text/html": [
       "<div>\n",
       "<style scoped>\n",
       "    .dataframe tbody tr th:only-of-type {\n",
       "        vertical-align: middle;\n",
       "    }\n",
       "\n",
       "    .dataframe tbody tr th {\n",
       "        vertical-align: top;\n",
       "    }\n",
       "\n",
       "    .dataframe thead th {\n",
       "        text-align: right;\n",
       "    }\n",
       "</style>\n",
       "<table border=\"1\" class=\"dataframe\">\n",
       "  <thead>\n",
       "    <tr style=\"text-align: right;\">\n",
       "      <th></th>\n",
       "      <th>NAME</th>\n",
       "      <th>ABBREV</th>\n",
       "      <th>GNIS_ID</th>\n",
       "      <th>FIPS_CODE</th>\n",
       "      <th>SWIS</th>\n",
       "      <th>NYSP_ZONE</th>\n",
       "      <th>POP1990</th>\n",
       "      <th>POP2000</th>\n",
       "      <th>POP2010</th>\n",
       "      <th>POP2020</th>\n",
       "      <th>DOS_LL</th>\n",
       "      <th>DOSLL_DATE</th>\n",
       "      <th>NYC</th>\n",
       "      <th>CALC_SQ_MI</th>\n",
       "      <th>DATEMOD</th>\n",
       "      <th>Shape_Leng</th>\n",
       "      <th>Shape_Area</th>\n",
       "      <th>geometry</th>\n",
       "    </tr>\n",
       "  </thead>\n",
       "  <tbody>\n",
       "    <tr>\n",
       "      <th>0</th>\n",
       "      <td>Albany</td>\n",
       "      <td>ALBA</td>\n",
       "      <td>974099</td>\n",
       "      <td>36001</td>\n",
       "      <td>010000</td>\n",
       "      <td>East</td>\n",
       "      <td>292594</td>\n",
       "      <td>294565</td>\n",
       "      <td>304204</td>\n",
       "      <td>314848</td>\n",
       "      <td>None</td>\n",
       "      <td>None</td>\n",
       "      <td>N</td>\n",
       "      <td>532.791779</td>\n",
       "      <td>2017-11-10</td>\n",
       "      <td>166077.834242</td>\n",
       "      <td>1.379924e+09</td>\n",
       "      <td>POLYGON ((-73.70733 42.78605, -73.70397 42.783...</td>\n",
       "    </tr>\n",
       "    <tr>\n",
       "      <th>1</th>\n",
       "      <td>Allegany</td>\n",
       "      <td>ALLE</td>\n",
       "      <td>974100</td>\n",
       "      <td>36003</td>\n",
       "      <td>020000</td>\n",
       "      <td>West</td>\n",
       "      <td>50470</td>\n",
       "      <td>49927</td>\n",
       "      <td>48946</td>\n",
       "      <td>46456</td>\n",
       "      <td>None</td>\n",
       "      <td>None</td>\n",
       "      <td>N</td>\n",
       "      <td>1035.209131</td>\n",
       "      <td>2019-04-26</td>\n",
       "      <td>210499.339279</td>\n",
       "      <td>2.681179e+09</td>\n",
       "      <td>POLYGON ((-78.29218 42.52140, -78.29047 42.521...</td>\n",
       "    </tr>\n",
       "    <tr>\n",
       "      <th>2</th>\n",
       "      <td>Bronx</td>\n",
       "      <td>BRON</td>\n",
       "      <td>974101</td>\n",
       "      <td>36005</td>\n",
       "      <td>600000</td>\n",
       "      <td>Long Island</td>\n",
       "      <td>1203789</td>\n",
       "      <td>1332650</td>\n",
       "      <td>1385108</td>\n",
       "      <td>1472654</td>\n",
       "      <td>None</td>\n",
       "      <td>None</td>\n",
       "      <td>Y</td>\n",
       "      <td>57.472148</td>\n",
       "      <td>2019-10-04</td>\n",
       "      <td>57253.861278</td>\n",
       "      <td>1.488522e+08</td>\n",
       "      <td>POLYGON ((-73.86567 40.90219, -73.86300 40.901...</td>\n",
       "    </tr>\n",
       "    <tr>\n",
       "      <th>3</th>\n",
       "      <td>Broome</td>\n",
       "      <td>BROO</td>\n",
       "      <td>974102</td>\n",
       "      <td>36007</td>\n",
       "      <td>030000</td>\n",
       "      <td>Central</td>\n",
       "      <td>212160</td>\n",
       "      <td>200536</td>\n",
       "      <td>200600</td>\n",
       "      <td>198683</td>\n",
       "      <td>None</td>\n",
       "      <td>None</td>\n",
       "      <td>N</td>\n",
       "      <td>715.287465</td>\n",
       "      <td>2019-04-26</td>\n",
       "      <td>227933.332021</td>\n",
       "      <td>1.852586e+09</td>\n",
       "      <td>POLYGON ((-75.86416 42.41554, -75.86379 42.413...</td>\n",
       "    </tr>\n",
       "    <tr>\n",
       "      <th>4</th>\n",
       "      <td>Cattaraugus</td>\n",
       "      <td>CATT</td>\n",
       "      <td>974103</td>\n",
       "      <td>36009</td>\n",
       "      <td>040000</td>\n",
       "      <td>West</td>\n",
       "      <td>84234</td>\n",
       "      <td>83955</td>\n",
       "      <td>80317</td>\n",
       "      <td>77042</td>\n",
       "      <td>None</td>\n",
       "      <td>None</td>\n",
       "      <td>N</td>\n",
       "      <td>1324.309219</td>\n",
       "      <td>2019-04-26</td>\n",
       "      <td>276084.505560</td>\n",
       "      <td>3.429945e+09</td>\n",
       "      <td>POLYGON ((-79.02148 42.53804, -79.01937 42.537...</td>\n",
       "    </tr>\n",
       "    <tr>\n",
       "      <th>...</th>\n",
       "      <td>...</td>\n",
       "      <td>...</td>\n",
       "      <td>...</td>\n",
       "      <td>...</td>\n",
       "      <td>...</td>\n",
       "      <td>...</td>\n",
       "      <td>...</td>\n",
       "      <td>...</td>\n",
       "      <td>...</td>\n",
       "      <td>...</td>\n",
       "      <td>...</td>\n",
       "      <td>...</td>\n",
       "      <td>...</td>\n",
       "      <td>...</td>\n",
       "      <td>...</td>\n",
       "      <td>...</td>\n",
       "      <td>...</td>\n",
       "      <td>...</td>\n",
       "    </tr>\n",
       "    <tr>\n",
       "      <th>57</th>\n",
       "      <td>Washington</td>\n",
       "      <td>WASH</td>\n",
       "      <td>974155</td>\n",
       "      <td>36115</td>\n",
       "      <td>530000</td>\n",
       "      <td>East</td>\n",
       "      <td>59330</td>\n",
       "      <td>61042</td>\n",
       "      <td>63216</td>\n",
       "      <td>61302</td>\n",
       "      <td>None</td>\n",
       "      <td>None</td>\n",
       "      <td>N</td>\n",
       "      <td>845.855708</td>\n",
       "      <td>2017-11-10</td>\n",
       "      <td>302358.996697</td>\n",
       "      <td>2.190756e+09</td>\n",
       "      <td>POLYGON ((-73.37718 43.79995, -73.37690 43.799...</td>\n",
       "    </tr>\n",
       "    <tr>\n",
       "      <th>58</th>\n",
       "      <td>Wayne</td>\n",
       "      <td>WAYN</td>\n",
       "      <td>974156</td>\n",
       "      <td>36117</td>\n",
       "      <td>540000</td>\n",
       "      <td>Central</td>\n",
       "      <td>89123</td>\n",
       "      <td>93765</td>\n",
       "      <td>93772</td>\n",
       "      <td>91283</td>\n",
       "      <td>None</td>\n",
       "      <td>None</td>\n",
       "      <td>N</td>\n",
       "      <td>1395.598959</td>\n",
       "      <td>2018-02-08</td>\n",
       "      <td>254972.219986</td>\n",
       "      <td>3.614585e+09</td>\n",
       "      <td>POLYGON ((-76.74696 43.69594, -76.72214 43.343...</td>\n",
       "    </tr>\n",
       "    <tr>\n",
       "      <th>59</th>\n",
       "      <td>Westchester</td>\n",
       "      <td>WEST</td>\n",
       "      <td>974157</td>\n",
       "      <td>36119</td>\n",
       "      <td>550000</td>\n",
       "      <td>East</td>\n",
       "      <td>874866</td>\n",
       "      <td>923459</td>\n",
       "      <td>949113</td>\n",
       "      <td>1004457</td>\n",
       "      <td>None</td>\n",
       "      <td>None</td>\n",
       "      <td>N</td>\n",
       "      <td>499.972897</td>\n",
       "      <td>2019-10-04</td>\n",
       "      <td>182997.677827</td>\n",
       "      <td>1.294924e+09</td>\n",
       "      <td>POLYGON ((-73.54795 41.31920, -73.54819 41.316...</td>\n",
       "    </tr>\n",
       "    <tr>\n",
       "      <th>60</th>\n",
       "      <td>Wyoming</td>\n",
       "      <td>WYOM</td>\n",
       "      <td>974158</td>\n",
       "      <td>36121</td>\n",
       "      <td>560000</td>\n",
       "      <td>West</td>\n",
       "      <td>42507</td>\n",
       "      <td>43424</td>\n",
       "      <td>42155</td>\n",
       "      <td>40531</td>\n",
       "      <td>None</td>\n",
       "      <td>None</td>\n",
       "      <td>N</td>\n",
       "      <td>596.822633</td>\n",
       "      <td>2018-09-20</td>\n",
       "      <td>176096.925232</td>\n",
       "      <td>1.545764e+09</td>\n",
       "      <td>POLYGON ((-78.36506 42.86886, -78.36497 42.868...</td>\n",
       "    </tr>\n",
       "    <tr>\n",
       "      <th>61</th>\n",
       "      <td>Yates</td>\n",
       "      <td>YATE</td>\n",
       "      <td>974159</td>\n",
       "      <td>36123</td>\n",
       "      <td>570000</td>\n",
       "      <td>Central</td>\n",
       "      <td>22810</td>\n",
       "      <td>24621</td>\n",
       "      <td>25348</td>\n",
       "      <td>24774</td>\n",
       "      <td>None</td>\n",
       "      <td>None</td>\n",
       "      <td>N</td>\n",
       "      <td>375.771539</td>\n",
       "      <td>2018-02-08</td>\n",
       "      <td>141535.638713</td>\n",
       "      <td>9.732438e+08</td>\n",
       "      <td>POLYGON ((-77.23283 42.76140, -77.23249 42.761...</td>\n",
       "    </tr>\n",
       "  </tbody>\n",
       "</table>\n",
       "<p>62 rows × 18 columns</p>\n",
       "</div>"
      ],
      "text/plain": [
       "           NAME ABBREV GNIS_ID FIPS_CODE    SWIS    NYSP_ZONE  POP1990  \\\n",
       "0        Albany   ALBA  974099     36001  010000         East   292594   \n",
       "1      Allegany   ALLE  974100     36003  020000         West    50470   \n",
       "2         Bronx   BRON  974101     36005  600000  Long Island  1203789   \n",
       "3        Broome   BROO  974102     36007  030000      Central   212160   \n",
       "4   Cattaraugus   CATT  974103     36009  040000         West    84234   \n",
       "..          ...    ...     ...       ...     ...          ...      ...   \n",
       "57   Washington   WASH  974155     36115  530000         East    59330   \n",
       "58        Wayne   WAYN  974156     36117  540000      Central    89123   \n",
       "59  Westchester   WEST  974157     36119  550000         East   874866   \n",
       "60      Wyoming   WYOM  974158     36121  560000         West    42507   \n",
       "61        Yates   YATE  974159     36123  570000      Central    22810   \n",
       "\n",
       "    POP2000  POP2010  POP2020 DOS_LL DOSLL_DATE NYC   CALC_SQ_MI     DATEMOD  \\\n",
       "0    294565   304204   314848   None       None   N   532.791779  2017-11-10   \n",
       "1     49927    48946    46456   None       None   N  1035.209131  2019-04-26   \n",
       "2   1332650  1385108  1472654   None       None   Y    57.472148  2019-10-04   \n",
       "3    200536   200600   198683   None       None   N   715.287465  2019-04-26   \n",
       "4     83955    80317    77042   None       None   N  1324.309219  2019-04-26   \n",
       "..      ...      ...      ...    ...        ...  ..          ...         ...   \n",
       "57    61042    63216    61302   None       None   N   845.855708  2017-11-10   \n",
       "58    93765    93772    91283   None       None   N  1395.598959  2018-02-08   \n",
       "59   923459   949113  1004457   None       None   N   499.972897  2019-10-04   \n",
       "60    43424    42155    40531   None       None   N   596.822633  2018-09-20   \n",
       "61    24621    25348    24774   None       None   N   375.771539  2018-02-08   \n",
       "\n",
       "       Shape_Leng    Shape_Area  \\\n",
       "0   166077.834242  1.379924e+09   \n",
       "1   210499.339279  2.681179e+09   \n",
       "2    57253.861278  1.488522e+08   \n",
       "3   227933.332021  1.852586e+09   \n",
       "4   276084.505560  3.429945e+09   \n",
       "..            ...           ...   \n",
       "57  302358.996697  2.190756e+09   \n",
       "58  254972.219986  3.614585e+09   \n",
       "59  182997.677827  1.294924e+09   \n",
       "60  176096.925232  1.545764e+09   \n",
       "61  141535.638713  9.732438e+08   \n",
       "\n",
       "                                             geometry  \n",
       "0   POLYGON ((-73.70733 42.78605, -73.70397 42.783...  \n",
       "1   POLYGON ((-78.29218 42.52140, -78.29047 42.521...  \n",
       "2   POLYGON ((-73.86567 40.90219, -73.86300 40.901...  \n",
       "3   POLYGON ((-75.86416 42.41554, -75.86379 42.413...  \n",
       "4   POLYGON ((-79.02148 42.53804, -79.01937 42.537...  \n",
       "..                                                ...  \n",
       "57  POLYGON ((-73.37718 43.79995, -73.37690 43.799...  \n",
       "58  POLYGON ((-76.74696 43.69594, -76.72214 43.343...  \n",
       "59  POLYGON ((-73.54795 41.31920, -73.54819 41.316...  \n",
       "60  POLYGON ((-78.36506 42.86886, -78.36497 42.868...  \n",
       "61  POLYGON ((-77.23283 42.76140, -77.23249 42.761...  \n",
       "\n",
       "[62 rows x 18 columns]"
      ]
     },
     "execution_count": 5,
     "metadata": {},
     "output_type": "execute_result"
    }
   ],
   "source": [
    "counties"
   ]
  },
  {
   "cell_type": "code",
   "execution_count": 6,
   "id": "386fbc3e-a1a8-40a6-9e14-4aa5a7f08031",
   "metadata": {},
   "outputs": [
    {
     "data": {
      "text/plain": [
       "geopandas.geoseries.GeoSeries"
      ]
     },
     "execution_count": 6,
     "metadata": {},
     "output_type": "execute_result"
    }
   ],
   "source": [
    "ny = counties[counties.loc[:, \"NAME\"]==\"New York\"].loc[:, \"geometry\"]\n",
    "type(ny)"
   ]
  },
  {
   "cell_type": "code",
   "execution_count": 7,
   "id": "3175d382-8d09-41b7-8e95-d4f83b3f5280",
   "metadata": {},
   "outputs": [
    {
     "data": {
      "image/png": "[encoded data removed]",
      "text/plain": [
       "<Figure size 1728x1152 with 1 Axes>"
      ]
     },
     "metadata": {
      "needs_background": "light"
     },
     "output_type": "display_data"
    }
   ],
   "source": [
    "ny.plot(figsize=(24,16));"
   ]
  },
  {
   "cell_type": "code",
   "execution_count": null,
   "id": "59cbae6e-6a8f-446f-b7b5-70e2e5ec787c",
   "metadata": {},
   "outputs": [],
   "source": []
  },
  {
   "cell_type": "code",
   "execution_count": 8,
   "id": "16482120-3783-41f2-9bdc-85ae9b5a1990",
   "metadata": {},
   "outputs": [
    {
     "data": {
      "text/plain": [
       "30    False\n",
       "dtype: bool"
      ]
     },
     "execution_count": 8,
     "metadata": {},
     "output_type": "execute_result"
    }
   ],
   "source": [
    "ny.contains(Point(40.750,-74))"
   ]
  },
  {
   "cell_type": "code",
   "execution_count": 9,
   "id": "1b104684-0c98-41f9-b79c-a3dc885385fd",
   "metadata": {},
   "outputs": [],
   "source": [
    "img_dir = \"../data/images/\"\n",
    "data_dir = \"../data/\"\n",
    "from scipy.io import loadmat\n",
    "coordinates = loadmat(data_dir + \"GPS_Long_Lat_Compass.mat\")[\"GPS_Compass\"] # Coordinates. Each coordinate corresponds to 6 pictures\n"
   ]
  },
  {
   "cell_type": "code",
   "execution_count": 10,
   "id": "03a7c139-976a-4421-a645-0d378ae46e05",
   "metadata": {},
   "outputs": [
    {
     "data": {
      "text/plain": [
       "numpy.float64"
      ]
     },
     "execution_count": 10,
     "metadata": {},
     "output_type": "execute_result"
    }
   ],
   "source": [
    "type(coordinates[0][0])"
   ]
  },
  {
   "cell_type": "code",
   "execution_count": 11,
   "id": "abca5815-c767-4584-bb1a-bda83aa6e19c",
   "metadata": {},
   "outputs": [],
   "source": [
    "coordinates = [Point(c[1], c[0]) for c in coordinates]"
   ]
  },
  {
   "cell_type": "code",
   "execution_count": 12,
   "id": "f808b653-2146-4ca7-a947-4063a6d7f6ed",
   "metadata": {},
   "outputs": [],
   "source": [
    "coordinates_gpd = gpd.GeoDataFrame(geometry=coordinates)"
   ]
  },
  {
   "cell_type": "code",
   "execution_count": 13,
   "id": "a3d185e0-b598-4631-9846-e03e159c860f",
   "metadata": {},
   "outputs": [
    {
     "data": {
      "text/html": [
       "<div>\n",
       "<style scoped>\n",
       "    .dataframe tbody tr th:only-of-type {\n",
       "        vertical-align: middle;\n",
       "    }\n",
       "\n",
       "    .dataframe tbody tr th {\n",
       "        vertical-align: top;\n",
       "    }\n",
       "\n",
       "    .dataframe thead th {\n",
       "        text-align: right;\n",
       "    }\n",
       "</style>\n",
       "<table border=\"1\" class=\"dataframe\">\n",
       "  <thead>\n",
       "    <tr style=\"text-align: right;\">\n",
       "      <th></th>\n",
       "      <th>geometry</th>\n",
       "    </tr>\n",
       "  </thead>\n",
       "  <tbody>\n",
       "    <tr>\n",
       "      <th>0</th>\n",
       "      <td>POINT (-80.00000 40.44031)</td>\n",
       "    </tr>\n",
       "    <tr>\n",
       "      <th>1</th>\n",
       "      <td>POINT (-80.00680 40.44027)</td>\n",
       "    </tr>\n",
       "    <tr>\n",
       "      <th>2</th>\n",
       "      <td>POINT (-80.00670 40.44023)</td>\n",
       "    </tr>\n",
       "    <tr>\n",
       "      <th>3</th>\n",
       "      <td>POINT (-80.00660 40.44019)</td>\n",
       "    </tr>\n",
       "    <tr>\n",
       "      <th>4</th>\n",
       "      <td>POINT (-80.00650 40.44015)</td>\n",
       "    </tr>\n",
       "    <tr>\n",
       "      <th>...</th>\n",
       "      <td>...</td>\n",
       "    </tr>\n",
       "    <tr>\n",
       "      <th>10338</th>\n",
       "      <td>POINT (-74.00172 40.73055)</td>\n",
       "    </tr>\n",
       "    <tr>\n",
       "      <th>10339</th>\n",
       "      <td>POINT (-74.00160 40.73075)</td>\n",
       "    </tr>\n",
       "    <tr>\n",
       "      <th>10340</th>\n",
       "      <td>POINT (-74.00154 40.73085)</td>\n",
       "    </tr>\n",
       "    <tr>\n",
       "      <th>10341</th>\n",
       "      <td>POINT (-74.00149 40.73093)</td>\n",
       "    </tr>\n",
       "    <tr>\n",
       "      <th>10342</th>\n",
       "      <td>POINT (-74.00142 40.73105)</td>\n",
       "    </tr>\n",
       "  </tbody>\n",
       "</table>\n",
       "<p>10343 rows × 1 columns</p>\n",
       "</div>"
      ],
      "text/plain": [
       "                         geometry\n",
       "0      POINT (-80.00000 40.44031)\n",
       "1      POINT (-80.00680 40.44027)\n",
       "2      POINT (-80.00670 40.44023)\n",
       "3      POINT (-80.00660 40.44019)\n",
       "4      POINT (-80.00650 40.44015)\n",
       "...                           ...\n",
       "10338  POINT (-74.00172 40.73055)\n",
       "10339  POINT (-74.00160 40.73075)\n",
       "10340  POINT (-74.00154 40.73085)\n",
       "10341  POINT (-74.00149 40.73093)\n",
       "10342  POINT (-74.00142 40.73105)\n",
       "\n",
       "[10343 rows x 1 columns]"
      ]
     },
     "execution_count": 13,
     "metadata": {},
     "output_type": "execute_result"
    }
   ],
   "source": [
    "coordinates_gpd"
   ]
  },
  {
   "cell_type": "code",
   "execution_count": 14,
   "id": "7bd72aae-4ca7-4f4c-a0f2-be4f915916d9",
   "metadata": {},
   "outputs": [],
   "source": [
    "import torch\n",
    "import torchvision\n",
    "import torchvision.transforms as transforms\n",
    "from sklearn.model_selection import train_test_split\n",
    "from scipy.io import loadmat\n",
    "import reverse_geocoder\n",
    "from os import listdir\n",
    "from os.path import isfile, join"
   ]
  },
  {
   "cell_type": "code",
   "execution_count": 15,
   "id": "3ccbe298-6e50-40ce-bf42-8ae9fafe3bf2",
   "metadata": {},
   "outputs": [],
   "source": [
    "### Returns an array of True/False if the coordinate is in a given state\n",
    "### coordinates: An array of coordinates\n",
    "### state: Full name of the state. ex= \"New York\"\n",
    "def get_coordinates_in_state(coordinates, state):\n",
    "    coords = [(lat,long) for lat,long,ele in coordinates]\n",
    "    results = reverse_geocoder.search(coords, mode=2)\n",
    "    state = [x['admin1']==state for x in results]\n",
    "    return state"
   ]
  },
  {
   "cell_type": "code",
   "execution_count": 16,
   "id": "deeafb07-bd0b-4fbe-879c-e6eeb3ea6558",
   "metadata": {},
   "outputs": [
    {
     "name": "stdout",
     "output_type": "stream",
     "text": [
      "Loading formatted geocoded file...\n"
     ]
    },
    {
     "data": {
      "text/plain": [
       "[False, False, False, False, False]"
      ]
     },
     "execution_count": 16,
     "metadata": {},
     "output_type": "execute_result"
    }
   ],
   "source": [
    "img_dir = \"../data/images/\"\n",
    "data_dir = \"../data/\"\n",
    "img_files = [f for f in listdir(img_dir) if isfile(join(img_dir, f))] # Names of all images in the folder\n",
    "coordinates = loadmat(data_dir + \"GPS_Long_Lat_Compass.mat\")[\"GPS_Compass\"] # Coordinates. Each coordinate corresponds to 6 pictures\n",
    "in_ny = get_coordinates_in_state(coordinates=coordinates, state=\"New York\") # All coordinates in NY\n",
    "in_ny[:5]"
   ]
  },
  {
   "cell_type": "code",
   "execution_count": 17,
   "id": "e1da816c-2aa9-471c-aa30-750c30b4d05c",
   "metadata": {},
   "outputs": [],
   "source": [
    "ny_coords = [coordinates[x] for x in range(len(in_ny)) if in_ny[x]]\n",
    "coordinates = [Point(c[1], c[0]) for c in ny_coords]"
   ]
  },
  {
   "cell_type": "code",
   "execution_count": 18,
   "id": "a5053526-9b3c-450e-9b58-c31f43e08bf0",
   "metadata": {},
   "outputs": [
    {
     "data": {
      "text/plain": [
       "4731"
      ]
     },
     "execution_count": 18,
     "metadata": {},
     "output_type": "execute_result"
    }
   ],
   "source": [
    "len(ny_coords)"
   ]
  },
  {
   "cell_type": "code",
   "execution_count": 19,
   "id": "a810050a-5db0-4d47-aad3-abac99d2b0b8",
   "metadata": {},
   "outputs": [],
   "source": [
    "ny_coordinates_gpd = gpd.GeoDataFrame(geometry=coordinates)"
   ]
  },
  {
   "cell_type": "code",
   "execution_count": 20,
   "id": "e917e97c-04e5-4c78-8172-84c9f01c8244",
   "metadata": {},
   "outputs": [
    {
     "data": {
      "text/plain": [
       "<AxesSubplot:>"
      ]
     },
     "execution_count": 20,
     "metadata": {},
     "output_type": "execute_result"
    },
    {
     "data": {
      "image/png": "[encoded data removed]",
      "text/plain": [
       "<Figure size 1152x1152 with 1 Axes>"
      ]
     },
     "metadata": {
      "needs_background": "light"
     },
     "output_type": "display_data"
    }
   ],
   "source": [
    "import matplotlib.pyplot as plt\n",
    "ax = ny.plot(color='lightgrey',figsize=(16,16))\n",
    "ny_coordinates_gpd.loc[:,'geometry'].plot(ax=ax)"
   ]
  },
  {
   "cell_type": "code",
   "execution_count": 21,
   "id": "d8dbf185-1bad-47c3-b8dd-848cd63fdc83",
   "metadata": {},
   "outputs": [
    {
     "name": "stdout",
     "output_type": "stream",
     "text": [
      "         minx       miny       maxx       maxy\n",
      "30 -74.047207  40.679654 -73.906769  40.882012\n"
     ]
    },
    {
     "data": {
      "text/plain": [
       "[array([-74.0472072 ,  40.67965408, -73.90676928,  40.88201247])]"
      ]
     },
     "execution_count": 21,
     "metadata": {},
     "output_type": "execute_result"
    }
   ],
   "source": [
    "bounds = ny.bounds\n",
    "print(bounds)\n",
    "list(bounds.values)"
   ]
  },
  {
   "cell_type": "code",
   "execution_count": 22,
   "id": "b62f60a5-3119-41f9-bfe2-903ae0cf3de1",
   "metadata": {},
   "outputs": [],
   "source": [
    "import pickle\n",
    "\n",
    "pickle.dump(ny, open(\"ny.pkl\",\"wb\"))"
   ]
  },
  {
   "cell_type": "code",
   "execution_count": 23,
   "id": "9efba548-1a58-4715-95e4-218323d25dc4",
   "metadata": {},
   "outputs": [],
   "source": [
    "import shapely\n",
    "import gmaps\n",
    "from shapely.geometry import Point, Polygon, box\n",
    "from matplotlib import pyplot as plt\n",
    "import numpy as np\n",
    "import pickle"
   ]
  },
  {
   "cell_type": "code",
   "execution_count": 24,
   "id": "b2fd4f14-3930-4301-8d76-fae3cf0357df",
   "metadata": {},
   "outputs": [
    {
     "data": {
      "text/html": [
       "<div>\n",
       "<style scoped>\n",
       "    .dataframe tbody tr th:only-of-type {\n",
       "        vertical-align: middle;\n",
       "    }\n",
       "\n",
       "    .dataframe tbody tr th {\n",
       "        vertical-align: top;\n",
       "    }\n",
       "\n",
       "    .dataframe thead th {\n",
       "        text-align: right;\n",
       "    }\n",
       "</style>\n",
       "<table border=\"1\" class=\"dataframe\">\n",
       "  <thead>\n",
       "    <tr style=\"text-align: right;\">\n",
       "      <th></th>\n",
       "      <th>geometry</th>\n",
       "    </tr>\n",
       "  </thead>\n",
       "  <tbody>\n",
       "    <tr>\n",
       "      <th>0</th>\n",
       "      <td>POINT (-73.97108 40.74847)</td>\n",
       "    </tr>\n",
       "    <tr>\n",
       "      <th>1</th>\n",
       "      <td>POINT (-73.97120 40.74852)</td>\n",
       "    </tr>\n",
       "    <tr>\n",
       "      <th>2</th>\n",
       "      <td>POINT (-73.97131 40.74857)</td>\n",
       "    </tr>\n",
       "    <tr>\n",
       "      <th>3</th>\n",
       "      <td>POINT (-73.97141 40.74861)</td>\n",
       "    </tr>\n",
       "    <tr>\n",
       "      <th>4</th>\n",
       "      <td>POINT (-73.97152 40.74866)</td>\n",
       "    </tr>\n",
       "    <tr>\n",
       "      <th>...</th>\n",
       "      <td>...</td>\n",
       "    </tr>\n",
       "    <tr>\n",
       "      <th>4726</th>\n",
       "      <td>POINT (-74.00172 40.73055)</td>\n",
       "    </tr>\n",
       "    <tr>\n",
       "      <th>4727</th>\n",
       "      <td>POINT (-74.00160 40.73075)</td>\n",
       "    </tr>\n",
       "    <tr>\n",
       "      <th>4728</th>\n",
       "      <td>POINT (-74.00154 40.73085)</td>\n",
       "    </tr>\n",
       "    <tr>\n",
       "      <th>4729</th>\n",
       "      <td>POINT (-74.00149 40.73093)</td>\n",
       "    </tr>\n",
       "    <tr>\n",
       "      <th>4730</th>\n",
       "      <td>POINT (-74.00142 40.73105)</td>\n",
       "    </tr>\n",
       "  </tbody>\n",
       "</table>\n",
       "<p>4731 rows × 1 columns</p>\n",
       "</div>"
      ],
      "text/plain": [
       "                        geometry\n",
       "0     POINT (-73.97108 40.74847)\n",
       "1     POINT (-73.97120 40.74852)\n",
       "2     POINT (-73.97131 40.74857)\n",
       "3     POINT (-73.97141 40.74861)\n",
       "4     POINT (-73.97152 40.74866)\n",
       "...                          ...\n",
       "4726  POINT (-74.00172 40.73055)\n",
       "4727  POINT (-74.00160 40.73075)\n",
       "4728  POINT (-74.00154 40.73085)\n",
       "4729  POINT (-74.00149 40.73093)\n",
       "4730  POINT (-74.00142 40.73105)\n",
       "\n",
       "[4731 rows x 1 columns]"
      ]
     },
     "execution_count": 24,
     "metadata": {},
     "output_type": "execute_result"
    }
   ],
   "source": [
    "ny_coordinates_gpd"
   ]
  },
  {
   "cell_type": "code",
   "execution_count": 39,
   "id": "3f76ab4b-791c-4e50-a075-9ae53efbb89f",
   "metadata": {},
   "outputs": [],
   "source": [
    "# total area for the grid\n",
    "xmin, ymin, xmax, ymax= ny.total_bounds\n",
    "\n",
    "# how many cells across and down\n",
    "n_cells=50\n",
    "cell_size = (xmax-xmin)/n_cells\n",
    "# projection of the grid\n",
    "crs = \"+proj=sinu +lon_0=0 +x_0=0 +y_0=0 +a=6371007.181 +b=6371007.181 +units=m +no_defs\"\n",
    "# create the cells in a loop\n",
    "grid_cells = []\n",
    "for x0 in np.arange(xmin, xmax+cell_size, cell_size ):\n",
    "    for y0 in np.arange(ymin, ymax+cell_size, cell_size):\n",
    "        # bounds\n",
    "        x1 = x0-cell_size\n",
    "        y1 = y0+cell_size\n",
    "        grid_cells.append( shapely.geometry.box(x0, y0, x1, y1)  )\n",
    "cell = gpd.GeoDataFrame(grid_cells, columns=['geometry'], \n",
    "                                 crs=crs)"
   ]
  },
  {
   "cell_type": "code",
   "execution_count": 40,
   "id": "66f9e2c6-d158-4854-83e5-1b48274480fa",
   "metadata": {},
   "outputs": [
    {
     "data": {
      "text/plain": [
       "<AxesSubplot:>"
      ]
     },
     "execution_count": 40,
     "metadata": {},
     "output_type": "execute_result"
    },
    {
     "data": {
      "image/png": "[encoded data removed]",
      "text/plain": [
       "<Figure size 1152x1152 with 1 Axes>"
      ]
     },
     "metadata": {
      "needs_background": "light"
     },
     "output_type": "display_data"
    }
   ],
   "source": [
    "import matplotlib.pyplot as plt\n",
    "ax = ny.plot(color='lightgrey',figsize=(16,16))\n",
    "ny_coordinates_gpd.loc[:,'geometry'].plot(ax=ax)\n",
    "cell.plot(ax=ax, facecolor=\"none\", edgecolor='grey')"
   ]
  },
  {
   "cell_type": "code",
   "execution_count": null,
   "id": "0881e499-1d0e-4330-83e7-db224c48720f",
   "metadata": {},
   "outputs": [],
   "source": []
  }
 ],
 "metadata": {
  "kernelspec": {
   "display_name": "Python 3 (ipykernel)",
   "language": "python",
   "name": "python3"
  },
  "language_info": {
   "codemirror_mode": {
    "name": "ipython",
    "version": 3
   },
   "file_extension": ".py",
   "mimetype": "text/x-python",
   "name": "python",
   "nbconvert_exporter": "python",
   "pygments_lexer": "ipython3",
   "version": "3.8.8"
  }
 },
 "nbformat": 4,
 "nbformat_minor": 5
}
