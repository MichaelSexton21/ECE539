{
 "cells": [
  {
   "cell_type": "code",
   "execution_count": 1,
   "id": "65f20aea-8e27-432c-bd9f-e7472f7dcf95",
   "metadata": {},
   "outputs": [],
   "source": [
    "import pandas as pd  # provides interface for interacting with tabular data\n",
    "import geopandas as gpd  # combines the capabilities of pandas and shapely for geospatial operations\n",
    "from shapely.geometry import Point, Polygon, MultiPolygon  # for manipulating text data into geospatial shapes\n",
    "from shapely import wkt  # stands for \"well known text,\" allows for interchange across GIS programs\n",
    "import rtree  # supports geospatial join\n",
    "data = \"../data/NYS_Civil_Boundaries.shp/Counties.shp\"\n",
    "directory = \"../data/NYS_Civil_Boundaries.shp/\"\n",
    "counties = gpd.read_file(data)\n",
    "counties = counties.to_crs(epsg=4326)"
   ]
  },
  {
   "cell_type": "code",
   "execution_count": 4,
   "id": "8fb60d95-0ba1-4418-81e6-c4f1a52ce0e1",
   "metadata": {},
   "outputs": [
    {
     "data": {
      "text/plain": [
       "{'NAME': 'New York',\n",
       " 'ABBREV': 'NEWY',\n",
       " 'GNIS_ID': '974129',\n",
       " 'FIPS_CODE': '36061',\n",
       " 'SWIS': '620000',\n",
       " 'NYSP_ZONE': 'Long Island',\n",
       " 'POP1990': 1487536,\n",
       " 'POP2000': 1537195,\n",
       " 'POP2010': 1585873,\n",
       " 'POP2020': 1694251,\n",
       " 'DOS_LL': '',\n",
       " 'DOSLL_DATE': None,\n",
       " 'NYC': 'Y',\n",
       " 'CALC_SQ_MI': 33.7256341566,\n",
       " 'DATEMOD': datetime.date(2019, 10, 4),\n",
       " 'Shape_Leng': 60023.6142347,\n",
       " 'Shape_Area': 87348991.4677}"
      ]
     },
     "execution_count": 4,
     "metadata": {},
     "output_type": "execute_result"
    }
   ],
   "source": [
    "ny"
   ]
  },
  {
   "cell_type": "code",
   "execution_count": 5,
   "id": "42e0e443-a34d-49e6-9ced-9813507b88de",
   "metadata": {},
   "outputs": [
    {
     "data": {
      "text/html": [
       "<div>\n",
       "<style scoped>\n",
       "    .dataframe tbody tr th:only-of-type {\n",
       "        vertical-align: middle;\n",
       "    }\n",
       "\n",
       "    .dataframe tbody tr th {\n",
       "        vertical-align: top;\n",
       "    }\n",
       "\n",
       "    .dataframe thead th {\n",
       "        text-align: right;\n",
       "    }\n",
       "</style>\n",
       "<table border=\"1\" class=\"dataframe\">\n",
       "  <thead>\n",
       "    <tr style=\"text-align: right;\">\n",
       "      <th></th>\n",
       "      <th>NAME</th>\n",
       "      <th>ABBREV</th>\n",
       "      <th>GNIS_ID</th>\n",
       "      <th>FIPS_CODE</th>\n",
       "      <th>SWIS</th>\n",
       "      <th>NYSP_ZONE</th>\n",
       "      <th>POP1990</th>\n",
       "      <th>POP2000</th>\n",
       "      <th>POP2010</th>\n",
       "      <th>POP2020</th>\n",
       "      <th>DOS_LL</th>\n",
       "      <th>DOSLL_DATE</th>\n",
       "      <th>NYC</th>\n",
       "      <th>CALC_SQ_MI</th>\n",
       "      <th>DATEMOD</th>\n",
       "      <th>Shape_Leng</th>\n",
       "      <th>Shape_Area</th>\n",
       "      <th>geometry</th>\n",
       "    </tr>\n",
       "  </thead>\n",
       "  <tbody>\n",
       "    <tr>\n",
       "      <th>0</th>\n",
       "      <td>Albany</td>\n",
       "      <td>ALBA</td>\n",
       "      <td>974099</td>\n",
       "      <td>36001</td>\n",
       "      <td>010000</td>\n",
       "      <td>East</td>\n",
       "      <td>292594</td>\n",
       "      <td>294565</td>\n",
       "      <td>304204</td>\n",
       "      <td>314848</td>\n",
       "      <td>None</td>\n",
       "      <td>None</td>\n",
       "      <td>N</td>\n",
       "      <td>532.791779</td>\n",
       "      <td>2017-11-10</td>\n",
       "      <td>166077.834242</td>\n",
       "      <td>1.379924e+09</td>\n",
       "      <td>POLYGON ((-73.70733 42.78605, -73.70397 42.783...</td>\n",
       "    </tr>\n",
       "    <tr>\n",
       "      <th>1</th>\n",
       "      <td>Allegany</td>\n",
       "      <td>ALLE</td>\n",
       "      <td>974100</td>\n",
       "      <td>36003</td>\n",
       "      <td>020000</td>\n",
       "      <td>West</td>\n",
       "      <td>50470</td>\n",
       "      <td>49927</td>\n",
       "      <td>48946</td>\n",
       "      <td>46456</td>\n",
       "      <td>None</td>\n",
       "      <td>None</td>\n",
       "      <td>N</td>\n",
       "      <td>1035.209131</td>\n",
       "      <td>2019-04-26</td>\n",
       "      <td>210499.339279</td>\n",
       "      <td>2.681179e+09</td>\n",
       "      <td>POLYGON ((-78.29218 42.52139, -78.29047 42.521...</td>\n",
       "    </tr>\n",
       "    <tr>\n",
       "      <th>2</th>\n",
       "      <td>Bronx</td>\n",
       "      <td>BRON</td>\n",
       "      <td>974101</td>\n",
       "      <td>36005</td>\n",
       "      <td>600000</td>\n",
       "      <td>Long Island</td>\n",
       "      <td>1203789</td>\n",
       "      <td>1332650</td>\n",
       "      <td>1385108</td>\n",
       "      <td>1472654</td>\n",
       "      <td>None</td>\n",
       "      <td>None</td>\n",
       "      <td>Y</td>\n",
       "      <td>57.472148</td>\n",
       "      <td>2019-10-04</td>\n",
       "      <td>57253.861278</td>\n",
       "      <td>1.488522e+08</td>\n",
       "      <td>POLYGON ((-73.86567 40.90219, -73.86300 40.901...</td>\n",
       "    </tr>\n",
       "    <tr>\n",
       "      <th>3</th>\n",
       "      <td>Broome</td>\n",
       "      <td>BROO</td>\n",
       "      <td>974102</td>\n",
       "      <td>36007</td>\n",
       "      <td>030000</td>\n",
       "      <td>Central</td>\n",
       "      <td>212160</td>\n",
       "      <td>200536</td>\n",
       "      <td>200600</td>\n",
       "      <td>198683</td>\n",
       "      <td>None</td>\n",
       "      <td>None</td>\n",
       "      <td>N</td>\n",
       "      <td>715.287465</td>\n",
       "      <td>2019-04-26</td>\n",
       "      <td>227933.332021</td>\n",
       "      <td>1.852586e+09</td>\n",
       "      <td>POLYGON ((-75.86416 42.41554, -75.86379 42.413...</td>\n",
       "    </tr>\n",
       "    <tr>\n",
       "      <th>4</th>\n",
       "      <td>Cattaraugus</td>\n",
       "      <td>CATT</td>\n",
       "      <td>974103</td>\n",
       "      <td>36009</td>\n",
       "      <td>040000</td>\n",
       "      <td>West</td>\n",
       "      <td>84234</td>\n",
       "      <td>83955</td>\n",
       "      <td>80317</td>\n",
       "      <td>77042</td>\n",
       "      <td>None</td>\n",
       "      <td>None</td>\n",
       "      <td>N</td>\n",
       "      <td>1324.309219</td>\n",
       "      <td>2019-04-26</td>\n",
       "      <td>276084.505560</td>\n",
       "      <td>3.429945e+09</td>\n",
       "      <td>POLYGON ((-79.02148 42.53803, -79.01937 42.537...</td>\n",
       "    </tr>\n",
       "    <tr>\n",
       "      <th>...</th>\n",
       "      <td>...</td>\n",
       "      <td>...</td>\n",
       "      <td>...</td>\n",
       "      <td>...</td>\n",
       "      <td>...</td>\n",
       "      <td>...</td>\n",
       "      <td>...</td>\n",
       "      <td>...</td>\n",
       "      <td>...</td>\n",
       "      <td>...</td>\n",
       "      <td>...</td>\n",
       "      <td>...</td>\n",
       "      <td>...</td>\n",
       "      <td>...</td>\n",
       "      <td>...</td>\n",
       "      <td>...</td>\n",
       "      <td>...</td>\n",
       "      <td>...</td>\n",
       "    </tr>\n",
       "    <tr>\n",
       "      <th>57</th>\n",
       "      <td>Washington</td>\n",
       "      <td>WASH</td>\n",
       "      <td>974155</td>\n",
       "      <td>36115</td>\n",
       "      <td>530000</td>\n",
       "      <td>East</td>\n",
       "      <td>59330</td>\n",
       "      <td>61042</td>\n",
       "      <td>63216</td>\n",
       "      <td>61302</td>\n",
       "      <td>None</td>\n",
       "      <td>None</td>\n",
       "      <td>N</td>\n",
       "      <td>845.855708</td>\n",
       "      <td>2017-11-10</td>\n",
       "      <td>302358.996697</td>\n",
       "      <td>2.190756e+09</td>\n",
       "      <td>POLYGON ((-73.37718 43.79995, -73.37690 43.799...</td>\n",
       "    </tr>\n",
       "    <tr>\n",
       "      <th>58</th>\n",
       "      <td>Wayne</td>\n",
       "      <td>WAYN</td>\n",
       "      <td>974156</td>\n",
       "      <td>36117</td>\n",
       "      <td>540000</td>\n",
       "      <td>Central</td>\n",
       "      <td>89123</td>\n",
       "      <td>93765</td>\n",
       "      <td>93772</td>\n",
       "      <td>91283</td>\n",
       "      <td>None</td>\n",
       "      <td>None</td>\n",
       "      <td>N</td>\n",
       "      <td>1395.598959</td>\n",
       "      <td>2018-02-08</td>\n",
       "      <td>254972.219986</td>\n",
       "      <td>3.614585e+09</td>\n",
       "      <td>POLYGON ((-76.74696 43.69594, -76.72214 43.343...</td>\n",
       "    </tr>\n",
       "    <tr>\n",
       "      <th>59</th>\n",
       "      <td>Westchester</td>\n",
       "      <td>WEST</td>\n",
       "      <td>974157</td>\n",
       "      <td>36119</td>\n",
       "      <td>550000</td>\n",
       "      <td>East</td>\n",
       "      <td>874866</td>\n",
       "      <td>923459</td>\n",
       "      <td>949113</td>\n",
       "      <td>1004457</td>\n",
       "      <td>None</td>\n",
       "      <td>None</td>\n",
       "      <td>N</td>\n",
       "      <td>499.972897</td>\n",
       "      <td>2019-10-04</td>\n",
       "      <td>182997.677827</td>\n",
       "      <td>1.294924e+09</td>\n",
       "      <td>POLYGON ((-73.54795 41.31920, -73.54819 41.316...</td>\n",
       "    </tr>\n",
       "    <tr>\n",
       "      <th>60</th>\n",
       "      <td>Wyoming</td>\n",
       "      <td>WYOM</td>\n",
       "      <td>974158</td>\n",
       "      <td>36121</td>\n",
       "      <td>560000</td>\n",
       "      <td>West</td>\n",
       "      <td>42507</td>\n",
       "      <td>43424</td>\n",
       "      <td>42155</td>\n",
       "      <td>40531</td>\n",
       "      <td>None</td>\n",
       "      <td>None</td>\n",
       "      <td>N</td>\n",
       "      <td>596.822633</td>\n",
       "      <td>2018-09-20</td>\n",
       "      <td>176096.925232</td>\n",
       "      <td>1.545764e+09</td>\n",
       "      <td>POLYGON ((-78.36506 42.86885, -78.36497 42.868...</td>\n",
       "    </tr>\n",
       "    <tr>\n",
       "      <th>61</th>\n",
       "      <td>Yates</td>\n",
       "      <td>YATE</td>\n",
       "      <td>974159</td>\n",
       "      <td>36123</td>\n",
       "      <td>570000</td>\n",
       "      <td>Central</td>\n",
       "      <td>22810</td>\n",
       "      <td>24621</td>\n",
       "      <td>25348</td>\n",
       "      <td>24774</td>\n",
       "      <td>None</td>\n",
       "      <td>None</td>\n",
       "      <td>N</td>\n",
       "      <td>375.771539</td>\n",
       "      <td>2018-02-08</td>\n",
       "      <td>141535.638713</td>\n",
       "      <td>9.732438e+08</td>\n",
       "      <td>POLYGON ((-77.23283 42.76140, -77.23249 42.761...</td>\n",
       "    </tr>\n",
       "  </tbody>\n",
       "</table>\n",
       "<p>62 rows × 18 columns</p>\n",
       "</div>"
      ],
      "text/plain": [
       "           NAME ABBREV GNIS_ID FIPS_CODE    SWIS    NYSP_ZONE  POP1990  \\\n",
       "0        Albany   ALBA  974099     36001  010000         East   292594   \n",
       "1      Allegany   ALLE  974100     36003  020000         West    50470   \n",
       "2         Bronx   BRON  974101     36005  600000  Long Island  1203789   \n",
       "3        Broome   BROO  974102     36007  030000      Central   212160   \n",
       "4   Cattaraugus   CATT  974103     36009  040000         West    84234   \n",
       "..          ...    ...     ...       ...     ...          ...      ...   \n",
       "57   Washington   WASH  974155     36115  530000         East    59330   \n",
       "58        Wayne   WAYN  974156     36117  540000      Central    89123   \n",
       "59  Westchester   WEST  974157     36119  550000         East   874866   \n",
       "60      Wyoming   WYOM  974158     36121  560000         West    42507   \n",
       "61        Yates   YATE  974159     36123  570000      Central    22810   \n",
       "\n",
       "    POP2000  POP2010  POP2020 DOS_LL DOSLL_DATE NYC   CALC_SQ_MI     DATEMOD  \\\n",
       "0    294565   304204   314848   None       None   N   532.791779  2017-11-10   \n",
       "1     49927    48946    46456   None       None   N  1035.209131  2019-04-26   \n",
       "2   1332650  1385108  1472654   None       None   Y    57.472148  2019-10-04   \n",
       "3    200536   200600   198683   None       None   N   715.287465  2019-04-26   \n",
       "4     83955    80317    77042   None       None   N  1324.309219  2019-04-26   \n",
       "..      ...      ...      ...    ...        ...  ..          ...         ...   \n",
       "57    61042    63216    61302   None       None   N   845.855708  2017-11-10   \n",
       "58    93765    93772    91283   None       None   N  1395.598959  2018-02-08   \n",
       "59   923459   949113  1004457   None       None   N   499.972897  2019-10-04   \n",
       "60    43424    42155    40531   None       None   N   596.822633  2018-09-20   \n",
       "61    24621    25348    24774   None       None   N   375.771539  2018-02-08   \n",
       "\n",
       "       Shape_Leng    Shape_Area  \\\n",
       "0   166077.834242  1.379924e+09   \n",
       "1   210499.339279  2.681179e+09   \n",
       "2    57253.861278  1.488522e+08   \n",
       "3   227933.332021  1.852586e+09   \n",
       "4   276084.505560  3.429945e+09   \n",
       "..            ...           ...   \n",
       "57  302358.996697  2.190756e+09   \n",
       "58  254972.219986  3.614585e+09   \n",
       "59  182997.677827  1.294924e+09   \n",
       "60  176096.925232  1.545764e+09   \n",
       "61  141535.638713  9.732438e+08   \n",
       "\n",
       "                                             geometry  \n",
       "0   POLYGON ((-73.70733 42.78605, -73.70397 42.783...  \n",
       "1   POLYGON ((-78.29218 42.52139, -78.29047 42.521...  \n",
       "2   POLYGON ((-73.86567 40.90219, -73.86300 40.901...  \n",
       "3   POLYGON ((-75.86416 42.41554, -75.86379 42.413...  \n",
       "4   POLYGON ((-79.02148 42.53803, -79.01937 42.537...  \n",
       "..                                                ...  \n",
       "57  POLYGON ((-73.37718 43.79995, -73.37690 43.799...  \n",
       "58  POLYGON ((-76.74696 43.69594, -76.72214 43.343...  \n",
       "59  POLYGON ((-73.54795 41.31920, -73.54819 41.316...  \n",
       "60  POLYGON ((-78.36506 42.86885, -78.36497 42.868...  \n",
       "61  POLYGON ((-77.23283 42.76140, -77.23249 42.761...  \n",
       "\n",
       "[62 rows x 18 columns]"
      ]
     },
     "execution_count": 5,
     "metadata": {},
     "output_type": "execute_result"
    }
   ],
   "source": [
    "counties"
   ]
  },
  {
   "cell_type": "code",
   "execution_count": 6,
   "id": "386fbc3e-a1a8-40a6-9e14-4aa5a7f08031",
   "metadata": {},
   "outputs": [
    {
     "data": {
      "text/plain": [
       "geopandas.geoseries.GeoSeries"
      ]
     },
     "execution_count": 6,
     "metadata": {},
     "output_type": "execute_result"
    }
   ],
   "source": [
    "ny = counties[counties.loc[:, \"NAME\"]==\"New York\"].loc[:, \"geometry\"]\n",
    "type(ny)"
   ]
  },
  {
   "cell_type": "code",
   "execution_count": 7,
   "id": "3175d382-8d09-41b7-8e95-d4f83b3f5280",
   "metadata": {},
   "outputs": [
    {
     "data": {
      "image/png": "[encoded data removed]",
      "text/plain": [
       "<Figure size 1728x1152 with 1 Axes>"
      ]
     },
     "metadata": {
      "needs_background": "light"
     },
     "output_type": "display_data"
    }
   ],
   "source": [
    "ny.plot(figsize=(24,16));"
   ]
  },
  {
   "cell_type": "code",
   "execution_count": null,
   "id": "59cbae6e-6a8f-446f-b7b5-70e2e5ec787c",
   "metadata": {},
   "outputs": [],
   "source": []
  },
  {
   "cell_type": "code",
   "execution_count": 8,
   "id": "16482120-3783-41f2-9bdc-85ae9b5a1990",
   "metadata": {},
   "outputs": [
    {
     "data": {
      "text/plain": [
       "30    False\n",
       "dtype: bool"
      ]
     },
     "execution_count": 8,
     "metadata": {},
     "output_type": "execute_result"
    }
   ],
   "source": [
    "ny.contains(Point(40.750,-74))"
   ]
  },
  {
   "cell_type": "code",
   "execution_count": 9,
   "id": "1b104684-0c98-41f9-b79c-a3dc885385fd",
   "metadata": {},
   "outputs": [],
   "source": [
    "img_dir = \"../data/images/\"\n",
    "data_dir = \"../data/\"\n",
    "from scipy.io import loadmat\n",
    "coordinates = loadmat(data_dir + \"GPS_Long_Lat_Compass.mat\")[\"GPS_Compass\"] # Coordinates. Each coordinate corresponds to 6 pictures\n"
   ]
  },
  {
   "cell_type": "code",
   "execution_count": 10,
   "id": "03a7c139-976a-4421-a645-0d378ae46e05",
   "metadata": {},
   "outputs": [
    {
     "data": {
      "text/plain": [
       "numpy.float64"
      ]
     },
     "execution_count": 10,
     "metadata": {},
     "output_type": "execute_result"
    }
   ],
   "source": [
    "type(coordinates[0][0])"
   ]
  },
  {
   "cell_type": "code",
   "execution_count": 11,
   "id": "abca5815-c767-4584-bb1a-bda83aa6e19c",
   "metadata": {},
   "outputs": [],
   "source": [
    "coordinates = [Point(c[1], c[0]) for c in coordinates]"
   ]
  },
  {
   "cell_type": "code",
   "execution_count": 12,
   "id": "f808b653-2146-4ca7-a947-4063a6d7f6ed",
   "metadata": {},
   "outputs": [],
   "source": [
    "coordinates_gpd = gpd.GeoDataFrame(geometry=coordinates)"
   ]
  },
  {
   "cell_type": "code",
   "execution_count": 13,
   "id": "a3d185e0-b598-4631-9846-e03e159c860f",
   "metadata": {},
   "outputs": [
    {
     "data": {
      "text/html": [
       "<div>\n",
       "<style scoped>\n",
       "    .dataframe tbody tr th:only-of-type {\n",
       "        vertical-align: middle;\n",
       "    }\n",
       "\n",
       "    .dataframe tbody tr th {\n",
       "        vertical-align: top;\n",
       "    }\n",
       "\n",
       "    .dataframe thead th {\n",
       "        text-align: right;\n",
       "    }\n",
       "</style>\n",
       "<table border=\"1\" class=\"dataframe\">\n",
       "  <thead>\n",
       "    <tr style=\"text-align: right;\">\n",
       "      <th></th>\n",
       "      <th>geometry</th>\n",
       "    </tr>\n",
       "  </thead>\n",
       "  <tbody>\n",
       "    <tr>\n",
       "      <th>0</th>\n",
       "      <td>POINT (-80.00000 40.44031)</td>\n",
       "    </tr>\n",
       "    <tr>\n",
       "      <th>1</th>\n",
       "      <td>POINT (-80.00680 40.44027)</td>\n",
       "    </tr>\n",
       "    <tr>\n",
       "      <th>2</th>\n",
       "      <td>POINT (-80.00670 40.44023)</td>\n",
       "    </tr>\n",
       "    <tr>\n",
       "      <th>3</th>\n",
       "      <td>POINT (-80.00660 40.44019)</td>\n",
       "    </tr>\n",
       "    <tr>\n",
       "      <th>4</th>\n",
       "      <td>POINT (-80.00650 40.44015)</td>\n",
       "    </tr>\n",
       "    <tr>\n",
       "      <th>...</th>\n",
       "      <td>...</td>\n",
       "    </tr>\n",
       "    <tr>\n",
       "      <th>10338</th>\n",
       "      <td>POINT (-74.00172 40.73055)</td>\n",
       "    </tr>\n",
       "    <tr>\n",
       "      <th>10339</th>\n",
       "      <td>POINT (-74.00160 40.73075)</td>\n",
       "    </tr>\n",
       "    <tr>\n",
       "      <th>10340</th>\n",
       "      <td>POINT (-74.00154 40.73085)</td>\n",
       "    </tr>\n",
       "    <tr>\n",
       "      <th>10341</th>\n",
       "      <td>POINT (-74.00149 40.73093)</td>\n",
       "    </tr>\n",
       "    <tr>\n",
       "      <th>10342</th>\n",
       "      <td>POINT (-74.00142 40.73105)</td>\n",
       "    </tr>\n",
       "  </tbody>\n",
       "</table>\n",
       "<p>10343 rows × 1 columns</p>\n",
       "</div>"
      ],
      "text/plain": [
       "                         geometry\n",
       "0      POINT (-80.00000 40.44031)\n",
       "1      POINT (-80.00680 40.44027)\n",
       "2      POINT (-80.00670 40.44023)\n",
       "3      POINT (-80.00660 40.44019)\n",
       "4      POINT (-80.00650 40.44015)\n",
       "...                           ...\n",
       "10338  POINT (-74.00172 40.73055)\n",
       "10339  POINT (-74.00160 40.73075)\n",
       "10340  POINT (-74.00154 40.73085)\n",
       "10341  POINT (-74.00149 40.73093)\n",
       "10342  POINT (-74.00142 40.73105)\n",
       "\n",
       "[10343 rows x 1 columns]"
      ]
     },
     "execution_count": 13,
     "metadata": {},
     "output_type": "execute_result"
    }
   ],
   "source": [
    "coordinates_gpd"
   ]
  },
  {
   "cell_type": "code",
   "execution_count": 14,
   "id": "7bd72aae-4ca7-4f4c-a0f2-be4f915916d9",
   "metadata": {},
   "outputs": [],
   "source": [
    "import torch\n",
    "import torchvision\n",
    "import torchvision.transforms as transforms\n",
    "from sklearn.model_selection import train_test_split\n",
    "from scipy.io import loadmat\n",
    "import reverse_geocoder\n",
    "from os import listdir\n",
    "from os.path import isfile, join"
   ]
  },
  {
   "cell_type": "code",
   "execution_count": 15,
   "id": "3ccbe298-6e50-40ce-bf42-8ae9fafe3bf2",
   "metadata": {},
   "outputs": [],
   "source": [
    "### Returns an array of True/False if the coordinate is in a given state\n",
    "### coordinates: An array of coordinates\n",
    "### state: Full name of the state. ex= \"New York\"\n",
    "def get_coordinates_in_state(coordinates, state):\n",
    "    coords = [(lat,long) for lat,long,ele in coordinates]\n",
    "    results = reverse_geocoder.search(coords, mode=2)\n",
    "    state = [x['admin1']==state for x in results]\n",
    "    return state"
   ]
  },
  {
   "cell_type": "code",
   "execution_count": 16,
   "id": "deeafb07-bd0b-4fbe-879c-e6eeb3ea6558",
   "metadata": {},
   "outputs": [
    {
     "name": "stdout",
     "output_type": "stream",
     "text": [
      "Loading formatted geocoded file...\n"
     ]
    },
    {
     "data": {
      "text/plain": [
       "[False, False, False, False, False]"
      ]
     },
     "execution_count": 16,
     "metadata": {},
     "output_type": "execute_result"
    }
   ],
   "source": [
    "img_dir = \"../data/images/\"\n",
    "data_dir = \"../data/\"\n",
    "img_files = [f for f in listdir(img_dir) if isfile(join(img_dir, f))] # Names of all images in the folder\n",
    "coordinates = loadmat(data_dir + \"GPS_Long_Lat_Compass.mat\")[\"GPS_Compass\"] # Coordinates. Each coordinate corresponds to 6 pictures\n",
    "in_ny = get_coordinates_in_state(coordinates=coordinates, state=\"New York\") # All coordinates in NY\n",
    "in_ny[:5]"
   ]
  },
  {
   "cell_type": "code",
   "execution_count": 17,
   "id": "e1da816c-2aa9-471c-aa30-750c30b4d05c",
   "metadata": {},
   "outputs": [],
   "source": [
    "ny_coords = [coordinates[x] for x in range(len(in_ny)) if in_ny[x]]\n",
    "coordinates = [Point(c[1], c[0]) for c in ny_coords]"
   ]
  },
  {
   "cell_type": "code",
   "execution_count": 18,
   "id": "a5053526-9b3c-450e-9b58-c31f43e08bf0",
   "metadata": {},
   "outputs": [
    {
     "data": {
      "text/plain": [
       "4731"
      ]
     },
     "execution_count": 18,
     "metadata": {},
     "output_type": "execute_result"
    }
   ],
   "source": [
    "len(ny_coords)"
   ]
  },
  {
   "cell_type": "code",
   "execution_count": 19,
   "id": "a810050a-5db0-4d47-aad3-abac99d2b0b8",
   "metadata": {},
   "outputs": [],
   "source": [
    "ny_coordinates_gpd = gpd.GeoDataFrame(geometry=coordinates)"
   ]
  },
  {
   "cell_type": "code",
   "execution_count": 20,
   "id": "e917e97c-04e5-4c78-8172-84c9f01c8244",
   "metadata": {},
   "outputs": [
    {
     "data": {
      "text/plain": [
       "<AxesSubplot:>"
      ]
     },
     "execution_count": 20,
     "metadata": {},
     "output_type": "execute_result"
    },
    {
     "data": {
      "image/png": "[encoded data removed]",
      "text/plain": [
       "<Figure size 1152x1152 with 1 Axes>"
      ]
     },
     "metadata": {
      "needs_background": "light"
     },
     "output_type": "display_data"
    }
   ],
   "source": [
    "import matplotlib.pyplot as plt\n",
    "ax = ny.plot(color='lightgrey',figsize=(16,16))\n",
    "ny_coordinates_gpd.loc[:,'geometry'].plot(ax=ax)"
   ]
  },
  {
   "cell_type": "code",
   "execution_count": 21,
   "id": "d8dbf185-1bad-47c3-b8dd-848cd63fdc83",
   "metadata": {},
   "outputs": [
    {
     "name": "stdout",
     "output_type": "stream",
     "text": [
      "         minx       miny       maxx       maxy\n",
      "30 -74.047207  40.679654 -73.906769  40.882012\n"
     ]
    },
    {
     "data": {
      "text/plain": [
       "[array([-74.04720705,  40.6796537 , -73.90676916,  40.8820121 ])]"
      ]
     },
     "execution_count": 21,
     "metadata": {},
     "output_type": "execute_result"
    }
   ],
   "source": [
    "bounds = ny.bounds\n",
    "print(bounds)\n",
    "list(bounds.values)"
   ]
  },
  {
   "cell_type": "code",
   "execution_count": 22,
   "id": "b62f60a5-3119-41f9-bfe2-903ae0cf3de1",
   "metadata": {},
   "outputs": [],
   "source": [
    "import pickle\n",
    "\n",
    "pickle.dump(ny, open(\"ny.pkl\",\"wb\"))"
   ]
  },
  {
   "cell_type": "code",
   "execution_count": 23,
   "id": "9efba548-1a58-4715-95e4-218323d25dc4",
   "metadata": {},
   "outputs": [],
   "source": [
    "import shapely\n",
    "import gmaps\n",
    "from shapely.geometry import Point, Polygon, box\n",
    "from matplotlib import pyplot as plt\n",
    "import numpy as np\n",
    "import pickle"
   ]
  },
  {
   "cell_type": "code",
   "execution_count": 24,
   "id": "b2fd4f14-3930-4301-8d76-fae3cf0357df",
   "metadata": {},
   "outputs": [
    {
     "data": {
      "text/html": [
       "<div>\n",
       "<style scoped>\n",
       "    .dataframe tbody tr th:only-of-type {\n",
       "        vertical-align: middle;\n",
       "    }\n",
       "\n",
       "    .dataframe tbody tr th {\n",
       "        vertical-align: top;\n",
       "    }\n",
       "\n",
       "    .dataframe thead th {\n",
       "        text-align: right;\n",
       "    }\n",
       "</style>\n",
       "<table border=\"1\" class=\"dataframe\">\n",
       "  <thead>\n",
       "    <tr style=\"text-align: right;\">\n",
       "      <th></th>\n",
       "      <th>geometry</th>\n",
       "    </tr>\n",
       "  </thead>\n",
       "  <tbody>\n",
       "    <tr>\n",
       "      <th>0</th>\n",
       "      <td>POINT (-73.97108 40.74847)</td>\n",
       "    </tr>\n",
       "    <tr>\n",
       "      <th>1</th>\n",
       "      <td>POINT (-73.97120 40.74852)</td>\n",
       "    </tr>\n",
       "    <tr>\n",
       "      <th>2</th>\n",
       "      <td>POINT (-73.97131 40.74857)</td>\n",
       "    </tr>\n",
       "    <tr>\n",
       "      <th>3</th>\n",
       "      <td>POINT (-73.97141 40.74861)</td>\n",
       "    </tr>\n",
       "    <tr>\n",
       "      <th>4</th>\n",
       "      <td>POINT (-73.97152 40.74866)</td>\n",
       "    </tr>\n",
       "    <tr>\n",
       "      <th>...</th>\n",
       "      <td>...</td>\n",
       "    </tr>\n",
       "    <tr>\n",
       "      <th>4726</th>\n",
       "      <td>POINT (-74.00172 40.73055)</td>\n",
       "    </tr>\n",
       "    <tr>\n",
       "      <th>4727</th>\n",
       "      <td>POINT (-74.00160 40.73075)</td>\n",
       "    </tr>\n",
       "    <tr>\n",
       "      <th>4728</th>\n",
       "      <td>POINT (-74.00154 40.73085)</td>\n",
       "    </tr>\n",
       "    <tr>\n",
       "      <th>4729</th>\n",
       "      <td>POINT (-74.00149 40.73093)</td>\n",
       "    </tr>\n",
       "    <tr>\n",
       "      <th>4730</th>\n",
       "      <td>POINT (-74.00142 40.73105)</td>\n",
       "    </tr>\n",
       "  </tbody>\n",
       "</table>\n",
       "<p>4731 rows × 1 columns</p>\n",
       "</div>"
      ],
      "text/plain": [
       "                        geometry\n",
       "0     POINT (-73.97108 40.74847)\n",
       "1     POINT (-73.97120 40.74852)\n",
       "2     POINT (-73.97131 40.74857)\n",
       "3     POINT (-73.97141 40.74861)\n",
       "4     POINT (-73.97152 40.74866)\n",
       "...                          ...\n",
       "4726  POINT (-74.00172 40.73055)\n",
       "4727  POINT (-74.00160 40.73075)\n",
       "4728  POINT (-74.00154 40.73085)\n",
       "4729  POINT (-74.00149 40.73093)\n",
       "4730  POINT (-74.00142 40.73105)\n",
       "\n",
       "[4731 rows x 1 columns]"
      ]
     },
     "execution_count": 24,
     "metadata": {},
     "output_type": "execute_result"
    }
   ],
   "source": [
    "ny_coordinates_gpd"
   ]
  },
  {
   "cell_type": "code",
   "execution_count": 25,
   "id": "3f76ab4b-791c-4e50-a075-9ae53efbb89f",
   "metadata": {},
   "outputs": [],
   "source": [
    "# total area for the grid\n",
    "xmin, ymin, xmax, ymax= ny.total_bounds\n",
    "\n",
    "# how many cells across and down\n",
    "n_cells=50\n",
    "cell_size = (xmax-xmin)/n_cells\n",
    "# projection of the grid\n",
    "crs = \"+proj=sinu +lon_0=0 +x_0=0 +y_0=0 +a=6371007.181 +b=6371007.181 +units=m +no_defs\"\n",
    "# create the cells in a loop\n",
    "grid_cells = []\n",
    "for x0 in np.arange(xmin, xmax+cell_size, cell_size ):\n",
    "    for y0 in np.arange(ymin, ymax+cell_size, cell_size):\n",
    "        # bounds\n",
    "        x1 = x0-cell_size\n",
    "        y1 = y0+cell_size\n",
    "        grid_cells.append( shapely.geometry.box(x0, y0, x1, y1)  )\n",
    "cell = gpd.GeoDataFrame(grid_cells, columns=['geometry'], \n",
    "                                 crs=crs)"
   ]
  },
  {
   "cell_type": "code",
   "execution_count": 26,
   "id": "66f9e2c6-d158-4854-83e5-1b48274480fa",
   "metadata": {},
   "outputs": [
    {
     "data": {
      "text/plain": [
       "<AxesSubplot:>"
      ]
     },
     "execution_count": 26,
     "metadata": {},
     "output_type": "execute_result"
    },
    {
     "data": {
      "image/png": "[encoded data removed]",
      "text/plain": [
       "<Figure size 1152x1152 with 1 Axes>"
      ]
     },
     "metadata": {
      "needs_background": "light"
     },
     "output_type": "display_data"
    }
   ],
   "source": [
    "import matplotlib.pyplot as plt\n",
    "ax = ny.plot(color='lightgrey',figsize=(16,16))\n",
    "ny_coordinates_gpd.loc[:,'geometry'].plot(ax=ax)\n",
    "cell.plot(ax=ax, facecolor=\"none\", edgecolor='grey')"
   ]
  },
  {
   "cell_type": "code",
   "execution_count": 27,
   "id": "17229516-dcf9-46ba-b4ec-f7b16bba0db4",
   "metadata": {},
   "outputs": [],
   "source": [
    "ny_coordinates_DF = gpd.GeoDataFrame(geometry=ny_coordinates_gpd.loc[:,'geometry'])"
   ]
  },
  {
   "cell_type": "code",
   "execution_count": 28,
   "id": "0881e499-1d0e-4330-83e7-db224c48720f",
   "metadata": {},
   "outputs": [
    {
     "name": "stderr",
     "output_type": "stream",
     "text": [
      "C:\\Users\\mjs47\\anaconda3\\lib\\site-packages\\IPython\\core\\interactiveshell.py:3309: FutureWarning: The `op` parameter is deprecated and will be removed in a future release. Please use the `predicate` parameter instead.\n",
      "  if await self.run_code(code, result, async_=asy):\n",
      "C:\\Users\\mjs47\\AppData\\Local\\Temp\\ipykernel_4088\\3736913191.py:1: UserWarning: CRS mismatch between the CRS of left geometries and the CRS of right geometries.\n",
      "Use `to_crs()` to reproject one of the input geometries to match the CRS of the other.\n",
      "\n",
      "Left CRS: None\n",
      "Right CRS: +proj=sinu +lon_0=0 +x_0=0 +y_0=0 +a=6371007.181 + ...\n",
      "\n",
      "  merged = gpd.sjoin(ny_coordinates_DF, cell, how='left', op='within')\n"
     ]
    }
   ],
   "source": [
    "merged = gpd.sjoin(ny_coordinates_DF, cell, how='left', op='within')"
   ]
  },
  {
   "cell_type": "code",
   "execution_count": 29,
   "id": "36116c0e-3828-4ebd-aa2a-4635d1738eb3",
   "metadata": {},
   "outputs": [],
   "source": [
    "# make a simple count variable that we can sum\n",
    "merged['n_fires']=1\n",
    "# Compute stats per grid cell -- aggregate fires to grid cells with dissolve\n",
    "dissolve = merged.dissolve(by=\"index_right\", aggfunc=\"count\")\n",
    "# put this into cell\n",
    "cell.loc[dissolve.index, 'n_fires'] = dissolve.n_fires.values"
   ]
  },
  {
   "cell_type": "code",
   "execution_count": 30,
   "id": "a6c6614d-fb82-41a5-aec6-0665f6e02c46",
   "metadata": {},
   "outputs": [
    {
     "data": {
      "text/plain": [
       "(-74.05422894785004,\n",
       " -73.89974726205489,\n",
       " 40.669535781164754,\n",
       " 40.892130019361865)"
      ]
     },
     "execution_count": 30,
     "metadata": {},
     "output_type": "execute_result"
    },
    {
     "data": {
      "image/png": "[encoded data removed]",
      "text/plain": [
       "<Figure size 1152x1152 with 1 Axes>"
      ]
     },
     "metadata": {
      "needs_background": "light"
     },
     "output_type": "display_data"
    }
   ],
   "source": [
    "ax = ny.plot(color='lightgrey',figsize=(16,16))\n",
    "cell.plot(ax=ax, column='n_fires', figsize=(12, 8), cmap='viridis', vmax=5000, edgecolor=\"grey\")\n",
    "plt.autoscale(False)\n",
    "world = gpd.read_file(gpd.datasets.get_path('naturalearth_lowres'))\n",
    "world.to_crs(cell.crs).plot(ax=ax, color='none', edgecolor='black')\n",
    "ax.axis('off')"
   ]
  },
  {
   "cell_type": "code",
   "execution_count": 31,
   "id": "38658030-74a6-43cc-ab85-8021f774c637",
   "metadata": {},
   "outputs": [
    {
     "name": "stdout",
     "output_type": "stream",
     "text": [
      "rtree.index.Index(bounds=[-74.05001581096471, 40.679653701082806, -73.90676915686386, 40.887501787425215], size=70)\n"
     ]
    }
   ],
   "source": [
    "r_tree = cell.sindex\n",
    "print(r_tree)"
   ]
  },
  {
   "cell_type": "code",
   "execution_count": 32,
   "id": "9275f635-4a9f-4100-ad66-a5e089b8ef4a",
   "metadata": {},
   "outputs": [
    {
     "name": "stdout",
     "output_type": "stream",
     "text": [
      "-> points in box 7:  [202, 276, 128, 54, 350, 498, 424, 425, 203, 351, 499, 277, 55, 129, 426, 204, 500, 352, 130, 278, 56, 427, 353, 205, 279, 501, 57, 131, 280, 58, 428, 132, 354, 206, 502, 133, 59, 503, 355, 429, 207, 281, 60, 282, 356, 208, 504, 134, 430, 61, 135, 505, 431, 209, 357, 283, 284, 432, 136, 210, 62, 358, 506, 137, 433, 63, 211, 285, 359, 507] \n",
      " bounding box:  [-74.05001581096471, 40.831326628954294, -74.03035450549989, 40.859414208189754] \n",
      "\n",
      "-> points in box 6:  [414, 266, 44, 118, 340, 488, 192, 341, 415, 267, 45, 119, 489, 193, 342, 416, 268, 120, 46, 194, 490, 417, 491, 343, 269, 121, 47, 195, 418, 48, 344, 122, 196, 492, 270, 123, 419, 271, 345, 49, 493, 197, 198, 420, 50, 494, 124, 272, 346, 51, 495, 199, 273, 125, 347, 421, 200, 348, 496, 52, 126, 274, 422, 349, 127, 53, 497, 275, 423, 201] \n",
      " bounding box:  [-74.05001581096471, 40.80323904971883, -74.03035450549989, 40.831326628954294] \n",
      "\n",
      "-> points in box 8:  [212, 360, 286, 64, 434, 508, 138, 361, 213, 65, 139, 509, 287, 435, 214, 436, 510, 140, 66, 288, 362, 511, 215, 141, 437, 67, 289, 363, 68, 216, 512, 438, 142, 290, 364, 439, 217, 513, 365, 69, 143, 291, 144, 366, 70, 440, 218, 514, 292, 367, 515, 219, 441, 145, 293, 71, 294, 516, 220, 442, 146, 368, 72, 517, 443, 147, 221, 369, 73, 295] \n",
      " bounding box:  [-74.05001581096471, 40.859414208189754, -74.03035450549989, 40.887501787425215] \n",
      "\n",
      "-> points in box 2:  [156, 452, 9, 83, 527, 453, 157, 231, 379, 305, 10, 232, 158, 380, 306, 454, 84, 528, 455, 159, 307, 233, 85, 529, 11, 381, 456, 86, 308, 382, 234, 160, 530, 12, 457, 235, 309, 87, 383, 161, 531, 13, 14, 310, 458, 384, 88, 236, 162, 532, 89, 237, 311, 459, 163, 385, 533, 15, 312, 164, 238, 90, 386, 460, 534, 16, 165, 239, 313, 387] \n",
      " bounding box:  [-74.05001581096471, 40.702123764471175, -74.02754574757634, 40.730211343706635] \n",
      "\n",
      "-> points in box 3:  [461, 535, 17, 91, 18, 536, 388, 240, 92, 462, 314, 166, 93, 315, 241, 167, 463, 19, 389, 537, 94, 464, 168, 316, 242, 20, 390, 538, 95, 465, 243, 317, 21, 169, 391, 539, 96, 170, 318, 466, 22, 392, 244, 540, 97, 245, 319, 393, 171, 23, 467, 541, 468, 320, 24, 394, 98, 246, 172, 542, 25, 173, 543, 469, 247, 99, 395, 321, 100, 322] \n",
      " bounding box:  [-74.05001581096471, 40.72740258578309, -74.02754574757634, 40.75549016501855] \n",
      "\n",
      "-> points in box 4:  [248, 544, 26, 174, 396, 470, 27, 545, 101, 249, 175, 323, 471, 397, 176, 28, 324, 398, 250, 102, 472, 546, 547, 473, 325, 251, 399, 177, 103, 29, 104, 326, 178, 30, 400, 474, 252, 548, 31, 475, 179, 401, 327, 253, 105, 549, 328, 476, 402, 180, 32, 254, 106, 550, 477, 329, 403, 181, 33, 255, 107, 551, 330, 478, 404, 182, 256, 108, 34, 552] \n",
      " bounding box:  [-74.05001581096471, 40.752681407095004, -74.02754574757634, 40.77796022840692] \n",
      "\n",
      "-> points in box 5:  [405, 109, 479, 257, 183, 331, 35, 553, 36, 184, 258, 480, 110, 332, 406, 554, 37, 259, 333, 407, 111, 481, 185, 555, 408, 186, 112, 482, 260, 38, 334, 556, 39, 113, 261, 187, 409, 335, 557, 483, 40, 114, 558, 262, 484, 188, 336, 410, 41, 115, 263, 485, 411, 559, 189, 337, 264, 42, 116, 486, 190, 412, 338, 191, 43, 117, 413, 265, 487, 339] \n",
      " bounding box:  [-74.05001581096471, 40.77796022840692, -74.02754574757634, 40.80323904971883] \n",
      "\n",
      "-> points in box 0:  [0, 222, 296, 370, 518, 74, 444, 148, 1, 149, 519, 371, 75, 445, 297, 223, 2, 150, 520, 372, 446, 76, 298, 224, 3, 151, 521, 373, 447, 77, 299, 225, 4, 300, 448, 522, 374, 78, 152, 226, 5, 523, 79, 449, 301, 153, 227, 375, 6, 450, 80, 302, 524, 154, 228, 376, 7, 155, 81, 303, 525, 377, 229, 451, 8, 82, 304, 526, 378, 230] \n",
      " bounding box:  [-74.05001581096471, 40.679653701082806, -74.02754574757634, 40.70493252239472] \n",
      "\n",
      "-> points in box 13:  [630, 852, 704, 779, 631, 1001, 1075, 853, 927, 705, 780, 632, 1002, 854, 928, 706, 1076, 1003, 707, 633, 1077, 855, 929, 781, 708, 930, 560, 856, 782, 1004, 1078, 634, 561, 783, 1079, 709, 1005, 635, 931, 857, 562, 710, 636, 784, 1080, 1006, 932, 858, 563, 933, 637, 1081, 1007, 711, 785, 859, 934, 1008, 638, 1082, 564, 712, 786, 860, 1009, 639, 787, 713, 935, 565] \n",
      " bounding box:  [-74.03035450549989, 40.78638650217756, -74.00788444211152, 40.81447408141302] \n",
      "\n",
      "-> points in box 14:  [1083, 861, 1084, 788, 714, 640, 936, 566, 1010, 862, 567, 789, 1085, 715, 1011, 937, 641, 863, 642, 790, 1086, 716, 1012, 938, 568, 864, 643, 939, 1087, 717, 1013, 569, 865, 791, 570, 644, 1088, 1014, 718, 866, 940, 792, 571, 941, 1015, 867, 1089, 793, 719, 645, 572, 1090, 868, 1016, 794, 720, 646, 942, 573, 721, 869, 943, 1017, 647, 795, 1091, 574, 1092, 722, 870] \n",
      " bounding box:  [-74.03035450549989, 40.81166532348947, -74.00788444211152, 40.83975290272493] \n",
      "\n",
      "-> points in box 15:  [1018, 648, 796, 944, 575, 723, 1019, 871, 649, 1093, 797, 945, 576, 1020, 724, 872, 1094, 650, 798, 946, 577, 873, 651, 1095, 725, 947, 799, 1021, 948, 874, 800, 1096, 652, 726, 1022, 578, 875, 801, 653, 949, 1023, 727, 579, 1097, 1098, 950, 802, 728, 654, 876, 1024, 580, 803, 951, 877, 1099, 729, 581, 655, 1025, 582, 730, 656, 1026, 804, 878, 1100, 952, 583, 1027] \n",
      " bounding box:  [-74.03035450549989, 40.836944144801386, -74.00788444211152, 40.86503172403685] \n",
      "\n",
      "-> points in box 16:  [657, 805, 953, 731, 1101, 879, 658, 732, 806, 954, 1028, 584, 1102, 880, 1029, 733, 807, 659, 585, 1103, 955, 881, 1104, 586, 882, 1030, 956, 734, 808, 660, 1031, 957, 809, 883, 661, 1105, 735, 587, 810, 884, 736, 958, 662, 1106, 588, 1032, 737, 885, 959, 1033, 663, 811, 1107, 589, 1108, 664, 812, 738, 1034, 886, 960, 590, 739, 1035, 665, 1109, 887, 813, 591, 961] \n",
      " bounding box:  [-74.03035450549989, 40.8622229661133, -74.00788444211152, 40.887501787425215] \n",
      "\n",
      "-> points in box 11:  [1054, 980, 758, 907, 759, 611, 833, 685, 981, 1055, 908, 834, 760, 1056, 686, 612, 982, 909, 1057, 613, 835, 687, 761, 983, 984, 836, 762, 910, 688, 1058, 614, 911, 1059, 689, 985, 837, 615, 763, 1060, 690, 764, 986, 838, 912, 616, 913, 617, 1061, 839, 765, 987, 691, 840, 914, 692, 988, 618, 1062, 766, 693, 915, 989, 841, 767, 619, 1063, 620, 768, 990, 842] \n",
      " bounding box:  [-74.02754574757634, 40.730211343706635, -74.00788444211152, 40.76110768086564] \n",
      "\n",
      "-> points in box 12:  [916, 1064, 694, 621, 991, 1065, 917, 843, 769, 695, 918, 770, 1066, 992, 622, 696, 844, 993, 1067, 623, 771, 697, 919, 845, 1068, 772, 624, 698, 994, 920, 846, 921, 699, 1069, 625, 773, 995, 847, 626, 1070, 922, 996, 700, 848, 774, 997, 701, 849, 1071, 923, 627, 775, 998, 850, 702, 924, 1072, 628, 776, 703, 777, 851, 629, 999, 1073, 925, 778, 926, 1000, 1074] \n",
      " bounding box:  [-74.02754574757634, 40.758298922942096, -74.00788444211152, 40.7891952601011] \n",
      "\n",
      "-> points in box 9:  [740, 592, 1036, 962, 1110, 814, 888, 666, 593, 667, 741, 1037, 963, 1111, 815, 889, 594, 1112, 668, 742, 1038, 964, 816, 890, 595, 743, 669, 1039, 965, 1113, 817, 891, 1040, 892, 596, 1114, 966, 670, 744, 818, 1041, 1115, 745, 893, 967, 671, 819, 597, 968, 746, 1042, 1116, 820, 672, 894, 598, 747, 1117, 673, 895, 821, 599, 969, 1043, 1118, 674, 600, 970, 822, 896] \n",
      " bounding box:  [-74.02754574757634, 40.679653701082806, -74.00507568418797, 40.70493252239472] \n",
      "\n",
      "-> points in box 10:  [748, 1044, 823, 897, 1045, 1119, 749, 675, 601, 971, 824, 602, 750, 898, 1046, 972, 676, 677, 899, 603, 825, 973, 1047, 751, 604, 900, 974, 826, 678, 1048, 752, 901, 827, 975, 605, 679, 1049, 753, 828, 976, 606, 1050, 754, 902, 680, 829, 1051, 681, 607, 755, 977, 903, 830, 1052, 682, 756, 978, 904, 608, 1053, 979, 757, 905, 683, 831, 609, 906, 684, 832, 610] \n",
      " bounding box:  [-74.02754574757634, 40.702123764471175, -74.00507568418797, 40.73302010163018] \n",
      "\n",
      "-> points in box 23:  [1608, 1164, 1238, 1534, 1312, 1386, 1460, 1609, 1461, 1165, 1239, 1535, 1313, 1387, 1610, 1462, 1240, 1388, 1314, 1536, 1166, 1463, 1611, 1241, 1389, 1315, 1537, 1167, 1242, 1168, 1464, 1612, 1538, 1316, 1390, 1169, 1317, 1613, 1391, 1539, 1243, 1465, 1170, 1614, 1466, 1318, 1540, 1392, 1244, 1393, 1467, 1615, 1245, 1319, 1541, 1171, 1394, 1320, 1468, 1542, 1172, 1246, 1616, 1395, 1321, 1247, 1469, 1543, 1173, 1617] \n",
      " bounding box:  [-74.00788444211152, 40.831326628954294, -73.9882231366467, 40.859414208189754] \n",
      "\n",
      "-> points in box 24:  [1470, 1544, 1322, 1248, 1174, 1396, 1618, 1545, 1249, 1619, 1397, 1175, 1471, 1323, 1250, 1546, 1620, 1324, 1472, 1398, 1176, 1325, 1399, 1251, 1547, 1177, 1473, 1621, 1326, 1252, 1178, 1548, 1474, 1622, 1400, 1327, 1623, 1179, 1549, 1253, 1475, 1401, 1180, 1402, 1476, 1624, 1254, 1328, 1550, 1181, 1329, 1625, 1403, 1477, 1255, 1551, 1626, 1256, 1478, 1404, 1182, 1552, 1330, 1627, 1331, 1405, 1257, 1479, 1183, 1553] \n",
      " bounding box:  [-74.00788444211152, 40.859414208189754, -73.9882231366467, 40.887501787425215] \n",
      "\n",
      "-> points in box 18:  [1268, 1120, 1490, 1564, 1416, 1638, 1194, 1342, 1121, 1491, 1417, 1343, 1195, 1565, 1639, 1269, 1566, 1270, 1344, 1640, 1122, 1418, 1196, 1492, 1419, 1271, 1123, 1641, 1567, 1493, 1345, 1197, 1420, 1272, 1494, 1642, 1124, 1198, 1346, 1568, 1421, 1643, 1125, 1199, 1495, 1347, 1569, 1273, 1422, 1644, 1496, 1126, 1348, 1570, 1274, 1200, 1423, 1349, 1127, 1201, 1645, 1275, 1571, 1497, 1128, 1202, 1646, 1572, 1350, 1276] \n",
      " bounding box:  [-74.00788444211152, 40.70774128031827, -73.98541437872315, 40.73302010163018] \n",
      "\n",
      "-> points in box 19:  [1498, 1424, 1573, 1129, 1425, 1203, 1647, 1351, 1277, 1499, 1426, 1130, 1574, 1204, 1648, 1278, 1352, 1500, 1575, 1427, 1501, 1131, 1205, 1649, 1279, 1353, 1132, 1502, 1576, 1650, 1428, 1206, 1280, 1354, 1133, 1503, 1429, 1281, 1651, 1577, 1355, 1207, 1134, 1504, 1652, 1578, 1356, 1208, 1282, 1430, 1135, 1209, 1653, 1505, 1283, 1431, 1579, 1357, 1136, 1432, 1506, 1654, 1358, 1580, 1210, 1284, 1137, 1285, 1507, 1359] \n",
      " bounding box:  [-74.00788444211152, 40.730211343706635, -73.98541437872315, 40.758298922942096] \n",
      "\n",
      "-> points in box 20:  [1581, 1655, 1211, 1433, 1138, 1212, 1508, 1360, 1656, 1286, 1434, 1582, 1139, 1583, 1213, 1361, 1287, 1509, 1657, 1435, 1140, 1288, 1362, 1214, 1436, 1510, 1658, 1584, 1141, 1659, 1215, 1437, 1585, 1289, 1511, 1363, 1142, 1438, 1290, 1216, 1512, 1660, 1364, 1586, 1143, 1587, 1513, 1217, 1365, 1439, 1661, 1291, 1144, 1662, 1292, 1588, 1440, 1514, 1218, 1366, 1145, 1293, 1441, 1219, 1589, 1367, 1515, 1663, 1220, 1590] \n",
      " bounding box:  [-74.00788444211152, 40.75549016501855, -73.98541437872315, 40.78357774425401] \n",
      "\n",
      "-> points in box 21:  [1516, 1294, 1146, 1368, 1442, 1664, 1517, 1443, 1369, 1147, 1221, 1591, 1295, 1665, 1444, 1518, 1222, 1370, 1148, 1592, 1296, 1666, 1445, 1593, 1223, 1149, 1371, 1297, 1519, 1667, 1446, 1594, 1520, 1372, 1150, 1298, 1224, 1668, 1299, 1521, 1669, 1225, 1447, 1151, 1373, 1595, 1374, 1300, 1152, 1522, 1670, 1226, 1596, 1448, 1153, 1375, 1449, 1227, 1301, 1523, 1597, 1671, 1154, 1524, 1228, 1450, 1302, 1376, 1598, 1672] \n",
      " bounding box:  [-74.00788444211152, 40.780768986330465, -73.98541437872315, 40.80604780764238] \n",
      "\n",
      "-> points in box 22:  [1155, 1229, 1599, 1377, 1451, 1525, 1303, 1673, 1156, 1526, 1304, 1378, 1452, 1230, 1600, 1674, 1157, 1527, 1231, 1453, 1379, 1305, 1601, 1675, 1158, 1602, 1528, 1306, 1232, 1380, 1454, 1676, 1159, 1529, 1307, 1233, 1603, 1381, 1455, 1677, 1234, 1308, 1382, 1604, 1456, 1530, 1678, 1160, 1605, 1161, 1679, 1309, 1235, 1383, 1531, 1457, 1236, 1384, 1162, 1532, 1458, 1310, 1606, 1607, 1237, 1385, 1533, 1311, 1459, 1163] \n",
      " bounding box:  [-74.00788444211152, 40.80604780764238, -73.98541437872315, 40.831326628954294] \n",
      "\n",
      "-> points in box 17:  [1628, 1332, 1480, 1258, 1554, 1184, 1406, 1333, 1407, 1481, 1259, 1555, 1185, 1629, 1260, 1334, 1408, 1556, 1482, 1186, 1630, 1335, 1261, 1483, 1631, 1187, 1557, 1409, 1484, 1632, 1410, 1558, 1188, 1336, 1262, 1633, 1485, 1337, 1559, 1411, 1263, 1189, 1486, 1190, 1338, 1264, 1560, 1634, 1412, 1487, 1339, 1265, 1413, 1561, 1191, 1635, 1266, 1340, 1488, 1414, 1562, 1636, 1192, 1267, 1341, 1489, 1415, 1563, 1193, 1637] \n",
      " bounding box:  [-74.00507568418797, 40.679653701082806, -73.98541437872315, 40.70774128031827] \n",
      "\n",
      "-> points in box 32:  [1693, 1841, 1989, 2137, 1915, 2063, 1916, 2064, 2138, 2212, 1694, 1990, 1842, 1768, 2213, 1843, 2065, 2139, 1991, 1695, 1917, 1769, 1844, 1918, 2066, 2140, 1696, 2214, 1992, 1770, 1771, 2067, 2141, 1919, 1993, 2215, 1845, 1697, 2068, 1920, 1772, 1846, 1698, 1994, 2142, 2216, 1847, 1921, 2069, 1699, 2143, 1773, 2217, 1995, 1700, 1774, 2144, 2070, 2218, 1922, 1848, 1996, 1775, 2145, 2071, 1849, 2219, 1997, 1923, 1701] \n",
      " bounding box:  [-73.9882231366467, 40.8622229661133, -73.96575307325833, 40.887501787425215] \n",
      "\n",
      "-> points in box 31:  [1832, 2128, 2202, 1758, 2055, 1833, 1685, 2129, 2203, 1759, 1981, 1907, 2056, 1982, 1686, 2204, 1834, 2130, 1760, 1908, 2057, 1983, 1687, 2131, 2205, 1761, 1835, 1909, 2058, 1910, 1836, 1688, 2206, 2132, 1984, 1762, 1911, 1985, 1689, 2059, 2207, 2133, 1763, 1837, 1764, 1912, 1986, 1838, 2134, 2060, 2208, 1690, 1839, 1765, 1987, 1913, 1691, 2209, 2061, 2135, 2062, 1766, 2210, 1988, 1914, 1692, 1840, 2136, 1767, 2211] \n",
      " bounding box:  [-73.9882231366467, 40.836944144801386, -73.96575307325833, 40.86503172403685] \n",
      "\n",
      "-> points in box 30:  [2045, 1971, 2119, 1749, 1823, 2193, 2046, 1898, 1972, 1824, 2120, 1750, 2194, 2121, 1899, 1973, 1751, 2047, 2195, 1825, 1752, 2122, 1826, 2196, 2048, 1974, 1900, 1753, 1901, 2123, 1975, 2049, 2197, 1827, 2050, 1976, 1754, 1828, 2124, 2198, 1680, 1902, 1681, 1755, 2125, 1903, 2051, 1829, 2199, 1977, 1756, 1978, 1682, 2126, 2052, 1830, 1904, 2200, 1905, 1979, 1683, 2127, 2053, 1757, 2201, 1831, 1906, 1980, 1684, 2054] \n",
      " bounding box:  [-73.9882231366467, 40.81166532348947, -73.96575307325833, 40.83975290272493] \n",
      "\n",
      "-> points in box 28:  [1803, 2025, 1951, 2099, 1729, 1877, 1730, 1878, 2100, 1952, 2174, 1804, 2026, 1731, 1805, 1953, 1879, 2101, 2175, 2027, 1806, 1732, 1880, 1954, 2102, 2176, 2028, 2029, 1881, 1733, 1807, 1955, 2103, 2177, 2104, 2178, 1882, 2030, 1734, 1956, 1808, 2179, 2105, 1735, 1957, 1883, 2031, 1809, 2180, 2106, 1810, 1884, 1736, 1958, 2032, 1737, 2181, 1885, 1959, 2033, 1811, 2107, 1886, 1960, 2034, 2108, 2182, 1738, 1812, 1961] \n",
      " bounding box:  [-73.98541437872315, 40.75549016501855, -73.96575307325833, 40.78638650217756] \n",
      "\n",
      "-> points in box 29:  [2035, 1813, 2109, 1887, 1739, 2183, 2184, 1740, 2036, 1814, 1962, 2110, 1888, 1889, 1741, 2185, 1815, 2111, 2037, 1963, 2038, 1890, 2186, 1816, 1964, 2112, 1742, 1817, 1965, 2187, 2039, 1891, 2113, 1743, 1966, 2114, 1892, 1818, 2040, 2188, 1744, 2189, 2041, 2115, 1745, 1967, 1893, 1819, 1820, 2116, 1968, 1746, 2042, 2190, 1894, 1895, 1747, 1969, 1821, 2117, 2043, 2191, 1748, 1896, 2118, 1970, 2192, 2044, 1822, 1897] \n",
      " bounding box:  [-73.98541437872315, 40.78357774425401, -73.96575307325833, 40.81447408141302] \n",
      "\n",
      "-> points in box 27:  [2163, 1719, 1793, 1941, 1720, 2238, 2016, 2164, 1868, 1794, 2090, 1942, 2091, 1869, 1721, 2165, 1795, 2017, 2239, 1943, 2018, 2092, 1796, 1944, 1722, 1870, 2166, 2019, 2167, 1797, 2093, 1945, 1723, 1871, 2020, 1946, 2168, 2094, 1724, 1872, 1798, 1725, 2095, 2169, 1799, 1873, 2021, 1947, 2170, 1874, 1800, 2022, 1726, 2096, 1948, 2171, 1727, 1875, 2097, 1801, 2023, 1949, 2172, 2098, 1876, 2024, 1802, 1728, 1950, 2173] \n",
      " bounding box:  [-73.98541437872315, 40.72740258578309, -73.96294431533478, 40.758298922942096] \n",
      "\n",
      "-> points in box 26:  [2080, 1932, 1711, 1933, 2081, 1859, 2007, 1785, 2229, 2155, 2082, 2008, 2230, 1786, 1712, 1860, 2156, 1934, 2009, 1713, 1787, 1935, 2157, 2083, 2231, 1861, 2232, 2010, 2158, 1714, 1862, 1788, 2084, 1936, 2233, 1715, 2159, 2011, 2085, 1863, 1789, 1937, 2234, 1716, 1790, 1864, 2160, 2012, 2086, 1938, 1865, 2235, 1791, 2161, 2013, 2087, 1717, 1939, 1866, 2162, 2014, 2236, 1718, 2088, 1792, 1940, 2237, 2089, 2015, 1867] \n",
      " bounding box:  [-73.98541437872315, 40.702123764471175, -73.96294431533478, 40.730211343706635] \n",
      "\n",
      "-> points in box 25:  [2220, 1850, 2072, 1924, 1776, 2146, 1702, 1998, 2147, 1703, 2221, 1851, 1999, 2073, 1925, 1777, 1778, 1704, 1852, 2000, 2074, 1926, 2148, 2222, 1853, 2001, 2223, 1705, 1779, 2149, 2075, 1927, 1854, 2224, 1780, 2002, 2150, 1706, 2076, 1928, 1707, 2225, 1781, 2003, 2151, 2077, 1929, 1855, 2078, 2004, 2152, 1930, 1782, 2226, 1708, 1856, 2227, 1783, 2153, 1857, 2079, 2005, 1709, 1931, 2154, 1784, 2228, 1858, 1710, 2006] \n",
      " bounding box:  [-73.98541437872315, 40.679653701082806, -73.96294431533478, 40.70493252239472] \n",
      "\n",
      "-> points in box 40:  [2728, 2358, 2284, 2506, 2432, 2654, 2580, 2285, 2507, 2581, 2433, 2359, 2729, 2655, 2434, 2730, 2286, 2360, 2582, 2656, 2508, 2731, 2583, 2287, 2361, 2509, 2435, 2657, 2732, 2362, 2288, 2658, 2584, 2510, 2436, 2733, 2289, 2363, 2659, 2511, 2437, 2585, 2364, 2660, 2290, 2438, 2512, 2734, 2586, 2365, 2439, 2661, 2291, 2513, 2587, 2735, 2292, 2662, 2514, 2588, 2736, 2366, 2440, 2293, 2663, 2589, 2441, 2515, 2367, 2737] \n",
      " bounding box:  [-73.96575307325833, 40.859414208189754, -73.9460917677935, 40.887501787425215] \n",
      "\n",
      "-> points in box 35:  [2610, 2388, 2536, 2462, 2684, 2758, 2240, 2314, 2241, 2389, 2463, 2611, 2759, 2537, 2685, 2315, 2242, 2390, 2464, 2612, 2760, 2686, 2538, 2316, 2243, 2391, 2465, 2539, 2613, 2761, 2687, 2317, 2762, 2466, 2244, 2392, 2540, 2688, 2614, 2318, 2245, 2393, 2763, 2689, 2615, 2467, 2541, 2319, 2246, 2320, 2394, 2764, 2616, 2468, 2542, 2690, 2247, 2321, 2469, 2395, 2765, 2617, 2543, 2691, 2248, 2544, 2322, 2766, 2470, 2618] \n",
      " bounding box:  [-73.96575307325833, 40.73582885955373, -73.94328300986996, 40.76110768086564] \n",
      "\n",
      "-> points in box 36:  [2396, 2692, 2249, 2693, 2471, 2545, 2767, 2397, 2619, 2323, 2694, 2398, 2620, 2250, 2324, 2472, 2768, 2546, 2547, 2769, 2695, 2251, 2325, 2621, 2473, 2399, 2548, 2326, 2770, 2474, 2252, 2696, 2622, 2400, 2771, 2253, 2475, 2549, 2401, 2697, 2623, 2327, 2254, 2476, 2698, 2402, 2772, 2550, 2624, 2328, 2255, 2625, 2699, 2477, 2773, 2551, 2403, 2329, 2256, 2700, 2626, 2552, 2404, 2478, 2774, 2330, 2257, 2701, 2405, 2479] \n",
      " bounding box:  [-73.96575307325833, 40.758298922942096, -73.94328300986996, 40.78638650217756] \n",
      "\n",
      "-> points in box 37:  [2553, 2775, 2331, 2627, 2258, 2776, 2332, 2554, 2406, 2480, 2702, 2628, 2777, 2333, 2555, 2481, 2259, 2703, 2629, 2407, 2704, 2556, 2778, 2408, 2334, 2260, 2630, 2482, 2779, 2409, 2631, 2557, 2705, 2483, 2261, 2335, 2706, 2262, 2558, 2410, 2336, 2632, 2484, 2780, 2263, 2633, 2411, 2337, 2559, 2485, 2707, 2781, 2486, 2412, 2708, 2634, 2560, 2264, 2338, 2782, 2413, 2783, 2635, 2709, 2339, 2561, 2487, 2265, 2636, 2562] \n",
      " bounding box:  [-73.96575307325833, 40.78357774425401, -73.94328300986996, 40.81166532348947] \n",
      "\n",
      "-> points in box 38:  [2414, 2710, 2340, 2488, 2266, 2784, 2489, 2267, 2415, 2341, 2711, 2563, 2637, 2785, 2564, 2712, 2268, 2342, 2638, 2490, 2416, 2786, 2639, 2269, 2343, 2491, 2417, 2713, 2565, 2787, 2714, 2640, 2566, 2418, 2344, 2270, 2492, 2788, 2715, 2419, 2493, 2641, 2345, 2271, 2567, 2789, 2568, 2346, 2642, 2494, 2420, 2716, 2272, 2790, 2569, 2495, 2347, 2643, 2421, 2273, 2717, 2791, 2496, 2348, 2422, 2718, 2274, 2644, 2570, 2792] \n",
      " bounding box:  [-73.96575307325833, 40.808856565565925, -73.94328300986996, 40.83413538687784] \n",
      "\n",
      "-> points in box 39:  [2349, 2497, 2571, 2423, 2275, 2719, 2645, 2793, 2350, 2424, 2276, 2646, 2498, 2572, 2720, 2794, 2721, 2573, 2351, 2425, 2277, 2647, 2499, 2795, 2722, 2278, 2352, 2426, 2648, 2500, 2574, 2796, 2575, 2649, 2279, 2723, 2353, 2501, 2427, 2797, 2354, 2724, 2576, 2502, 2650, 2798, 2428, 2280, 2725, 2799, 2577, 2281, 2651, 2503, 2429, 2355, 2430, 2282, 2726, 2504, 2652, 2356, 2578, 2357, 2727, 2505, 2579, 2431, 2283, 2653] \n",
      " bounding box:  [-73.96575307325833, 40.83413538687784, -73.94328300986996, 40.859414208189754] \n",
      "\n",
      "-> points in box 33:  [2516, 2294, 2368, 2590, 2664, 2442, 2738, 2739, 2665, 2517, 2369, 2443, 2591, 2295, 2370, 2592, 2444, 2296, 2518, 2666, 2740, 2519, 2593, 2371, 2297, 2445, 2667, 2741, 2446, 2594, 2372, 2298, 2742, 2668, 2520, 2447, 2521, 2595, 2669, 2743, 2299, 2373, 2448, 2522, 2596, 2300, 2744, 2670, 2374, 2449, 2523, 2301, 2597, 2671, 2375, 2745, 2598, 2302, 2450, 2524, 2376, 2746, 2672, 2303, 2525, 2377, 2599, 2747, 2673, 2451] \n",
      " bounding box:  [-73.96294431533478, 40.679653701082806, -73.94328300986996, 40.70774128031827] \n",
      "\n",
      "-> points in box 34:  [2304, 2452, 2526, 2600, 2748, 2674, 2378, 2305, 2453, 2379, 2601, 2749, 2675, 2527, 2306, 2528, 2750, 2380, 2602, 2454, 2676, 2307, 2751, 2529, 2603, 2455, 2381, 2677, 2308, 2678, 2382, 2530, 2604, 2752, 2456, 2679, 2383, 2531, 2457, 2605, 2753, 2309, 2754, 2458, 2310, 2532, 2606, 2680, 2384, 2607, 2533, 2385, 2459, 2755, 2311, 2681, 2608, 2312, 2460, 2386, 2756, 2534, 2682, 2313, 2609, 2757, 2461, 2683, 2387, 2535] \n",
      " bounding box:  [-73.96294431533478, 40.70774128031827, -73.94328300986996, 40.73582885955373] \n",
      "\n",
      "-> points in box 48:  [2803, 3321, 2951, 3247, 3173, 2877, 3026, 2952, 3248, 3174, 2804, 3322, 3100, 2878, 2953, 3249, 3175, 2879, 2805, 3027, 3101, 3323, 3028, 3176, 2954, 3324, 2806, 3250, 2880, 3102, 3251, 2955, 3177, 3029, 2807, 2881, 3103, 3325, 3252, 2956, 3104, 3178, 3030, 2808, 3326, 2882, 3031, 2883, 3253, 3179, 2957, 2809, 3327, 3105, 3106, 3032, 3180, 3254, 2958, 2884, 2810, 3328, 3033, 2885, 2811, 2959, 3329, 3107, 3255, 3181] \n",
      " bounding box:  [-73.9460917677935, 40.8622229661133, -73.92362170440514, 40.887501787425215] \n",
      "\n",
      "-> points in box 47:  [3237, 2941, 3312, 3164, 2942, 3238, 3016, 2868, 3090, 3091, 3165, 3313, 3239, 2869, 2943, 3017, 3166, 3092, 3240, 2870, 3018, 3314, 2944, 3167, 3315, 2871, 3241, 3093, 2945, 3019, 3168, 3020, 3094, 3316, 2946, 3242, 2872, 3169, 2947, 3021, 3317, 3095, 2873, 3243, 3170, 3096, 3022, 2948, 2800, 3318, 3244, 2874, 3171, 2875, 2801, 2949, 3097, 3023, 3319, 3245, 3098, 2802, 3024, 2876, 3172, 3246, 2950, 3320, 3099, 3025] \n",
      " bounding box:  [-73.9460917677935, 40.83413538687784, -73.92362170440514, 40.86503172403685] \n",
      "\n",
      "-> points in box 45:  [3069, 2847, 2848, 2922, 3070, 3144, 3218, 2996, 3292, 3145, 2849, 3071, 2997, 2923, 3293, 3219, 3220, 2998, 3146, 2924, 2850, 3294, 3072, 3221, 3073, 2925, 2851, 2999, 3295, 3147, 3222, 3074, 2926, 2852, 3000, 3296, 3148, 3223, 2853, 2927, 3297, 3001, 3075, 3149, 2854, 3002, 3076, 3224, 3150, 2928, 3298, 3151, 3003, 3077, 3299, 2929, 3225, 2855, 3152, 2856, 2930, 3078, 3226, 3004, 3300, 2857, 3005, 3079, 3153, 2931] \n",
      " bounding box:  [-73.94328300986996, 40.77796022840692, -73.92362170440514, 40.808856565565925] \n",
      "\n",
      "-> points in box 46:  [3301, 3227, 3228, 2858, 2932, 3006, 3302, 3080, 3154, 3303, 3081, 3155, 3229, 2859, 2933, 3007, 3008, 3082, 3230, 3304, 2860, 2934, 3156, 3009, 3231, 3305, 2861, 3083, 2935, 3157, 3010, 3232, 3306, 3084, 3158, 2936, 2862, 3011, 3233, 3307, 2863, 2937, 3085, 3159, 3160, 3012, 2864, 3086, 2938, 3234, 3308, 3161, 3013, 2939, 3087, 3309, 2865, 3235, 3162, 3088, 3310, 2866, 3014, 2940, 3236, 3163, 3311, 2867, 3089, 3015] \n",
      " bounding box:  [-73.94328300986996, 40.80604780764238, -73.92362170440514, 40.836944144801386] \n",
      "\n",
      "-> points in box 41:  [2812, 2886, 3256, 3108, 3182, 2960, 3330, 3034, 3257, 3331, 3109, 3183, 2813, 2961, 3035, 2887, 3258, 2888, 3110, 3332, 3184, 2814, 2962, 3036, 3037, 3185, 3111, 3259, 2963, 2815, 3333, 2889, 3186, 3038, 3334, 2964, 2816, 3260, 3112, 2890, 3187, 2817, 2965, 3335, 3039, 3261, 3113, 2891, 3040, 3114, 3262, 2966, 2818, 3188, 3336, 2892, 3189, 2893, 3041, 2967, 2819, 3337, 3115, 3263, 3042, 3190, 2894, 3338, 2820, 3116] \n",
      " bounding box:  [-73.94328300986996, 40.679653701082806, -73.92081294648159, 40.70493252239472] \n",
      "\n",
      "-> points in box 43:  [3199, 2903, 2977, 3273, 3200, 3052, 2830, 2978, 3348, 3126, 2904, 3274, 2831, 3349, 3201, 2979, 3053, 3275, 2905, 3127, 2832, 2906, 2980, 3202, 3054, 3276, 3128, 3350, 2907, 2981, 3203, 3129, 3277, 3055, 2833, 3351, 3130, 2982, 2908, 2834, 3056, 3204, 3278, 3352, 2909, 2983, 3057, 3205, 3131, 3279, 2835, 3353, 2984, 3206, 3132, 2836, 2910, 3058, 3280, 3354, 2985, 3207, 3133, 2837, 2911, 3281, 3059, 3355, 3208, 2986] \n",
      " bounding box:  [-73.94328300986996, 40.72740258578309, -73.92081294648159, 40.75549016501855] \n",
      "\n",
      "-> points in box 44:  [2912, 2838, 3282, 3060, 3134, 3356, 3283, 3061, 3209, 2839, 2987, 3135, 2913, 3357, 2914, 3062, 2840, 3358, 3136, 3210, 3284, 2988, 3211, 2915, 3285, 2841, 3063, 3137, 2989, 3359, 2842, 3212, 2916, 3064, 3138, 3286, 2990, 2843, 3065, 3139, 2917, 3213, 3287, 2991, 2918, 3066, 3140, 3214, 3288, 2844, 2992, 2919, 3141, 3215, 2845, 3067, 2993, 3289, 3068, 2846, 3142, 2920, 3290, 3216, 2994, 3143, 3291, 2921, 3217, 2995] \n",
      " bounding box:  [-73.94328300986996, 40.752681407095004, -73.92081294648159, 40.780768986330465] \n",
      "\n",
      "-> points in box 42:  [2968, 3264, 3339, 3117, 2821, 3265, 2969, 2895, 3191, 3043, 3340, 3118, 2896, 3266, 3044, 2970, 2822, 3192, 3193, 3119, 2897, 3045, 2971, 3267, 3341, 2823, 3194, 3046, 2824, 2898, 3120, 3268, 3342, 2972, 2825, 2899, 3195, 3047, 3343, 3121, 2973, 3269, 3048, 3344, 2826, 2974, 3122, 3270, 2900, 3196, 3197, 3123, 3049, 2827, 2975, 3271, 3345, 2901, 2902, 3198, 3346, 3050, 2828, 3124, 2976, 3272, 3051, 2829, 3347, 3125] \n",
      " bounding box:  [-73.94328300986996, 40.702123764471175, -73.92081294648159, 40.730211343706635] \n",
      "\n",
      "-> points in box 51:  [3432, 3728, 3580, 3654, 3506, 3507, 3433, 3729, 3581, 3655, 3508, 3434, 3360, 3730, 3656, 3582, 3731, 3435, 3509, 3583, 3657, 3361, 3584, 3436, 3732, 3362, 3658, 3510, 3585, 3437, 3733, 3659, 3363, 3511, 3364, 3438, 3734, 3586, 3512, 3660, 3735, 3587, 3365, 3513, 3661, 3439, 3588, 3736, 3514, 3366, 3662, 3440, 3589, 3367, 3737, 3515, 3663, 3441, 3368, 3664, 3738, 3442, 3516, 3590, 3369, 3739, 3665, 3517, 3591, 3443] \n",
      " bounding box:  [-73.92362170440514, 40.758298922942096, -73.90676915686386, 40.79200401802465] \n",
      "\n",
      "-> points in box 52:  [3370, 3444, 3740, 3666, 3518, 3592, 3371, 3741, 3519, 3445, 3593, 3667, 3372, 3742, 3520, 3446, 3594, 3668, 3373, 3743, 3447, 3521, 3595, 3669, 3374, 3448, 3522, 3670, 3744, 3596, 3375, 3449, 3523, 3745, 3671, 3597, 3450, 3598, 3672, 3524, 3376, 3746, 3451, 3747, 3377, 3599, 3673, 3525, 3600, 3378, 3452, 3674, 3526, 3748, 3379, 3527, 3601, 3453, 3675, 3749, 3676, 3602, 3528, 3454, 3380, 3750, 3677, 3381, 3603, 3529] \n",
      " bounding box:  [-73.92362170440514, 40.79200401802465, -73.90676915686386, 40.8257091131072] \n",
      "\n",
      "-> points in box 53:  [3455, 3751, 3678, 3530, 3604, 3382, 3456, 3752, 3605, 3457, 3679, 3531, 3383, 3753, 3680, 3458, 3532, 3606, 3384, 3754, 3533, 3385, 3607, 3681, 3459, 3755, 3756, 3386, 3460, 3534, 3608, 3682, 3535, 3387, 3461, 3683, 3609, 3757, 3536, 3388, 3610, 3684, 3462, 3758, 3611, 3389, 3685, 3463, 3537, 3759, 3538, 3612, 3390, 3464, 3686, 3760, 3539, 3687, 3391, 3613, 3465, 3761, 3540, 3466, 3392, 3614, 3688, 3762, 3541, 3393] \n",
      " bounding box:  [-73.92362170440514, 40.822900355183656, -73.90676915686386, 40.859414208189754] \n",
      "\n",
      "-> points in box 54:  [3467, 3615, 3689, 3763, 3690, 3394, 3542, 3468, 3616, 3764, 3543, 3765, 3617, 3395, 3691, 3469, 3544, 3766, 3618, 3396, 3692, 3470, 3545, 3767, 3619, 3397, 3693, 3471, 3768, 3620, 3694, 3398, 3546, 3472, 3473, 3769, 3695, 3621, 3547, 3399, 3696, 3400, 3548, 3474, 3622, 3770, 3697, 3401, 3549, 3475, 3623, 3771, 3402, 3550, 3476, 3624, 3698, 3772, 3477, 3625, 3403, 3551, 3699, 3773] \n",
      " bounding box:  [-73.92362170440514, 40.85660545026621, -73.90676915686386, 40.887501787425215] \n",
      "\n",
      "-> points in box 49:  [3552, 3478, 3700, 3626, 3404, 3405, 3701, 3479, 3553, 3627, 3480, 3554, 3702, 3628, 3406, 3407, 3481, 3629, 3555, 3703, 3408, 3482, 3630, 3704, 3556, 3409, 3705, 3631, 3557, 3483, 3410, 3706, 3558, 3632, 3484, 3411, 3633, 3559, 3707, 3485, 3634, 3708, 3412, 3486, 3560, 3709, 3487, 3635, 3413, 3561, 3710, 3636, 3488, 3414, 3562, 3415, 3711, 3637, 3489, 3563, 3564, 3638, 3416, 3490, 3712, 3713, 3639, 3565, 3491, 3417] \n",
      " bounding box:  [-73.92081294648159, 40.679653701082806, -73.90676915686386, 40.71897631201245] \n",
      "\n",
      "-> points in box 50:  [3566, 3492, 3418, 3640, 3714, 3567, 3641, 3715, 3419, 3493, 3716, 3420, 3568, 3642, 3494, 3717, 3495, 3569, 3421, 3643, 3718, 3422, 3644, 3570, 3496, 3719, 3423, 3571, 3645, 3497, 3572, 3646, 3720, 3424, 3498, 3425, 3647, 3499, 3573, 3721, 3648, 3722, 3500, 3574, 3426, 3501, 3427, 3649, 3575, 3723, 3650, 3576, 3428, 3724, 3502, 3577, 3651, 3503, 3429, 3725, 3726, 3578, 3504, 3652, 3430, 3431, 3727, 3505, 3579, 3653] \n",
      " bounding box:  [-73.92081294648159, 40.71897631201245, -73.90676915686386, 40.758298922942096] \n",
      "\n",
      "number of leaves: 54\n"
     ]
    }
   ],
   "source": [
    "classes_and_coordinates = []\n",
    "for leaf in r_tree.leaves():\n",
    "    idxs, indices, bbox = leaf\n",
    "    classes_and_coordinates.append([idxs,indices])\n",
    "    print(f'-> points in box {idxs}: ',  indices, '\\n bounding box: ', bbox, '\\n')\n",
    "print(f\"number of leaves: {len(r_tree.leaves())}\")"
   ]
  },
  {
   "cell_type": "code",
   "execution_count": 33,
   "id": "1743f04a-af49-44f5-9736-53d9b9848ff9",
   "metadata": {},
   "outputs": [],
   "source": [
    "boxes = []\n",
    "boxes_idx = 0\n",
    "for c in cell[\"geometry\"]:\n",
    "    boxes.append([boxes_idx,[]])\n",
    "    for p in ny_coordinates_gpd.loc[:,'geometry']:\n",
    "        if c.contains(p):\n",
    "            boxes[boxes_idx][1].append(p)\n",
    "    boxes_idx+=1"
   ]
  },
  {
   "cell_type": "code",
   "execution_count": 34,
   "id": "179b577b-21d8-4a72-8223-ed62c8dc9c2e",
   "metadata": {},
   "outputs": [
    {
     "name": "stdout",
     "output_type": "stream",
     "text": [
      "Grids with coordinates in them:  147\n"
     ]
    }
   ],
   "source": [
    "print(\"Grids with coordinates in them: \", len([b for b in boxes if bool(b[1])]))"
   ]
  },
  {
   "cell_type": "code",
   "execution_count": 35,
   "id": "8d548308-c6d8-41e3-8aee-bf38f5a339ef",
   "metadata": {},
   "outputs": [
    {
     "data": {
      "text/plain": [
       "[[899,\n",
       "  [<shapely.geometry.point.Point at 0x27b17ef5250>,\n",
       "   <shapely.geometry.point.Point at 0x27b17ef5280>,\n",
       "   <shapely.geometry.point.Point at 0x27b17ef52b0>,\n",
       "   <shapely.geometry.point.Point at 0x27b17ef52e0>,\n",
       "   <shapely.geometry.point.Point at 0x27b17ef5310>,\n",
       "   <shapely.geometry.point.Point at 0x27b17ef5340>,\n",
       "   <shapely.geometry.point.Point at 0x27b17ef5370>,\n",
       "   <shapely.geometry.point.Point at 0x27b17ef53a0>,\n",
       "   <shapely.geometry.point.Point at 0x27b17ef53d0>,\n",
       "   <shapely.geometry.point.Point at 0x27b17ef5400>,\n",
       "   <shapely.geometry.point.Point at 0x27b17ef5430>,\n",
       "   <shapely.geometry.point.Point at 0x27b17ef5460>,\n",
       "   <shapely.geometry.point.Point at 0x27b17ef5490>,\n",
       "   <shapely.geometry.point.Point at 0x27b17ef54c0>,\n",
       "   <shapely.geometry.point.Point at 0x27b17ef54f0>,\n",
       "   <shapely.geometry.point.Point at 0x27b17ef5520>]],\n",
       " [900,\n",
       "  [<shapely.geometry.point.Point at 0x27b17ef5070>,\n",
       "   <shapely.geometry.point.Point at 0x27b17ef50a0>,\n",
       "   <shapely.geometry.point.Point at 0x27b17ef50d0>,\n",
       "   <shapely.geometry.point.Point at 0x27b17ef5100>,\n",
       "   <shapely.geometry.point.Point at 0x27b17ef5130>,\n",
       "   <shapely.geometry.point.Point at 0x27b17ef5160>,\n",
       "   <shapely.geometry.point.Point at 0x27b17ef5190>,\n",
       "   <shapely.geometry.point.Point at 0x27b17ef51c0>,\n",
       "   <shapely.geometry.point.Point at 0x27b17ef51f0>,\n",
       "   <shapely.geometry.point.Point at 0x27b17ef5220>]],\n",
       " [972,\n",
       "  [<shapely.geometry.point.Point at 0x27b1e5e5d30>,\n",
       "   <shapely.geometry.point.Point at 0x27b1e5e5d60>,\n",
       "   <shapely.geometry.point.Point at 0x27b1e5e5d90>,\n",
       "   <shapely.geometry.point.Point at 0x27b1e5e5dc0>,\n",
       "   <shapely.geometry.point.Point at 0x27b1e5e5df0>,\n",
       "   <shapely.geometry.point.Point at 0x27b1e5e5e20>,\n",
       "   <shapely.geometry.point.Point at 0x27b1e5e5e50>,\n",
       "   <shapely.geometry.point.Point at 0x27b1e5e5e80>,\n",
       "   <shapely.geometry.point.Point at 0x27b1e5e5eb0>,\n",
       "   <shapely.geometry.point.Point at 0x27b1e5e5ee0>,\n",
       "   <shapely.geometry.point.Point at 0x27b1e5e5f10>,\n",
       "   <shapely.geometry.point.Point at 0x27b1e5e5f40>,\n",
       "   <shapely.geometry.point.Point at 0x27b1e5e5f70>,\n",
       "   <shapely.geometry.point.Point at 0x27b1e5e5fa0>,\n",
       "   <shapely.geometry.point.Point at 0x27b1e5e5fd0>,\n",
       "   <shapely.geometry.point.Point at 0x27b1e5ea040>,\n",
       "   <shapely.geometry.point.Point at 0x27b1e5ea070>,\n",
       "   <shapely.geometry.point.Point at 0x27b1e5ea0a0>,\n",
       "   <shapely.geometry.point.Point at 0x27b1e5ea0d0>,\n",
       "   <shapely.geometry.point.Point at 0x27b1e5ea100>,\n",
       "   <shapely.geometry.point.Point at 0x27b1e5ea130>,\n",
       "   <shapely.geometry.point.Point at 0x27b1e5ea160>,\n",
       "   <shapely.geometry.point.Point at 0x27b1e5ea190>,\n",
       "   <shapely.geometry.point.Point at 0x27b1e5ea1c0>,\n",
       "   <shapely.geometry.point.Point at 0x27b1e5ea1f0>]]]"
      ]
     },
     "execution_count": 35,
     "metadata": {},
     "output_type": "execute_result"
    }
   ],
   "source": [
    "labels_coordinates = [b for b in boxes if bool(b[1])]\n",
    "[b for b in boxes if bool(b[1])][:3]"
   ]
  },
  {
   "cell_type": "code",
   "execution_count": 36,
   "id": "47dbcfe0-50e1-470d-8b2e-c4395274cbb0",
   "metadata": {},
   "outputs": [
    {
     "data": {
      "text/plain": [
       "[899,\n",
       " [<shapely.geometry.point.Point at 0x27b17ef5250>,\n",
       "  <shapely.geometry.point.Point at 0x27b17ef5280>,\n",
       "  <shapely.geometry.point.Point at 0x27b17ef52b0>,\n",
       "  <shapely.geometry.point.Point at 0x27b17ef52e0>,\n",
       "  <shapely.geometry.point.Point at 0x27b17ef5310>,\n",
       "  <shapely.geometry.point.Point at 0x27b17ef5340>,\n",
       "  <shapely.geometry.point.Point at 0x27b17ef5370>,\n",
       "  <shapely.geometry.point.Point at 0x27b17ef53a0>,\n",
       "  <shapely.geometry.point.Point at 0x27b17ef53d0>,\n",
       "  <shapely.geometry.point.Point at 0x27b17ef5400>,\n",
       "  <shapely.geometry.point.Point at 0x27b17ef5430>,\n",
       "  <shapely.geometry.point.Point at 0x27b17ef5460>,\n",
       "  <shapely.geometry.point.Point at 0x27b17ef5490>,\n",
       "  <shapely.geometry.point.Point at 0x27b17ef54c0>,\n",
       "  <shapely.geometry.point.Point at 0x27b17ef54f0>,\n",
       "  <shapely.geometry.point.Point at 0x27b17ef5520>]]"
      ]
     },
     "execution_count": 36,
     "metadata": {},
     "output_type": "execute_result"
    }
   ],
   "source": [
    "labels_coordinates[0]"
   ]
  },
  {
   "cell_type": "code",
   "execution_count": 54,
   "id": "97b428d0-ef53-44be-98ca-7ea8b0901e15",
   "metadata": {},
   "outputs": [],
   "source": [
    "data = []\n",
    "for i in range(len(labels_coordinates)):\n",
    "    # print(labels_coordinates[i][1])\n",
    "    for j in range(len(labels_coordinates[i][1])):\n",
    "        data.append([np.array([labels_coordinates[i][1][j].y,labels_coordinates[i][1][j].x]), labels_coordinates[i][0]])"
   ]
  },
  {
   "cell_type": "code",
   "execution_count": 59,
   "id": "0a0dc2f8-20cf-4909-b3ae-3c350895047b",
   "metadata": {},
   "outputs": [
    {
     "data": {
      "text/plain": [
       "[[array([ 40.7133  , -74.013921]), 899],\n",
       " [array([ 40.71319 , -74.013953]), 899],\n",
       " [array([ 40.713105, -74.013975]), 899],\n",
       " [array([ 40.71302 , -74.013997]), 899],\n",
       " [array([ 40.712933, -74.014019]), 899],\n",
       " [array([ 40.712844, -74.014042]), 899],\n",
       " [array([ 40.712753, -74.014066]), 899],\n",
       " [array([ 40.712658, -74.01409 ]), 899],\n",
       " [array([ 40.712463, -74.01414 ]), 899],\n",
       " [array([ 40.712359, -74.014167]), 899],\n",
       " [array([ 40.712249, -74.014195]), 899],\n",
       " [array([ 40.71203 , -74.014252]), 899],\n",
       " [array([ 40.71192, -74.01428]), 899],\n",
       " [array([ 40.71181 , -74.014308]), 899],\n",
       " [array([ 40.711696, -74.014338]), 899],\n",
       " [array([ 40.711575, -74.014369]), 899],\n",
       " [array([ 40.714201, -74.013509]), 900],\n",
       " [array([ 40.714095, -74.013532]), 900],\n",
       " [array([ 40.714006, -74.01355 ]), 900],\n",
       " [array([ 40.7139  , -74.013607]), 900],\n",
       " [array([ 40.713817, -74.013664]), 900],\n",
       " [array([ 40.713719, -74.013732]), 900],\n",
       " [array([ 40.713687, -74.013753]), 900],\n",
       " [array([ 40.713604, -74.013802]), 900],\n",
       " [array([ 40.713496, -74.01385 ]), 900],\n",
       " [array([ 40.713393, -74.013891]), 900],\n",
       " [array([ 40.70776 , -74.012952]), 972],\n",
       " [array([ 40.707942, -74.012834]), 972],\n",
       " [array([ 40.708032, -74.012776]), 972],\n",
       " [array([ 40.708123, -74.012718]), 972],\n",
       " [array([ 40.708208, -74.012663]), 972],\n",
       " [array([ 40.70829, -74.01261]), 972],\n",
       " [array([ 40.708378, -74.012553]), 972],\n",
       " [array([ 40.708469, -74.012495]), 972],\n",
       " [array([ 40.708555, -74.012439]), 972],\n",
       " [array([ 40.708647, -74.01238 ]), 972],\n",
       " [array([ 40.708737, -74.012322]), 972],\n",
       " [array([ 40.708827, -74.012264]), 972],\n",
       " [array([ 40.708915, -74.012207]), 972],\n",
       " [array([ 40.708998, -74.012154]), 972]]"
      ]
     },
     "execution_count": 59,
     "metadata": {},
     "output_type": "execute_result"
    }
   ],
   "source": [
    "data[:40]"
   ]
  },
  {
   "cell_type": "code",
   "execution_count": 60,
   "id": "0f47bf41-714c-4081-9862-4586a146b233",
   "metadata": {},
   "outputs": [],
   "source": [
    "import pickle\n",
    "\n",
    "with open('grid_coordinates.pkl', 'wb') as f:\n",
    "    pickle.dump(data, f)"
   ]
  },
  {
   "cell_type": "code",
   "execution_count": 61,
   "id": "396fd03c-5d84-43bb-94bd-da1a5ba0d94b",
   "metadata": {},
   "outputs": [
    {
     "data": {
      "text/plain": [
       "3774"
      ]
     },
     "execution_count": 61,
     "metadata": {},
     "output_type": "execute_result"
    }
   ],
   "source": [
    "len(cell)"
   ]
  },
  {
   "cell_type": "code",
   "execution_count": null,
   "id": "685f4567-0136-4248-82bc-f7b25d38d709",
   "metadata": {},
   "outputs": [],
   "source": []
  }
 ],
 "metadata": {
  "kernelspec": {
   "display_name": "Python 3 (ipykernel)",
   "language": "python",
   "name": "python3"
  },
  "language_info": {
   "codemirror_mode": {
    "name": "ipython",
    "version": 3
   },
   "file_extension": ".py",
   "mimetype": "text/x-python",
   "name": "python",
   "nbconvert_exporter": "python",
   "pygments_lexer": "ipython3",
   "version": "3.8.8"
  }
 },
 "nbformat": 4,
 "nbformat_minor": 5
}
